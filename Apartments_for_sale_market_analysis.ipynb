{
 "cells": [
  {
   "cell_type": "markdown",
   "metadata": {},
   "source": [
    "# Исследование объявлений о продаже квартир\n",
    "\n",
    "В нашем распоряжении данные сервиса Яндекс.Недвижимость — архив объявлений о продаже квартир в Санкт-Петербурге и соседних населённых пунктов за несколько лет. Нужно научиться определять рыночную стоимость объектов недвижимости. Наша задача — установить параметры. Это позволит построить автоматизированную систему: она отследит аномалии и мошенническую деятельность. \n",
    "\n",
    "По каждой квартире на продажу доступны два вида данных. Первые вписаны пользователем, вторые — получены автоматически на основе картографических данных. Например, расстояние до центра, аэропорта, ближайшего парка и водоёма. "
   ]
  },
  {
   "cell_type": "markdown",
   "metadata": {},
   "source": [
    "### Откроем файл с данными и изучим общую информацию. "
   ]
  },
  {
   "cell_type": "code",
   "execution_count": 1,
   "metadata": {},
   "outputs": [],
   "source": [
    "import pandas as pd\n",
    "import matplotlib.pyplot as plt"
   ]
  },
  {
   "cell_type": "markdown",
   "metadata": {},
   "source": [
    "<strong>Изучим общую информацию, полученную о датафрейме. </strong>"
   ]
  },
  {
   "cell_type": "code",
   "execution_count": 2,
   "metadata": {},
   "outputs": [
    {
     "name": "stdout",
     "output_type": "stream",
     "text": [
      "<class 'pandas.core.frame.DataFrame'>\n",
      "RangeIndex: 23699 entries, 0 to 23698\n",
      "Data columns (total 22 columns):\n",
      " #   Column                Non-Null Count  Dtype  \n",
      "---  ------                --------------  -----  \n",
      " 0   total_images          23699 non-null  int64  \n",
      " 1   last_price            23699 non-null  float64\n",
      " 2   total_area            23699 non-null  float64\n",
      " 3   first_day_exposition  23699 non-null  object \n",
      " 4   rooms                 23699 non-null  int64  \n",
      " 5   ceiling_height        14504 non-null  float64\n",
      " 6   floors_total          23613 non-null  float64\n",
      " 7   living_area           21796 non-null  float64\n",
      " 8   floor                 23699 non-null  int64  \n",
      " 9   is_apartment          2775 non-null   object \n",
      " 10  studio                23699 non-null  bool   \n",
      " 11  open_plan             23699 non-null  bool   \n",
      " 12  kitchen_area          21421 non-null  float64\n",
      " 13  balcony               12180 non-null  float64\n",
      " 14  locality_name         23650 non-null  object \n",
      " 15  airports_nearest      18157 non-null  float64\n",
      " 16  cityCenters_nearest   18180 non-null  float64\n",
      " 17  parks_around3000      18181 non-null  float64\n",
      " 18  parks_nearest         8079 non-null   float64\n",
      " 19  ponds_around3000      18181 non-null  float64\n",
      " 20  ponds_nearest         9110 non-null   float64\n",
      " 21  days_exposition       20518 non-null  float64\n",
      "dtypes: bool(2), float64(14), int64(3), object(3)\n",
      "memory usage: 3.7+ MB\n"
     ]
    },
    {
     "data": {
      "text/html": [
       "<div>\n",
       "<style scoped>\n",
       "    .dataframe tbody tr th:only-of-type {\n",
       "        vertical-align: middle;\n",
       "    }\n",
       "\n",
       "    .dataframe tbody tr th {\n",
       "        vertical-align: top;\n",
       "    }\n",
       "\n",
       "    .dataframe thead th {\n",
       "        text-align: right;\n",
       "    }\n",
       "</style>\n",
       "<table border=\"1\" class=\"dataframe\">\n",
       "  <thead>\n",
       "    <tr style=\"text-align: right;\">\n",
       "      <th></th>\n",
       "      <th>total_images</th>\n",
       "      <th>last_price</th>\n",
       "      <th>total_area</th>\n",
       "      <th>first_day_exposition</th>\n",
       "      <th>rooms</th>\n",
       "      <th>ceiling_height</th>\n",
       "      <th>floors_total</th>\n",
       "      <th>living_area</th>\n",
       "      <th>floor</th>\n",
       "      <th>is_apartment</th>\n",
       "      <th>...</th>\n",
       "      <th>kitchen_area</th>\n",
       "      <th>balcony</th>\n",
       "      <th>locality_name</th>\n",
       "      <th>airports_nearest</th>\n",
       "      <th>cityCenters_nearest</th>\n",
       "      <th>parks_around3000</th>\n",
       "      <th>parks_nearest</th>\n",
       "      <th>ponds_around3000</th>\n",
       "      <th>ponds_nearest</th>\n",
       "      <th>days_exposition</th>\n",
       "    </tr>\n",
       "  </thead>\n",
       "  <tbody>\n",
       "    <tr>\n",
       "      <th>0</th>\n",
       "      <td>20</td>\n",
       "      <td>13000000.0</td>\n",
       "      <td>108.0</td>\n",
       "      <td>2019-03-07T00:00:00</td>\n",
       "      <td>3</td>\n",
       "      <td>2.70</td>\n",
       "      <td>16.0</td>\n",
       "      <td>51.0</td>\n",
       "      <td>8</td>\n",
       "      <td>NaN</td>\n",
       "      <td>...</td>\n",
       "      <td>25.0</td>\n",
       "      <td>NaN</td>\n",
       "      <td>Санкт-Петербург</td>\n",
       "      <td>18863.0</td>\n",
       "      <td>16028.0</td>\n",
       "      <td>1.0</td>\n",
       "      <td>482.0</td>\n",
       "      <td>2.0</td>\n",
       "      <td>755.0</td>\n",
       "      <td>NaN</td>\n",
       "    </tr>\n",
       "    <tr>\n",
       "      <th>1</th>\n",
       "      <td>7</td>\n",
       "      <td>3350000.0</td>\n",
       "      <td>40.4</td>\n",
       "      <td>2018-12-04T00:00:00</td>\n",
       "      <td>1</td>\n",
       "      <td>NaN</td>\n",
       "      <td>11.0</td>\n",
       "      <td>18.6</td>\n",
       "      <td>1</td>\n",
       "      <td>NaN</td>\n",
       "      <td>...</td>\n",
       "      <td>11.0</td>\n",
       "      <td>2.0</td>\n",
       "      <td>посёлок Шушары</td>\n",
       "      <td>12817.0</td>\n",
       "      <td>18603.0</td>\n",
       "      <td>0.0</td>\n",
       "      <td>NaN</td>\n",
       "      <td>0.0</td>\n",
       "      <td>NaN</td>\n",
       "      <td>81.0</td>\n",
       "    </tr>\n",
       "    <tr>\n",
       "      <th>2</th>\n",
       "      <td>10</td>\n",
       "      <td>5196000.0</td>\n",
       "      <td>56.0</td>\n",
       "      <td>2015-08-20T00:00:00</td>\n",
       "      <td>2</td>\n",
       "      <td>NaN</td>\n",
       "      <td>5.0</td>\n",
       "      <td>34.3</td>\n",
       "      <td>4</td>\n",
       "      <td>NaN</td>\n",
       "      <td>...</td>\n",
       "      <td>8.3</td>\n",
       "      <td>0.0</td>\n",
       "      <td>Санкт-Петербург</td>\n",
       "      <td>21741.0</td>\n",
       "      <td>13933.0</td>\n",
       "      <td>1.0</td>\n",
       "      <td>90.0</td>\n",
       "      <td>2.0</td>\n",
       "      <td>574.0</td>\n",
       "      <td>558.0</td>\n",
       "    </tr>\n",
       "    <tr>\n",
       "      <th>3</th>\n",
       "      <td>0</td>\n",
       "      <td>64900000.0</td>\n",
       "      <td>159.0</td>\n",
       "      <td>2015-07-24T00:00:00</td>\n",
       "      <td>3</td>\n",
       "      <td>NaN</td>\n",
       "      <td>14.0</td>\n",
       "      <td>NaN</td>\n",
       "      <td>9</td>\n",
       "      <td>NaN</td>\n",
       "      <td>...</td>\n",
       "      <td>NaN</td>\n",
       "      <td>0.0</td>\n",
       "      <td>Санкт-Петербург</td>\n",
       "      <td>28098.0</td>\n",
       "      <td>6800.0</td>\n",
       "      <td>2.0</td>\n",
       "      <td>84.0</td>\n",
       "      <td>3.0</td>\n",
       "      <td>234.0</td>\n",
       "      <td>424.0</td>\n",
       "    </tr>\n",
       "    <tr>\n",
       "      <th>4</th>\n",
       "      <td>2</td>\n",
       "      <td>10000000.0</td>\n",
       "      <td>100.0</td>\n",
       "      <td>2018-06-19T00:00:00</td>\n",
       "      <td>2</td>\n",
       "      <td>3.03</td>\n",
       "      <td>14.0</td>\n",
       "      <td>32.0</td>\n",
       "      <td>13</td>\n",
       "      <td>NaN</td>\n",
       "      <td>...</td>\n",
       "      <td>41.0</td>\n",
       "      <td>NaN</td>\n",
       "      <td>Санкт-Петербург</td>\n",
       "      <td>31856.0</td>\n",
       "      <td>8098.0</td>\n",
       "      <td>2.0</td>\n",
       "      <td>112.0</td>\n",
       "      <td>1.0</td>\n",
       "      <td>48.0</td>\n",
       "      <td>121.0</td>\n",
       "    </tr>\n",
       "  </tbody>\n",
       "</table>\n",
       "<p>5 rows × 22 columns</p>\n",
       "</div>"
      ],
      "text/plain": [
       "   total_images  last_price  total_area first_day_exposition  rooms  \\\n",
       "0            20  13000000.0       108.0  2019-03-07T00:00:00      3   \n",
       "1             7   3350000.0        40.4  2018-12-04T00:00:00      1   \n",
       "2            10   5196000.0        56.0  2015-08-20T00:00:00      2   \n",
       "3             0  64900000.0       159.0  2015-07-24T00:00:00      3   \n",
       "4             2  10000000.0       100.0  2018-06-19T00:00:00      2   \n",
       "\n",
       "   ceiling_height  floors_total  living_area  floor is_apartment  ...  \\\n",
       "0            2.70          16.0         51.0      8          NaN  ...   \n",
       "1             NaN          11.0         18.6      1          NaN  ...   \n",
       "2             NaN           5.0         34.3      4          NaN  ...   \n",
       "3             NaN          14.0          NaN      9          NaN  ...   \n",
       "4            3.03          14.0         32.0     13          NaN  ...   \n",
       "\n",
       "   kitchen_area  balcony    locality_name  airports_nearest  \\\n",
       "0          25.0      NaN  Санкт-Петербург           18863.0   \n",
       "1          11.0      2.0   посёлок Шушары           12817.0   \n",
       "2           8.3      0.0  Санкт-Петербург           21741.0   \n",
       "3           NaN      0.0  Санкт-Петербург           28098.0   \n",
       "4          41.0      NaN  Санкт-Петербург           31856.0   \n",
       "\n",
       "  cityCenters_nearest  parks_around3000  parks_nearest  ponds_around3000  \\\n",
       "0             16028.0               1.0          482.0               2.0   \n",
       "1             18603.0               0.0            NaN               0.0   \n",
       "2             13933.0               1.0           90.0               2.0   \n",
       "3              6800.0               2.0           84.0               3.0   \n",
       "4              8098.0               2.0          112.0               1.0   \n",
       "\n",
       "   ponds_nearest  days_exposition  \n",
       "0          755.0              NaN  \n",
       "1            NaN             81.0  \n",
       "2          574.0            558.0  \n",
       "3          234.0            424.0  \n",
       "4           48.0            121.0  \n",
       "\n",
       "[5 rows x 22 columns]"
      ]
     },
     "execution_count": 2,
     "metadata": {},
     "output_type": "execute_result"
    }
   ],
   "source": [
    "data = pd.read_csv('/datasets/real_estate_data.csv', sep='\\t') \n",
    "data.info()\n",
    "data.head()"
   ]
  },
  {
   "cell_type": "markdown",
   "metadata": {},
   "source": [
    "<strong>В нашем датафрейме 22 столбца и 23699 строк. </strong>"
   ]
  },
  {
   "cell_type": "markdown",
   "metadata": {},
   "source": [
    "<strong>Построим гистограммы для каждого столбца</strong>"
   ]
  },
  {
   "cell_type": "code",
   "execution_count": 4,
   "metadata": {},
   "outputs": [
    {
     "data": {
      "image/png": "[encoded data removed]",
      "text/plain": [
       "<Figure size 1080x1440 with 20 Axes>"
      ]
     },
     "metadata": {
      "needs_background": "light"
     },
     "output_type": "display_data"
    }
   ],
   "source": [
    "data.hist(figsize=(15, 20))\n",
    "None"
   ]
  },
  {
   "cell_type": "markdown",
   "metadata": {},
   "source": [
    "**Можно приступать к предобработке данных, обязательно переименуем необходимые столбцы, чтобы привести их к \"правильному\" стилю, определим пропущенные значения в столбцах и там, где будет возможно, обработаем их, обязательно еще исправим типы данных.**"
   ]
  },
  {
   "cell_type": "markdown",
   "metadata": {},
   "source": [
    "### Предобработка данных"
   ]
  },
  {
   "cell_type": "markdown",
   "metadata": {},
   "source": [
    "<strong>Переименуем столбец \"cityCenters_nearest\", чтобы название было написано в одном регистре и слова были разделены подчеркиванием</strong>"
   ]
  },
  {
   "cell_type": "code",
   "execution_count": 5,
   "metadata": {},
   "outputs": [],
   "source": [
    "data.rename(columns = {'cityCenters_nearest': 'city_centers_nearest'}, inplace = True)"
   ]
  },
  {
   "cell_type": "markdown",
   "metadata": {},
   "source": [
    "<strong>Определим пропущенные значения, посмотрим в каких столбцах они есть </strong>"
   ]
  },
  {
   "cell_type": "code",
   "execution_count": 6,
   "metadata": {},
   "outputs": [
    {
     "data": {
      "text/plain": [
       "101441"
      ]
     },
     "execution_count": 6,
     "metadata": {},
     "output_type": "execute_result"
    }
   ],
   "source": [
    "data.isnull().sum().sum() #общее количество пропущенных значений в датафрейме "
   ]
  },
  {
   "cell_type": "code",
   "execution_count": 7,
   "metadata": {
    "scrolled": true
   },
   "outputs": [
    {
     "data": {
      "text/plain": [
       "total_images                0\n",
       "last_price                  0\n",
       "total_area                  0\n",
       "first_day_exposition        0\n",
       "rooms                       0\n",
       "ceiling_height           9195\n",
       "floors_total               86\n",
       "living_area              1903\n",
       "floor                       0\n",
       "is_apartment            20924\n",
       "studio                      0\n",
       "open_plan                   0\n",
       "kitchen_area             2278\n",
       "balcony                 11519\n",
       "locality_name              49\n",
       "airports_nearest         5542\n",
       "city_centers_nearest     5519\n",
       "parks_around3000         5518\n",
       "parks_nearest           15620\n",
       "ponds_around3000         5518\n",
       "ponds_nearest           14589\n",
       "days_exposition          3181\n",
       "dtype: int64"
      ]
     },
     "execution_count": 7,
     "metadata": {},
     "output_type": "execute_result"
    }
   ],
   "source": [
    "data.isnull().sum() #количество пропущенных значений в каждом столбце"
   ]
  },
  {
   "cell_type": "code",
   "execution_count": 8,
   "metadata": {},
   "outputs": [
    {
     "data": {
      "text/plain": [
       "total_images             0.0\n",
       "last_price               0.0\n",
       "total_area               0.0\n",
       "first_day_exposition     0.0\n",
       "rooms                    0.0\n",
       "ceiling_height          39.0\n",
       "floors_total             0.0\n",
       "living_area              8.0\n",
       "floor                    0.0\n",
       "is_apartment            88.0\n",
       "studio                   0.0\n",
       "open_plan                0.0\n",
       "kitchen_area            10.0\n",
       "balcony                 49.0\n",
       "locality_name            0.0\n",
       "airports_nearest        23.0\n",
       "city_centers_nearest    23.0\n",
       "parks_around3000        23.0\n",
       "parks_nearest           66.0\n",
       "ponds_around3000        23.0\n",
       "ponds_nearest           62.0\n",
       "days_exposition         13.0\n",
       "dtype: float64"
      ]
     },
     "execution_count": 8,
     "metadata": {},
     "output_type": "execute_result"
    }
   ],
   "source": [
    "(data.isnull().mean() * 100).round()"
   ]
  },
  {
   "cell_type": "markdown",
   "metadata": {},
   "source": [
    "_**Попробуем разобраться с пропусками в каждом столбце и заменим их там, где это возможно**_\n",
    "\n",
    "* ceiling_height - высота потолков (м): оставим пропущенные значения, логичную замену предложить сложно, как и удалить их - ведь это почти **40% наших данных.** \n",
    "\n",
    "\n",
    "* floors_total - количество этажей в доме: пропущенные значения в этом столбце можно объяснить тем, что в доме всего один этаж, либо продавец случайно или намеренно не стал предоставлять эту информацию. Таких значений пропущено совсем немного.   (**< 1% от наших даных.**) Можно их удалить.\n",
    "\n",
    "\n",
    "* living_area - жилая площадь в квадратных метрах (м²): заменить пропущенные данные не предоставляется возможным, как и удалить их. Ведь это целых **7% наших данных**.\n",
    "\n",
    "\n",
    "* is_apartment - апартаменты (булев тип): такое большое количество пропущенных значений можно объяснить тем, что это совсем новый вид жилья, **пропущенные значения можно заменить на False**.\n",
    "\n",
    "\n",
    "* kitchen_area - площадь кухни в квадратных метрах (м²): предложить замену пропущенным данным невозможно, как и удалить их (**это почти 10% наших данных**). И ведь, например,  в квартирах-студиях может и не быть кухни, как и соотвественно ее площади.\n",
    "\n",
    "\n",
    "* balcony - число балконов: продавец не указал число балконов, вероятнее всего их нет. Пропущенные значения было бы правильно **заменить на 0**.\n",
    "\n",
    "\n",
    "* locality_name - название населённого пункта: пропущенные значения могли появиться по причине того, что продавец случайно или намеренно не указал эти данные. **Заменим их значением \"Не задано\"**, для относительного определения географического положения можно использовать данные из других столбцов.\n",
    "\n",
    "\n",
    "* airports_nearest - расстояние до ближайшего аэропорта в метрах (м), city_centers_nearest - расстояние до центра города (м), parks_around3000 - число парков в радиусе 3 км, parks_nearest - расстояние до ближайшего парка (м), ponds_around3000 - расстояние до ближайшего водоёма (м), ponds_nearest - расстояние до ближайшего водоёма (м): данные в этих столбцах заполнялись автоматически на основе картографических данных, заменить их не проедоставляется возможным. Пропущенные значения в этих столбцах возможно появились из-за технической ошибки или из-за ошибки определения геолокации. Удалить строки с данными пропущенными значениями мы не можем - они занимают большую часть датафрейма (**больше 75%**).\n",
    "\n",
    "\n",
    "* days_exposition - сколько дней было размещено объявление (от публикации до снятия): пропущенные значения вероятнее всего означают, что объявление всё ещё актуально и размещено. **Оставим  пропущенные значения**.\n"
   ]
  },
  {
   "cell_type": "markdown",
   "metadata": {},
   "source": [
    "_**Приступим к изменениям, изложенным выше!**_"
   ]
  },
  {
   "cell_type": "markdown",
   "metadata": {},
   "source": [
    "<strong>Удалим пропущенные значения в floors_total</strong>"
   ]
  },
  {
   "cell_type": "code",
   "execution_count": 9,
   "metadata": {},
   "outputs": [
    {
     "name": "stdout",
     "output_type": "stream",
     "text": [
      "<class 'pandas.core.frame.DataFrame'>\n",
      "Int64Index: 23613 entries, 0 to 23698\n",
      "Data columns (total 22 columns):\n",
      " #   Column                Non-Null Count  Dtype  \n",
      "---  ------                --------------  -----  \n",
      " 0   total_images          23613 non-null  int64  \n",
      " 1   last_price            23613 non-null  float64\n",
      " 2   total_area            23613 non-null  float64\n",
      " 3   first_day_exposition  23613 non-null  object \n",
      " 4   rooms                 23613 non-null  int64  \n",
      " 5   ceiling_height        14495 non-null  float64\n",
      " 6   floors_total          23613 non-null  float64\n",
      " 7   living_area           21743 non-null  float64\n",
      " 8   floor                 23613 non-null  int64  \n",
      " 9   is_apartment          2775 non-null   object \n",
      " 10  studio                23613 non-null  bool   \n",
      " 11  open_plan             23613 non-null  bool   \n",
      " 12  kitchen_area          21382 non-null  float64\n",
      " 13  balcony               12133 non-null  float64\n",
      " 14  locality_name         23565 non-null  object \n",
      " 15  airports_nearest      18081 non-null  float64\n",
      " 16  city_centers_nearest  18104 non-null  float64\n",
      " 17  parks_around3000      18105 non-null  float64\n",
      " 18  parks_nearest         8045 non-null   float64\n",
      " 19  ponds_around3000      18105 non-null  float64\n",
      " 20  ponds_nearest         9061 non-null   float64\n",
      " 21  days_exposition       20441 non-null  float64\n",
      "dtypes: bool(2), float64(14), int64(3), object(3)\n",
      "memory usage: 3.8+ MB\n"
     ]
    }
   ],
   "source": [
    "data = data.dropna(subset=['floors_total'])\n",
    "data.info()"
   ]
  },
  {
   "cell_type": "markdown",
   "metadata": {},
   "source": [
    "<strong>Заменим пропущенные значения в is_apartment на False</strong>"
   ]
  },
  {
   "cell_type": "code",
   "execution_count": 10,
   "metadata": {},
   "outputs": [
    {
     "data": {
      "text/plain": [
       "False    23563\n",
       "True        50\n",
       "Name: is_apartment, dtype: int64"
      ]
     },
     "execution_count": 10,
     "metadata": {},
     "output_type": "execute_result"
    }
   ],
   "source": [
    "data['is_apartment'] = data['is_apartment'].fillna(False)\n",
    "data['is_apartment'].value_counts()"
   ]
  },
  {
   "cell_type": "markdown",
   "metadata": {},
   "source": [
    "<strong>Заменим пропущенные значения в balcony на 0</strong>"
   ]
  },
  {
   "cell_type": "code",
   "execution_count": 11,
   "metadata": {},
   "outputs": [],
   "source": [
    "data['balcony'] = data['balcony'].fillna(0)"
   ]
  },
  {
   "cell_type": "markdown",
   "metadata": {},
   "source": [
    "<strong>Заменим пропущенные значения в locality_name на параметр \"Не задано\"</strong>"
   ]
  },
  {
   "cell_type": "code",
   "execution_count": 12,
   "metadata": {},
   "outputs": [],
   "source": [
    "data['locality_name'] = data['locality_name'].fillna('Не задано')"
   ]
  },
  {
   "cell_type": "markdown",
   "metadata": {},
   "source": [
    "**Перейдем к изменению типов данных.**"
   ]
  },
  {
   "cell_type": "markdown",
   "metadata": {},
   "source": [
    "В ходе обработки пропущенных значений мы выяснили, что некоторые из них убрать не получиться, а следовательно преобразовать их типы также не выйдет.\n",
    "\n",
    "* 'first_day_exposition' - преобразуем к типу 'datetime'. Чтобы мы могли корректно могли манипулировать датой.\n",
    "* 'last_price', 'floors_total', 'balcony' - преобразуем целочисленному типу. Они не могут быть другого типа.\n",
    "* 'is_apartment' - сделаем логического типа."
   ]
  },
  {
   "cell_type": "markdown",
   "metadata": {},
   "source": [
    "_**Приступим к изменениям, изложенным выше!**_"
   ]
  },
  {
   "cell_type": "markdown",
   "metadata": {},
   "source": [
    "last_price', 'floors_total', 'balcony' - преобразуем целочисленному типу."
   ]
  },
  {
   "cell_type": "code",
   "execution_count": 13,
   "metadata": {},
   "outputs": [
    {
     "data": {
      "text/plain": [
       "last_price      int64\n",
       "balcony         int64\n",
       "floors_total    int64\n",
       "dtype: object"
      ]
     },
     "execution_count": 13,
     "metadata": {},
     "output_type": "execute_result"
    }
   ],
   "source": [
    "data[['last_price', 'balcony', 'floors_total']] = data[['last_price', 'balcony', 'floors_total']].apply(lambda x: x.astype('int64'))\n",
    "data[['last_price', 'balcony', 'floors_total']].dtypes"
   ]
  },
  {
   "cell_type": "markdown",
   "metadata": {},
   "source": [
    "'is_apartment' - сделаем логического типа."
   ]
  },
  {
   "cell_type": "code",
   "execution_count": 14,
   "metadata": {},
   "outputs": [
    {
     "data": {
      "text/plain": [
       "BooleanDtype"
      ]
     },
     "execution_count": 14,
     "metadata": {},
     "output_type": "execute_result"
    }
   ],
   "source": [
    "data['is_apartment'] = data['is_apartment'].astype('boolean')\n",
    "data['is_apartment'].dtypes"
   ]
  },
  {
   "cell_type": "markdown",
   "metadata": {},
   "source": [
    "'first_day_exposition' - преобразуем к типу 'datetime'"
   ]
  },
  {
   "cell_type": "code",
   "execution_count": 15,
   "metadata": {},
   "outputs": [
    {
     "data": {
      "text/plain": [
       "total_images                     int64\n",
       "last_price                       int64\n",
       "total_area                     float64\n",
       "first_day_exposition    datetime64[ns]\n",
       "rooms                            int64\n",
       "ceiling_height                 float64\n",
       "floors_total                     int64\n",
       "living_area                    float64\n",
       "floor                            int64\n",
       "is_apartment                   boolean\n",
       "studio                            bool\n",
       "open_plan                         bool\n",
       "kitchen_area                   float64\n",
       "balcony                          int64\n",
       "locality_name                   object\n",
       "airports_nearest               float64\n",
       "city_centers_nearest           float64\n",
       "parks_around3000               float64\n",
       "parks_nearest                  float64\n",
       "ponds_around3000               float64\n",
       "ponds_nearest                  float64\n",
       "days_exposition                float64\n",
       "dtype: object"
      ]
     },
     "execution_count": 15,
     "metadata": {},
     "output_type": "execute_result"
    }
   ],
   "source": [
    "data['first_day_exposition'] = pd.to_datetime(data['first_day_exposition'], format='%Y-%m-%dT%H:%M:%S')\n",
    "data.dtypes"
   ]
  },
  {
   "cell_type": "markdown",
   "metadata": {},
   "source": [
    "**Успешно применили все изменения!**"
   ]
  },
  {
   "cell_type": "markdown",
   "metadata": {},
   "source": [
    "**Изучим уникальные значения в столбце с названиями и устраните яные и неявные дубликаты.**"
   ]
  },
  {
   "cell_type": "code",
   "execution_count": 16,
   "metadata": {},
   "outputs": [
    {
     "data": {
      "text/plain": [
       "0"
      ]
     },
     "execution_count": 16,
     "metadata": {},
     "output_type": "execute_result"
    }
   ],
   "source": [
    "data.duplicated().sum()"
   ]
  },
  {
   "cell_type": "markdown",
   "metadata": {},
   "source": [
    "**Явных дубликатов в DataFrame не обнаружено**"
   ]
  },
  {
   "cell_type": "code",
   "execution_count": 17,
   "metadata": {},
   "outputs": [
    {
     "data": {
      "text/plain": [
       "array(['Бокситогорск', 'Волосово', 'Волхов', 'Всеволожск', 'Выборг',\n",
       "       'Высоцк', 'Гатчина', 'Зеленогорск', 'Ивангород', 'Каменногорск',\n",
       "       'Кингисепп', 'Кириши', 'Кировск', 'Колпино', 'Коммунар',\n",
       "       'Красное Село', 'Кронштадт', 'Кудрово', 'Лодейное Поле',\n",
       "       'Ломоносов', 'Луга', 'Любань', 'Мурино', 'Не задано', 'Никольское',\n",
       "       'Новая Ладога', 'Отрадное', 'Павловск', 'Петергоф', 'Пикалёво',\n",
       "       'Подпорожье', 'Приморск', 'Приозерск', 'Пушкин', 'Санкт-Петербург',\n",
       "       'Светогорск', 'Сертолово', 'Сестрорецк', 'Сланцы', 'Сосновый Бор',\n",
       "       'Сясьстрой', 'Тихвин', 'Тосно', 'Шлиссельбург',\n",
       "       'городской поселок Большая Ижора', 'городской поселок Янино-1',\n",
       "       'городской посёлок Будогощь', 'городской посёлок Виллози',\n",
       "       'городской посёлок Лесогорский', 'городской посёлок Мга',\n",
       "       'городской посёлок Назия', 'городской посёлок Новоселье',\n",
       "       'городской посёлок Павлово', 'городской посёлок Рощино',\n",
       "       'городской посёлок Свирьстрой', 'городской посёлок Советский',\n",
       "       'городской посёлок Фёдоровское', 'городской посёлок Янино-1',\n",
       "       'деревня Агалатово', 'деревня Аро', 'деревня Батово',\n",
       "       'деревня Бегуницы', 'деревня Белогорка', 'деревня Большая Вруда',\n",
       "       'деревня Большая Пустомержа', 'деревня Большие Колпаны',\n",
       "       'деревня Большое Рейзино', 'деревня Большой Сабск', 'деревня Бор',\n",
       "       'деревня Борисова Грива', 'деревня Ваганово', 'деревня Вартемяги',\n",
       "       'деревня Вахнова Кара', 'деревня Выскатка', 'деревня Гарболово',\n",
       "       'деревня Глинка', 'деревня Горбунки', 'деревня Гостилицы',\n",
       "       'деревня Заклинье', 'деревня Заневка', 'деревня Зимитицы',\n",
       "       'деревня Извара', 'деревня Иссад', 'деревня Калитино',\n",
       "       'деревня Кальтино', 'деревня Камышовка', 'деревня Каськово',\n",
       "       'деревня Келози', 'деревня Кипень', 'деревня Кисельня',\n",
       "       'деревня Колтуши', 'деревня Коркино', 'деревня Котлы',\n",
       "       'деревня Кривко', 'деревня Кудрово', 'деревня Кузьмолово',\n",
       "       'деревня Курковицы', 'деревня Куровицы', 'деревня Куттузи',\n",
       "       'деревня Лаврики', 'деревня Лаголово', 'деревня Лампово',\n",
       "       'деревня Лесколово', 'деревня Лопухинка', 'деревня Лупполово',\n",
       "       'деревня Малая Романовка', 'деревня Малое Верево',\n",
       "       'деревня Малое Карлино', 'деревня Малые Колпаны',\n",
       "       'деревня Мануйлово', 'деревня Меньково', 'деревня Мины',\n",
       "       'деревня Мистолово', 'деревня Ненимяки', 'деревня Нижние Осельки',\n",
       "       'деревня Нижняя', 'деревня Низино', 'деревня Новое Девяткино',\n",
       "       'деревня Новолисино', 'деревня Нурма', 'деревня Оржицы',\n",
       "       'деревня Парицы', 'деревня Пельгора', 'деревня Пеники',\n",
       "       'деревня Пижма', 'деревня Пикколово', 'деревня Пудомяги',\n",
       "       'деревня Пустынка', 'деревня Пчева', 'деревня Рабитицы',\n",
       "       'деревня Разбегаево', 'деревня Раздолье', 'деревня Разметелево',\n",
       "       'деревня Рапполово', 'деревня Реброво', 'деревня Русско',\n",
       "       'деревня Сижно', 'деревня Снегирёвка', 'деревня Старая',\n",
       "       'деревня Старая Пустошь', 'деревня Старое Хинколово',\n",
       "       'деревня Старополье', 'деревня Старосиверская',\n",
       "       'деревня Старые Бегуницы', 'деревня Суоранда',\n",
       "       'деревня Сяськелево', 'деревня Тарасово', 'деревня Терпилицы',\n",
       "       'деревня Тихковицы', 'деревня Тойворово', 'деревня Торосово',\n",
       "       'деревня Торошковичи', 'деревня Трубников Бор',\n",
       "       'деревня Фалилеево', 'деревня Фёдоровское', 'деревня Хапо-Ое',\n",
       "       'деревня Хязельки', 'деревня Чудской Бор', 'деревня Шпаньково',\n",
       "       'деревня Щеглово', 'деревня Юкки', 'деревня Ялгино',\n",
       "       'деревня Яльгелево', 'деревня Ям-Тесово',\n",
       "       'коттеджный поселок Кивеннапа Север', 'коттеджный поселок Счастье',\n",
       "       'коттеджный посёлок Лесное', 'поселок Аннино', 'поселок Барышево',\n",
       "       'поселок Бугры', 'поселок Возрождение', 'поселок Войсковицы',\n",
       "       'поселок Володарское', 'поселок Гаврилово', 'поселок Гарболово',\n",
       "       'поселок Гладкое', 'поселок Глажево', 'поселок Глебычево',\n",
       "       'поселок Гончарово', 'поселок Громово', 'поселок Дружноселье',\n",
       "       'поселок Елизаветино', 'поселок Жилгородок', 'поселок Жилпосёлок',\n",
       "       'поселок Житково', 'поселок Заводской', 'поселок Запорожское',\n",
       "       'поселок Зимитицы', 'поселок Ильичёво', 'поселок Калитино',\n",
       "       'поселок Каложицы', 'поселок Кингисеппский', 'поселок Кирпичное',\n",
       "       'поселок Кобралово', 'поселок Кобринское', 'поселок Коммунары',\n",
       "       'поселок Коробицыно', 'поселок Котельский',\n",
       "       'поселок Красная Долина', 'поселок Красносельское',\n",
       "       'поселок Лесное', 'поселок Лисий Нос', 'поселок Лукаши',\n",
       "       'поселок Любань', 'поселок Мельниково', 'поселок Мичуринское',\n",
       "       'поселок Молодцово', 'поселок Мурино', 'поселок Новый Свет',\n",
       "       'поселок Новый Учхоз', 'поселок Оредеж',\n",
       "       'поселок Пансионат Зелёный Бор', 'поселок Первомайское',\n",
       "       'поселок Перово', 'поселок Петровское', 'поселок Победа',\n",
       "       'поселок Поляны', 'поселок Почап', 'поселок Починок',\n",
       "       'поселок Пушное', 'поселок Пчевжа', 'поселок Рабитицы',\n",
       "       'поселок Романовка', 'поселок Ромашки', 'поселок Рябово',\n",
       "       'поселок Севастьяново', 'поселок Селезнёво', 'поселок Сельцо',\n",
       "       'поселок Семиозерье', 'поселок Семрино', 'поселок Серебрянский',\n",
       "       'поселок Совхозный', 'поселок Старая Малукса',\n",
       "       'поселок Стеклянный', 'поселок Сумино', 'поселок Суходолье',\n",
       "       'поселок Тельмана', 'поселок Терволово', 'поселок Торковичи',\n",
       "       'поселок Тёсово-4', 'поселок Углово', 'поселок Усть-Луга',\n",
       "       'поселок Ушаки', 'поселок Цвелодубово', 'поселок Цвылёво',\n",
       "       'поселок городского типа Большая Ижора',\n",
       "       'поселок городского типа Вырица',\n",
       "       'поселок городского типа Дружная Горка',\n",
       "       'поселок городского типа Дубровка',\n",
       "       'поселок городского типа Ефимовский',\n",
       "       'поселок городского типа Кондратьево',\n",
       "       'поселок городского типа Красный Бор',\n",
       "       'поселок городского типа Кузьмоловский',\n",
       "       'поселок городского типа Лебяжье',\n",
       "       'поселок городского типа Лесогорский',\n",
       "       'поселок городского типа Назия',\n",
       "       'поселок городского типа Никольский',\n",
       "       'поселок городского типа Приладожский',\n",
       "       'поселок городского типа Рахья', 'поселок городского типа Рощино',\n",
       "       'поселок городского типа Рябово',\n",
       "       'поселок городского типа Синявино',\n",
       "       'поселок городского типа Советский',\n",
       "       'поселок городского типа Токсово',\n",
       "       'поселок городского типа Форносово',\n",
       "       'поселок городского типа имени Свердлова',\n",
       "       'поселок станции Вещево', 'поселок станции Корнево',\n",
       "       'поселок станции Лужайка', 'поселок станции Приветнинское',\n",
       "       'посёлок Александровская', 'посёлок Алексеевка', 'посёлок Аннино',\n",
       "       'посёлок Белоостров', 'посёлок Бугры', 'посёлок Возрождение',\n",
       "       'посёлок Войскорово', 'посёлок Высокоключевой',\n",
       "       'посёлок Гаврилово', 'посёлок Дзержинского', 'посёлок Жилгородок',\n",
       "       'посёлок Ильичёво', 'посёлок Кикерино', 'посёлок Кобралово',\n",
       "       'посёлок Коробицыно', 'посёлок Левашово', 'посёлок Ленинское',\n",
       "       'посёлок Лисий Нос', 'посёлок Мельниково', 'посёлок Металлострой',\n",
       "       'посёлок Мичуринское', 'посёлок Молодёжное', 'посёлок Мурино',\n",
       "       'посёлок Мыза-Ивановка', 'посёлок Новогорелово',\n",
       "       'посёлок Новый Свет', 'посёлок Пансионат Зелёный Бор',\n",
       "       'посёлок Парголово', 'посёлок Перово', 'посёлок Песочный',\n",
       "       'посёлок Петро-Славянка', 'посёлок Петровское',\n",
       "       'посёлок Платформа 69-й километр', 'посёлок Плодовое',\n",
       "       'посёлок Плоское', 'посёлок Победа', 'посёлок Поляны',\n",
       "       'посёлок Понтонный', 'посёлок Пригородный', 'посёлок Пудость',\n",
       "       'посёлок Репино', 'посёлок Ропша', 'посёлок Сапёрное',\n",
       "       'посёлок Сапёрный', 'посёлок Сосново', 'посёлок Старая Малукса',\n",
       "       'посёлок Стеклянный', 'посёлок Стрельна', 'посёлок Суйда',\n",
       "       'посёлок Сумино', 'посёлок Тельмана', 'посёлок Терволово',\n",
       "       'посёлок Торфяное', 'посёлок Усть-Ижора', 'посёлок Усть-Луга',\n",
       "       'посёлок Форт Красная Горка', 'посёлок Шугозеро', 'посёлок Шушары',\n",
       "       'посёлок Щеглово', 'посёлок городского типа Важины',\n",
       "       'посёлок городского типа Вознесенье',\n",
       "       'посёлок городского типа Вырица',\n",
       "       'посёлок городского типа Красный Бор',\n",
       "       'посёлок городского типа Кузнечное',\n",
       "       'посёлок городского типа Кузьмоловский',\n",
       "       'посёлок городского типа Лебяжье', 'посёлок городского типа Мга',\n",
       "       'посёлок городского типа Павлово',\n",
       "       'посёлок городского типа Рощино', 'посёлок городского типа Рябово',\n",
       "       'посёлок городского типа Сиверский',\n",
       "       'посёлок городского типа Тайцы', 'посёлок городского типа Токсово',\n",
       "       'посёлок городского типа Ульяновка',\n",
       "       'посёлок городского типа Форносово',\n",
       "       'посёлок городского типа имени Морозова',\n",
       "       'посёлок городского типа имени Свердлова',\n",
       "       'посёлок при железнодорожной станции Вещево',\n",
       "       'посёлок при железнодорожной станции Приветнинское',\n",
       "       'посёлок станции Громово', 'посёлок станции Свирь',\n",
       "       'садоводческое некоммерческое товарищество Лесная Поляна',\n",
       "       'садовое товарищество Новая Ропша',\n",
       "       'садовое товарищество Приладожский', 'садовое товарищество Рахья',\n",
       "       'садовое товарищество Садко', 'село Копорье', 'село Никольское',\n",
       "       'село Павлово', 'село Паша', 'село Путилово', 'село Рождествено',\n",
       "       'село Русско-Высоцкое', 'село Старая Ладога', 'село Шум'],\n",
       "      dtype=object)"
      ]
     },
     "execution_count": 17,
     "metadata": {},
     "output_type": "execute_result"
    }
   ],
   "source": [
    "data['locality_name'].sort_values().unique()"
   ]
  },
  {
   "cell_type": "markdown",
   "metadata": {},
   "source": [
    "**Видно, что значения 'поселок' и 'посёлок' дублируют значения.\n",
    "Также есть повторяющиеся значения в названиях объектов местности. \n",
    "Исправим это.**"
   ]
  },
  {
   "cell_type": "code",
   "execution_count": 18,
   "metadata": {},
   "outputs": [
    {
     "data": {
      "text/plain": [
       "array(['Бокситогорск', 'Волосово', 'Волхов', 'Всеволожск', 'Выборг',\n",
       "       'Высоцк', 'Гатчина', 'Зеленогорск', 'Ивангород', 'Каменногорск',\n",
       "       'Кингисепп', 'Кириши', 'Кировск', 'Колпино', 'Коммунар',\n",
       "       'Красное Село', 'Кронштадт', 'Кудрово', 'Лодейное Поле',\n",
       "       'Ломоносов', 'Луга', 'Не задано', 'Новая Ладога', 'Отрадное',\n",
       "       'Павловск', 'Петергоф', 'Пикалёво', 'Подпорожье', 'Приморск',\n",
       "       'Приозерск', 'Пушкин', 'Санкт-Петербург', 'Светогорск',\n",
       "       'Сертолово', 'Сестрорецк', 'Сланцы', 'Сосновый Бор', 'Сясьстрой',\n",
       "       'Тихвин', 'Тосно', 'Шлиссельбург', 'городской посёлок Будогощь',\n",
       "       'городской посёлок Виллози', 'городской посёлок Новоселье',\n",
       "       'городской посёлок Свирьстрой', 'городской посёлок Фёдоровское',\n",
       "       'городской посёлок Янино-1', 'деревня Агалатово', 'деревня Аро',\n",
       "       'деревня Батово', 'деревня Бегуницы', 'деревня Белогорка',\n",
       "       'деревня Большая Вруда', 'деревня Большая Пустомержа',\n",
       "       'деревня Большие Колпаны', 'деревня Большое Рейзино',\n",
       "       'деревня Большой Сабск', 'деревня Бор', 'деревня Борисова Грива',\n",
       "       'деревня Ваганово', 'деревня Вартемяги', 'деревня Вахнова Кара',\n",
       "       'деревня Выскатка', 'деревня Гарболово', 'деревня Глинка',\n",
       "       'деревня Горбунки', 'деревня Гостилицы', 'деревня Заклинье',\n",
       "       'деревня Заневка', 'деревня Зимитицы', 'деревня Извара',\n",
       "       'деревня Иссад', 'деревня Калитино', 'деревня Кальтино',\n",
       "       'деревня Камышовка', 'деревня Каськово', 'деревня Келози',\n",
       "       'деревня Кипень', 'деревня Кисельня', 'деревня Колтуши',\n",
       "       'деревня Коркино', 'деревня Котлы', 'деревня Кривко',\n",
       "       'деревня Кузьмолово', 'деревня Курковицы', 'деревня Куровицы',\n",
       "       'деревня Куттузи', 'деревня Лаврики', 'деревня Лаголово',\n",
       "       'деревня Лампово', 'деревня Лесколово', 'деревня Лопухинка',\n",
       "       'деревня Лупполово', 'деревня Малая Романовка',\n",
       "       'деревня Малое Верево', 'деревня Малое Карлино',\n",
       "       'деревня Малые Колпаны', 'деревня Мануйлово', 'деревня Меньково',\n",
       "       'деревня Мины', 'деревня Мистолово', 'деревня Ненимяки',\n",
       "       'деревня Нижние Осельки', 'деревня Нижняя', 'деревня Низино',\n",
       "       'деревня Новое Девяткино', 'деревня Новолисино', 'деревня Нурма',\n",
       "       'деревня Оржицы', 'деревня Парицы', 'деревня Пельгора',\n",
       "       'деревня Пеники', 'деревня Пижма', 'деревня Пикколово',\n",
       "       'деревня Пудомяги', 'деревня Пустынка', 'деревня Пчева',\n",
       "       'деревня Рабитицы', 'деревня Разбегаево', 'деревня Раздолье',\n",
       "       'деревня Разметелево', 'деревня Рапполово', 'деревня Реброво',\n",
       "       'деревня Русско', 'деревня Сижно', 'деревня Снегирёвка',\n",
       "       'деревня Старая', 'деревня Старая Пустошь',\n",
       "       'деревня Старое Хинколово', 'деревня Старополье',\n",
       "       'деревня Старосиверская', 'деревня Старые Бегуницы',\n",
       "       'деревня Суоранда', 'деревня Сяськелево', 'деревня Тарасово',\n",
       "       'деревня Терпилицы', 'деревня Тихковицы', 'деревня Тойворово',\n",
       "       'деревня Торосово', 'деревня Торошковичи', 'деревня Трубников Бор',\n",
       "       'деревня Фалилеево', 'деревня Фёдоровское', 'деревня Хапо-Ое',\n",
       "       'деревня Хязельки', 'деревня Чудской Бор', 'деревня Шпаньково',\n",
       "       'деревня Щеглово', 'деревня Юкки', 'деревня Ялгино',\n",
       "       'деревня Яльгелево', 'деревня Ям-Тесово',\n",
       "       'коттеджный посёлок Кивеннапа Север', 'коттеджный посёлок Счастье',\n",
       "       'посёлок Александровская', 'посёлок Алексеевка', 'посёлок Аннино',\n",
       "       'посёлок Барышево', 'посёлок Белоостров', 'посёлок Бугры',\n",
       "       'посёлок Возрождение', 'посёлок Войсковицы', 'посёлок Войскорово',\n",
       "       'посёлок Володарское', 'посёлок Высокоключевой',\n",
       "       'посёлок Гаврилово', 'посёлок Гарболово', 'посёлок Гладкое',\n",
       "       'посёлок Глажево', 'посёлок Глебычево', 'посёлок Гончарово',\n",
       "       'посёлок Громово', 'посёлок Дзержинского', 'посёлок Дружноселье',\n",
       "       'посёлок Елизаветино', 'посёлок Жилгородок', 'посёлок Жилпосёлок',\n",
       "       'посёлок Житково', 'посёлок Заводской', 'посёлок Запорожское',\n",
       "       'посёлок Зимитицы', 'посёлок Ильичёво', 'посёлок Калитино',\n",
       "       'посёлок Каложицы', 'посёлок Кикерино', 'посёлок Кингисеппский',\n",
       "       'посёлок Кирпичное', 'посёлок Кобралово', 'посёлок Кобринское',\n",
       "       'посёлок Коммунары', 'посёлок Коробицыно', 'посёлок Котельский',\n",
       "       'посёлок Красная Долина', 'посёлок Красносельское',\n",
       "       'посёлок Левашово', 'посёлок Ленинское', 'посёлок Лесное',\n",
       "       'посёлок Лисий Нос', 'посёлок Лукаши', 'посёлок Любань',\n",
       "       'посёлок Мельниково', 'посёлок Металлострой',\n",
       "       'посёлок Мичуринское', 'посёлок Молодцово', 'посёлок Молодёжное',\n",
       "       'посёлок Мурино', 'посёлок Мыза-Ивановка', 'посёлок Новогорелово',\n",
       "       'посёлок Новый Свет', 'посёлок Новый Учхоз', 'посёлок Оредеж',\n",
       "       'посёлок Пансионат Зелёный Бор', 'посёлок Парголово',\n",
       "       'посёлок Первомайское', 'посёлок Перово', 'посёлок Песочный',\n",
       "       'посёлок Петро-Славянка', 'посёлок Петровское',\n",
       "       'посёлок Платформа 69-й километр', 'посёлок Плодовое',\n",
       "       'посёлок Плоское', 'посёлок Победа', 'посёлок Поляны',\n",
       "       'посёлок Понтонный', 'посёлок Почап', 'посёлок Починок',\n",
       "       'посёлок Пригородный', 'посёлок Пудость', 'посёлок Пушное',\n",
       "       'посёлок Пчевжа', 'посёлок Рабитицы', 'посёлок Репино',\n",
       "       'посёлок Романовка', 'посёлок Ромашки', 'посёлок Ропша',\n",
       "       'посёлок Сапёрное', 'посёлок Сапёрный', 'посёлок Севастьяново',\n",
       "       'посёлок Селезнёво', 'посёлок Сельцо', 'посёлок Семиозерье',\n",
       "       'посёлок Семрино', 'посёлок Серебрянский', 'посёлок Совхозный',\n",
       "       'посёлок Сосново', 'посёлок Старая Малукса', 'посёлок Стеклянный',\n",
       "       'посёлок Стрельна', 'посёлок Суйда', 'посёлок Сумино',\n",
       "       'посёлок Суходолье', 'посёлок Тельмана', 'посёлок Терволово',\n",
       "       'посёлок Торковичи', 'посёлок Торфяное', 'посёлок Тёсово-4',\n",
       "       'посёлок Углово', 'посёлок Усть-Ижора', 'посёлок Усть-Луга',\n",
       "       'посёлок Ушаки', 'посёлок Форт Красная Горка',\n",
       "       'посёлок Цвелодубово', 'посёлок Цвылёво', 'посёлок Шугозеро',\n",
       "       'посёлок Шушары', 'посёлок Щеглово',\n",
       "       'посёлок городского типа Большая Ижора',\n",
       "       'посёлок городского типа Важины',\n",
       "       'посёлок городского типа Вознесенье',\n",
       "       'посёлок городского типа Вырица',\n",
       "       'посёлок городского типа Дружная Горка',\n",
       "       'посёлок городского типа Дубровка',\n",
       "       'посёлок городского типа Ефимовский',\n",
       "       'посёлок городского типа Кондратьево',\n",
       "       'посёлок городского типа Красный Бор',\n",
       "       'посёлок городского типа Кузнечное',\n",
       "       'посёлок городского типа Кузьмоловский',\n",
       "       'посёлок городского типа Лебяжье',\n",
       "       'посёлок городского типа Лесогорский',\n",
       "       'посёлок городского типа Мга', 'посёлок городского типа Назия',\n",
       "       'посёлок городского типа Никольский',\n",
       "       'посёлок городского типа Павлово',\n",
       "       'посёлок городского типа Приладожский',\n",
       "       'посёлок городского типа Рахья', 'посёлок городского типа Рощино',\n",
       "       'посёлок городского типа Рябово',\n",
       "       'посёлок городского типа Сиверский',\n",
       "       'посёлок городского типа Синявино',\n",
       "       'посёлок городского типа Советский',\n",
       "       'посёлок городского типа Тайцы', 'посёлок городского типа Токсово',\n",
       "       'посёлок городского типа Ульяновка',\n",
       "       'посёлок городского типа Форносово',\n",
       "       'посёлок городского типа имени Морозова',\n",
       "       'посёлок городского типа имени Свердлова',\n",
       "       'посёлок при железнодорожной станции Вещево',\n",
       "       'посёлок при железнодорожной станции Приветнинское',\n",
       "       'посёлок станции Вещево', 'посёлок станции Громово',\n",
       "       'посёлок станции Корнево', 'посёлок станции Лужайка',\n",
       "       'посёлок станции Приветнинское', 'посёлок станции Свирь',\n",
       "       'садоводческое некоммерческое товарищество Лесная Поляна',\n",
       "       'садовое товарищество Новая Ропша',\n",
       "       'садовое товарищество Приладожский', 'садовое товарищество Рахья',\n",
       "       'садовое товарищество Садко', 'село Копорье', 'село Никольское',\n",
       "       'село Павлово', 'село Паша', 'село Путилово', 'село Рождествено',\n",
       "       'село Русско-Высоцкое', 'село Старая Ладога', 'село Шум'],\n",
       "      dtype=object)"
      ]
     },
     "execution_count": 18,
     "metadata": {},
     "output_type": "execute_result"
    }
   ],
   "source": [
    "data['locality_name'] = data['locality_name'].str.replace('поселок','посёлок')\n",
    "data = data.replace({'locality_name':{'Никольское': 'село Никольское', 'городской посёлок Советский': 'посёлок городского типа Советский', 'городской посёлок Большая Ижора': 'посёлок городского типа Большая Ижора', 'городской посёлок Лесогорский': 'посёлок городского типа Лесогорский', 'посёлок Рябово': 'посёлок городского типа Рябово', 'городской посёлок Мга': 'посёлок городского типа Мга', 'городской посёлок Павлово': 'посёлок городского типа Павлово', 'городской посёлок Назия': 'посёлок городского типа Назия', 'коттеджный посёлок Лесное': 'посёлок Лесное', 'Мурино': 'посёлок Мурино', 'Любань': 'посёлок Любань', 'городской посёлок Рощино': 'посёлок городского типа Рощино', 'деревня Кудрово': 'Кудрово'}})\n",
    "data['locality_name'].sort_values().unique()"
   ]
  },
  {
   "cell_type": "markdown",
   "metadata": {},
   "source": [
    "**Приступим к столбцу с высотой потолков ceiling_height:**"
   ]
  },
  {
   "cell_type": "code",
   "execution_count": 19,
   "metadata": {},
   "outputs": [
    {
     "data": {
      "text/plain": [
       "array([  1.  ,   1.2 ,   1.75,   2.  ,   2.2 ,   2.25,   2.3 ,   2.34,\n",
       "         2.4 ,   2.45,   2.46,   2.47,   2.48,   2.49,   2.5 ,   2.51,\n",
       "         2.52,   2.53,   2.54,   2.55,   2.56,   2.57,   2.58,   2.59,\n",
       "         2.6 ,   2.61,   2.62,   2.63,   2.64,   2.65,   2.66,   2.67,\n",
       "         2.68,   2.69,   2.7 ,   2.71,   2.72,   2.73,   2.74,   2.75,\n",
       "         2.76,   2.77,   2.78,   2.79,   2.8 ,   2.81,   2.82,   2.83,\n",
       "         2.84,   2.85,   2.86,   2.87,   2.88,   2.89,   2.9 ,   2.91,\n",
       "         2.92,   2.93,   2.94,   2.95,   2.96,   2.97,   2.98,   2.99,\n",
       "         3.  ,   3.01,   3.02,   3.03,   3.04,   3.05,   3.06,   3.07,\n",
       "         3.08,   3.09,   3.1 ,   3.11,   3.12,   3.13,   3.14,   3.15,\n",
       "         3.16,   3.17,   3.18,   3.2 ,   3.21,   3.22,   3.23,   3.24,\n",
       "         3.25,   3.26,   3.27,   3.28,   3.29,   3.3 ,   3.31,   3.32,\n",
       "         3.33,   3.34,   3.35,   3.36,   3.37,   3.38,   3.39,   3.4 ,\n",
       "         3.42,   3.43,   3.44,   3.45,   3.46,   3.47,   3.48,   3.49,\n",
       "         3.5 ,   3.51,   3.52,   3.53,   3.54,   3.55,   3.56,   3.57,\n",
       "         3.58,   3.59,   3.6 ,   3.62,   3.63,   3.65,   3.66,   3.67,\n",
       "         3.68,   3.69,   3.7 ,   3.75,   3.76,   3.78,   3.8 ,   3.82,\n",
       "         3.83,   3.84,   3.85,   3.86,   3.87,   3.88,   3.9 ,   3.93,\n",
       "         3.95,   3.98,   4.  ,   4.06,   4.1 ,   4.14,   4.15,   4.19,\n",
       "         4.2 ,   4.25,   4.3 ,   4.37,   4.4 ,   4.45,   4.5 ,   4.65,\n",
       "         4.7 ,   4.8 ,   4.9 ,   5.  ,   5.2 ,   5.3 ,   5.5 ,   5.6 ,\n",
       "         5.8 ,   6.  ,   8.  ,   8.3 ,  10.3 ,  14.  ,  20.  ,  22.6 ,\n",
       "        24.  ,  25.  ,  26.  ,  27.  ,  27.5 ,  32.  , 100.  ,    nan])"
      ]
     },
     "execution_count": 19,
     "metadata": {},
     "output_type": "execute_result"
    }
   ],
   "source": [
    "data['ceiling_height'].sort_values().unique()"
   ]
  },
  {
   "cell_type": "code",
   "execution_count": 20,
   "metadata": {},
   "outputs": [
    {
     "data": {
      "text/plain": [
       "count    14495.000000\n",
       "mean         2.771495\n",
       "std          1.261445\n",
       "min          1.000000\n",
       "25%          2.520000\n",
       "50%          2.650000\n",
       "75%          2.800000\n",
       "max        100.000000\n",
       "Name: ceiling_height, dtype: float64"
      ]
     },
     "execution_count": 20,
     "metadata": {},
     "output_type": "execute_result"
    }
   ],
   "source": [
    "data['ceiling_height'].describe()"
   ]
  },
  {
   "cell_type": "markdown",
   "metadata": {},
   "source": [
    "**Довольно большой разброс значений, можно увидеть, что минимальное значение высоты 1 метр, а максимальное целых 100. Также стоит обратить внимание на диапазон значений от 20 до 32 метров. Что является очевидным аномальным значением. Вероятнее всего, это вещественные значения: 2-3.2 метра. Нужно поделить такие значения на 10.**"
   ]
  },
  {
   "cell_type": "code",
   "execution_count": 21,
   "metadata": {},
   "outputs": [
    {
     "data": {
      "text/plain": [
       "count    14495.000000\n",
       "mean         2.729578\n",
       "std          0.319937\n",
       "min          1.000000\n",
       "25%          2.510000\n",
       "50%          2.650000\n",
       "75%          2.800000\n",
       "max         14.000000\n",
       "Name: ceiling_height, dtype: float64"
      ]
     },
     "execution_count": 21,
     "metadata": {},
     "output_type": "execute_result"
    }
   ],
   "source": [
    "data.loc[data['ceiling_height'] >= 20, 'ceiling_height'] = data['ceiling_height'] / 10\n",
    "data['ceiling_height'].describe()"
   ]
  },
  {
   "cell_type": "markdown",
   "metadata": {},
   "source": [
    "**Построим диаграмму размаха методом boxplot(), чтобы визуально оценить характеристики распределения**"
   ]
  },
  {
   "cell_type": "code",
   "execution_count": 22,
   "metadata": {},
   "outputs": [
    {
     "data": {
      "image/png": "[encoded data removed]",
      "text/plain": [
       "<Figure size 864x576 with 1 Axes>"
      ]
     },
     "metadata": {
      "needs_background": "light"
     },
     "output_type": "display_data"
    }
   ],
   "source": [
    "data.boxplot(column='ceiling_height', figsize=(12, 8))\n",
    "plt.ylim(1, 10)\n",
    "plt.ylabel('высота потолка')\n",
    "plt.show()"
   ]
  },
  {
   "cell_type": "markdown",
   "metadata": {},
   "source": [
    "**Из графика видно, значения менее 2.5 метров и более 2.8 - выбросы, оставим строки с высотой потолков от 2.5 до 5 метров** "
   ]
  },
  {
   "cell_type": "code",
   "execution_count": 23,
   "metadata": {},
   "outputs": [
    {
     "data": {
      "text/plain": [
       "count    14405.000000\n",
       "mean         2.727159\n",
       "std          0.270972\n",
       "min          2.500000\n",
       "25%          2.520000\n",
       "50%          2.650000\n",
       "75%          2.800000\n",
       "max          5.000000\n",
       "Name: ceiling_height, dtype: float64"
      ]
     },
     "execution_count": 23,
     "metadata": {},
     "output_type": "execute_result"
    }
   ],
   "source": [
    "data = data.query('ceiling_height >= 2.5 and ceiling_height <= 5')\n",
    "data['ceiling_height'].describe()"
   ]
  },
  {
   "cell_type": "code",
   "execution_count": 24,
   "metadata": {},
   "outputs": [
    {
     "name": "stdout",
     "output_type": "stream",
     "text": [
      "Нижняя граница last_price 1150000.0\n",
      "Нижняя граница last_price 36991999.99999983\n",
      "Процент отброшенных значений =  1.99 %\n"
     ]
    }
   ],
   "source": [
    "low_percentele = 0.01\n",
    "hihg_percentele = 0.99\n",
    "\n",
    "last_price_low = data['last_price'].quantile(low_percentele)\n",
    "last_price_high = data['last_price'].quantile(hihg_percentele)\n",
    "\n",
    "print(f'Нижняя граница last_price {last_price_low}')\n",
    "print(f'Нижняя граница last_price {last_price_high}')\n",
    "\n",
    "print(\n",
    "    'Процент отброшенных значений = ',\n",
    "    round(\n",
    "        100 - len(data.query('@last_price_low <= last_price <= @last_price_high'))\n",
    "        / len(data['last_price']) * 100,\n",
    "        2\n",
    "    ),\n",
    "    '%'\n",
    ")"
   ]
  },
  {
   "cell_type": "markdown",
   "metadata": {},
   "source": [
    "Убедимся, что мы потеряли не больше 10% данных. До удаления у нас было в столбце ceiling_height 14495 строк, а после - 14405. Мы избавились от выбросов, которые составляют чуть меньше 1% от наших данных."
   ]
  },
  {
   "cell_type": "markdown",
   "metadata": {},
   "source": [
    "**Изучим столбец с количеством этажей floors_total:**"
   ]
  },
  {
   "cell_type": "code",
   "execution_count": 25,
   "metadata": {},
   "outputs": [
    {
     "data": {
      "text/plain": [
       "count    14405.000000\n",
       "mean        10.187851\n",
       "std          6.205383\n",
       "min          1.000000\n",
       "25%          5.000000\n",
       "50%          9.000000\n",
       "75%         14.000000\n",
       "max         60.000000\n",
       "Name: floors_total, dtype: float64"
      ]
     },
     "execution_count": 25,
     "metadata": {},
     "output_type": "execute_result"
    }
   ],
   "source": [
    "data['floors_total'].describe()"
   ]
  },
  {
   "cell_type": "code",
   "execution_count": 26,
   "metadata": {},
   "outputs": [
    {
     "data": {
      "text/plain": [
       "array([ 1,  2,  3,  4,  5,  6,  7,  8,  9, 10, 11, 12, 13, 14, 15, 16, 17,\n",
       "       18, 19, 20, 21, 22, 23, 24, 25, 26, 27, 28, 29, 34, 35, 36, 52, 60])"
      ]
     },
     "execution_count": 26,
     "metadata": {},
     "output_type": "execute_result"
    }
   ],
   "source": [
    "data['floors_total'].sort_values().unique()"
   ]
  },
  {
   "cell_type": "markdown",
   "metadata": {},
   "source": [
    "По информации из открытых источников самый высокий жилой дом Петербурга - 35-этажное здание. Удалим строки с количеством этажей больше 35."
   ]
  },
  {
   "cell_type": "code",
   "execution_count": 27,
   "metadata": {},
   "outputs": [
    {
     "data": {
      "text/plain": [
       "count    14401.000000\n",
       "mean        10.177904\n",
       "std          6.175041\n",
       "min          1.000000\n",
       "25%          5.000000\n",
       "50%          9.000000\n",
       "75%         14.000000\n",
       "max         35.000000\n",
       "Name: floors_total, dtype: float64"
      ]
     },
     "execution_count": 27,
     "metadata": {},
     "output_type": "execute_result"
    }
   ],
   "source": [
    "data = data.query('floors_total <= 35')\n",
    "data['floors_total'].describe()"
   ]
  },
  {
   "cell_type": "markdown",
   "metadata": {},
   "source": [
    "**Мы закончили с предобработкой данных:**\n",
    "    \n",
    "* Нашли и изучили пропущенные значения в столбцах, определили, в каких столбцах есть пропуски, где было возможно - заполнили пропущенные значения;\n",
    "\n",
    "* Рассмотрели типы данных в каждом столбце, нашли столбцы, в которых нужно изменить тип данных и преобразовали их.\n",
    "\n",
    "* Изучили уникальные значения в столбце с названиями и устранили неявные дубликаты(явных не оказалось вовсе).\n",
    "\n",
    "* Нашли и устранили редкие и выбивающиеся значения в столбцах, устранили аномалии. "
   ]
  },
  {
   "cell_type": "markdown",
   "metadata": {},
   "source": [
    "### Посчитаем и добавим в таблицу новые столбцы"
   ]
  },
  {
   "cell_type": "markdown",
   "metadata": {},
   "source": [
    "**Добавим в таблицу новые столбцы со следующими параметрами:**\n",
    "* price_one_square_meter - цена одного квадратного метра;\n",
    "* posted_day_week - день недели публикации объявления(0 — понедельник, 1 — вторник и так далее);\n",
    "* posted_month - месяц публикации объявления;\n",
    "* posted_year - год публикации объявления;\n",
    "* floor_type - тип этажа квартиры(значения — «первый», «последний», «другой»);\n",
    "* distance_to_center_kilometers - расстояние до центра города в километрах (переведите из м в км и округлите до целых значений)."
   ]
  },
  {
   "cell_type": "markdown",
   "metadata": {},
   "source": [
    "**price_one_square_meter - цена одного квадратного метра:**"
   ]
  },
  {
   "cell_type": "code",
   "execution_count": 28,
   "metadata": {},
   "outputs": [
    {
     "data": {
      "text/html": [
       "<div>\n",
       "<style scoped>\n",
       "    .dataframe tbody tr th:only-of-type {\n",
       "        vertical-align: middle;\n",
       "    }\n",
       "\n",
       "    .dataframe tbody tr th {\n",
       "        vertical-align: top;\n",
       "    }\n",
       "\n",
       "    .dataframe thead th {\n",
       "        text-align: right;\n",
       "    }\n",
       "</style>\n",
       "<table border=\"1\" class=\"dataframe\">\n",
       "  <thead>\n",
       "    <tr style=\"text-align: right;\">\n",
       "      <th></th>\n",
       "      <th>total_images</th>\n",
       "      <th>last_price</th>\n",
       "      <th>total_area</th>\n",
       "      <th>first_day_exposition</th>\n",
       "      <th>rooms</th>\n",
       "      <th>ceiling_height</th>\n",
       "      <th>floors_total</th>\n",
       "      <th>living_area</th>\n",
       "      <th>floor</th>\n",
       "      <th>is_apartment</th>\n",
       "      <th>...</th>\n",
       "      <th>balcony</th>\n",
       "      <th>locality_name</th>\n",
       "      <th>airports_nearest</th>\n",
       "      <th>city_centers_nearest</th>\n",
       "      <th>parks_around3000</th>\n",
       "      <th>parks_nearest</th>\n",
       "      <th>ponds_around3000</th>\n",
       "      <th>ponds_nearest</th>\n",
       "      <th>days_exposition</th>\n",
       "      <th>price_one_square_meter</th>\n",
       "    </tr>\n",
       "  </thead>\n",
       "  <tbody>\n",
       "    <tr>\n",
       "      <th>23697</th>\n",
       "      <td>13</td>\n",
       "      <td>11475000</td>\n",
       "      <td>76.75</td>\n",
       "      <td>2017-03-28</td>\n",
       "      <td>2</td>\n",
       "      <td>3.0</td>\n",
       "      <td>17</td>\n",
       "      <td>NaN</td>\n",
       "      <td>12</td>\n",
       "      <td>False</td>\n",
       "      <td>...</td>\n",
       "      <td>2</td>\n",
       "      <td>Санкт-Петербург</td>\n",
       "      <td>39140.0</td>\n",
       "      <td>10364.0</td>\n",
       "      <td>2.0</td>\n",
       "      <td>173.0</td>\n",
       "      <td>3.0</td>\n",
       "      <td>196.0</td>\n",
       "      <td>602.0</td>\n",
       "      <td>149511.400651</td>\n",
       "    </tr>\n",
       "    <tr>\n",
       "      <th>23698</th>\n",
       "      <td>4</td>\n",
       "      <td>1350000</td>\n",
       "      <td>32.30</td>\n",
       "      <td>2017-07-21</td>\n",
       "      <td>1</td>\n",
       "      <td>2.5</td>\n",
       "      <td>5</td>\n",
       "      <td>12.3</td>\n",
       "      <td>1</td>\n",
       "      <td>False</td>\n",
       "      <td>...</td>\n",
       "      <td>0</td>\n",
       "      <td>посёлок Новый Учхоз</td>\n",
       "      <td>NaN</td>\n",
       "      <td>NaN</td>\n",
       "      <td>NaN</td>\n",
       "      <td>NaN</td>\n",
       "      <td>NaN</td>\n",
       "      <td>NaN</td>\n",
       "      <td>NaN</td>\n",
       "      <td>41795.665635</td>\n",
       "    </tr>\n",
       "  </tbody>\n",
       "</table>\n",
       "<p>2 rows × 23 columns</p>\n",
       "</div>"
      ],
      "text/plain": [
       "       total_images  last_price  total_area first_day_exposition  rooms  \\\n",
       "23697            13    11475000       76.75           2017-03-28      2   \n",
       "23698             4     1350000       32.30           2017-07-21      1   \n",
       "\n",
       "       ceiling_height  floors_total  living_area  floor  is_apartment  ...  \\\n",
       "23697             3.0            17          NaN     12         False  ...   \n",
       "23698             2.5             5         12.3      1         False  ...   \n",
       "\n",
       "       balcony        locality_name  airports_nearest  city_centers_nearest  \\\n",
       "23697        2      Санкт-Петербург           39140.0               10364.0   \n",
       "23698        0  посёлок Новый Учхоз               NaN                   NaN   \n",
       "\n",
       "      parks_around3000  parks_nearest  ponds_around3000  ponds_nearest  \\\n",
       "23697              2.0          173.0               3.0          196.0   \n",
       "23698              NaN            NaN               NaN            NaN   \n",
       "\n",
       "       days_exposition  price_one_square_meter  \n",
       "23697            602.0           149511.400651  \n",
       "23698              NaN            41795.665635  \n",
       "\n",
       "[2 rows x 23 columns]"
      ]
     },
     "execution_count": 28,
     "metadata": {},
     "output_type": "execute_result"
    }
   ],
   "source": [
    "data['price_one_square_meter'] = data['last_price'] / data['total_area']\n",
    "data.tail(2)"
   ]
  },
  {
   "cell_type": "markdown",
   "metadata": {},
   "source": [
    "**posted_day_week - день недели публикации объявления(0 — понедельник, 1 — вторник и так далее):**"
   ]
  },
  {
   "cell_type": "code",
   "execution_count": 29,
   "metadata": {},
   "outputs": [
    {
     "data": {
      "text/html": [
       "<div>\n",
       "<style scoped>\n",
       "    .dataframe tbody tr th:only-of-type {\n",
       "        vertical-align: middle;\n",
       "    }\n",
       "\n",
       "    .dataframe tbody tr th {\n",
       "        vertical-align: top;\n",
       "    }\n",
       "\n",
       "    .dataframe thead th {\n",
       "        text-align: right;\n",
       "    }\n",
       "</style>\n",
       "<table border=\"1\" class=\"dataframe\">\n",
       "  <thead>\n",
       "    <tr style=\"text-align: right;\">\n",
       "      <th></th>\n",
       "      <th>total_images</th>\n",
       "      <th>last_price</th>\n",
       "      <th>total_area</th>\n",
       "      <th>first_day_exposition</th>\n",
       "      <th>rooms</th>\n",
       "      <th>ceiling_height</th>\n",
       "      <th>floors_total</th>\n",
       "      <th>living_area</th>\n",
       "      <th>floor</th>\n",
       "      <th>is_apartment</th>\n",
       "      <th>...</th>\n",
       "      <th>locality_name</th>\n",
       "      <th>airports_nearest</th>\n",
       "      <th>city_centers_nearest</th>\n",
       "      <th>parks_around3000</th>\n",
       "      <th>parks_nearest</th>\n",
       "      <th>ponds_around3000</th>\n",
       "      <th>ponds_nearest</th>\n",
       "      <th>days_exposition</th>\n",
       "      <th>price_one_square_meter</th>\n",
       "      <th>posted_day_week</th>\n",
       "    </tr>\n",
       "  </thead>\n",
       "  <tbody>\n",
       "    <tr>\n",
       "      <th>23697</th>\n",
       "      <td>13</td>\n",
       "      <td>11475000</td>\n",
       "      <td>76.75</td>\n",
       "      <td>2017-03-28</td>\n",
       "      <td>2</td>\n",
       "      <td>3.0</td>\n",
       "      <td>17</td>\n",
       "      <td>NaN</td>\n",
       "      <td>12</td>\n",
       "      <td>False</td>\n",
       "      <td>...</td>\n",
       "      <td>Санкт-Петербург</td>\n",
       "      <td>39140.0</td>\n",
       "      <td>10364.0</td>\n",
       "      <td>2.0</td>\n",
       "      <td>173.0</td>\n",
       "      <td>3.0</td>\n",
       "      <td>196.0</td>\n",
       "      <td>602.0</td>\n",
       "      <td>149511.400651</td>\n",
       "      <td>1</td>\n",
       "    </tr>\n",
       "    <tr>\n",
       "      <th>23698</th>\n",
       "      <td>4</td>\n",
       "      <td>1350000</td>\n",
       "      <td>32.30</td>\n",
       "      <td>2017-07-21</td>\n",
       "      <td>1</td>\n",
       "      <td>2.5</td>\n",
       "      <td>5</td>\n",
       "      <td>12.3</td>\n",
       "      <td>1</td>\n",
       "      <td>False</td>\n",
       "      <td>...</td>\n",
       "      <td>посёлок Новый Учхоз</td>\n",
       "      <td>NaN</td>\n",
       "      <td>NaN</td>\n",
       "      <td>NaN</td>\n",
       "      <td>NaN</td>\n",
       "      <td>NaN</td>\n",
       "      <td>NaN</td>\n",
       "      <td>NaN</td>\n",
       "      <td>41795.665635</td>\n",
       "      <td>4</td>\n",
       "    </tr>\n",
       "  </tbody>\n",
       "</table>\n",
       "<p>2 rows × 24 columns</p>\n",
       "</div>"
      ],
      "text/plain": [
       "       total_images  last_price  total_area first_day_exposition  rooms  \\\n",
       "23697            13    11475000       76.75           2017-03-28      2   \n",
       "23698             4     1350000       32.30           2017-07-21      1   \n",
       "\n",
       "       ceiling_height  floors_total  living_area  floor  is_apartment  ...  \\\n",
       "23697             3.0            17          NaN     12         False  ...   \n",
       "23698             2.5             5         12.3      1         False  ...   \n",
       "\n",
       "             locality_name  airports_nearest  city_centers_nearest  \\\n",
       "23697      Санкт-Петербург           39140.0               10364.0   \n",
       "23698  посёлок Новый Учхоз               NaN                   NaN   \n",
       "\n",
       "       parks_around3000 parks_nearest  ponds_around3000  ponds_nearest  \\\n",
       "23697               2.0         173.0               3.0          196.0   \n",
       "23698               NaN           NaN               NaN            NaN   \n",
       "\n",
       "       days_exposition  price_one_square_meter  posted_day_week  \n",
       "23697            602.0           149511.400651                1  \n",
       "23698              NaN            41795.665635                4  \n",
       "\n",
       "[2 rows x 24 columns]"
      ]
     },
     "execution_count": 29,
     "metadata": {},
     "output_type": "execute_result"
    }
   ],
   "source": [
    "data['posted_day_week'] = data['first_day_exposition'].dt.weekday\n",
    "data.tail(2)"
   ]
  },
  {
   "cell_type": "markdown",
   "metadata": {},
   "source": [
    "**posted_month - месяц публикации объявления:**"
   ]
  },
  {
   "cell_type": "code",
   "execution_count": 30,
   "metadata": {},
   "outputs": [
    {
     "data": {
      "text/html": [
       "<div>\n",
       "<style scoped>\n",
       "    .dataframe tbody tr th:only-of-type {\n",
       "        vertical-align: middle;\n",
       "    }\n",
       "\n",
       "    .dataframe tbody tr th {\n",
       "        vertical-align: top;\n",
       "    }\n",
       "\n",
       "    .dataframe thead th {\n",
       "        text-align: right;\n",
       "    }\n",
       "</style>\n",
       "<table border=\"1\" class=\"dataframe\">\n",
       "  <thead>\n",
       "    <tr style=\"text-align: right;\">\n",
       "      <th></th>\n",
       "      <th>total_images</th>\n",
       "      <th>last_price</th>\n",
       "      <th>total_area</th>\n",
       "      <th>first_day_exposition</th>\n",
       "      <th>rooms</th>\n",
       "      <th>ceiling_height</th>\n",
       "      <th>floors_total</th>\n",
       "      <th>living_area</th>\n",
       "      <th>floor</th>\n",
       "      <th>is_apartment</th>\n",
       "      <th>...</th>\n",
       "      <th>airports_nearest</th>\n",
       "      <th>city_centers_nearest</th>\n",
       "      <th>parks_around3000</th>\n",
       "      <th>parks_nearest</th>\n",
       "      <th>ponds_around3000</th>\n",
       "      <th>ponds_nearest</th>\n",
       "      <th>days_exposition</th>\n",
       "      <th>price_one_square_meter</th>\n",
       "      <th>posted_day_week</th>\n",
       "      <th>posted_month</th>\n",
       "    </tr>\n",
       "  </thead>\n",
       "  <tbody>\n",
       "    <tr>\n",
       "      <th>23697</th>\n",
       "      <td>13</td>\n",
       "      <td>11475000</td>\n",
       "      <td>76.75</td>\n",
       "      <td>2017-03-28</td>\n",
       "      <td>2</td>\n",
       "      <td>3.0</td>\n",
       "      <td>17</td>\n",
       "      <td>NaN</td>\n",
       "      <td>12</td>\n",
       "      <td>False</td>\n",
       "      <td>...</td>\n",
       "      <td>39140.0</td>\n",
       "      <td>10364.0</td>\n",
       "      <td>2.0</td>\n",
       "      <td>173.0</td>\n",
       "      <td>3.0</td>\n",
       "      <td>196.0</td>\n",
       "      <td>602.0</td>\n",
       "      <td>149511.400651</td>\n",
       "      <td>1</td>\n",
       "      <td>3</td>\n",
       "    </tr>\n",
       "    <tr>\n",
       "      <th>23698</th>\n",
       "      <td>4</td>\n",
       "      <td>1350000</td>\n",
       "      <td>32.30</td>\n",
       "      <td>2017-07-21</td>\n",
       "      <td>1</td>\n",
       "      <td>2.5</td>\n",
       "      <td>5</td>\n",
       "      <td>12.3</td>\n",
       "      <td>1</td>\n",
       "      <td>False</td>\n",
       "      <td>...</td>\n",
       "      <td>NaN</td>\n",
       "      <td>NaN</td>\n",
       "      <td>NaN</td>\n",
       "      <td>NaN</td>\n",
       "      <td>NaN</td>\n",
       "      <td>NaN</td>\n",
       "      <td>NaN</td>\n",
       "      <td>41795.665635</td>\n",
       "      <td>4</td>\n",
       "      <td>7</td>\n",
       "    </tr>\n",
       "  </tbody>\n",
       "</table>\n",
       "<p>2 rows × 25 columns</p>\n",
       "</div>"
      ],
      "text/plain": [
       "       total_images  last_price  total_area first_day_exposition  rooms  \\\n",
       "23697            13    11475000       76.75           2017-03-28      2   \n",
       "23698             4     1350000       32.30           2017-07-21      1   \n",
       "\n",
       "       ceiling_height  floors_total  living_area  floor  is_apartment  ...  \\\n",
       "23697             3.0            17          NaN     12         False  ...   \n",
       "23698             2.5             5         12.3      1         False  ...   \n",
       "\n",
       "       airports_nearest  city_centers_nearest  parks_around3000  \\\n",
       "23697           39140.0               10364.0               2.0   \n",
       "23698               NaN                   NaN               NaN   \n",
       "\n",
       "       parks_nearest ponds_around3000  ponds_nearest  days_exposition  \\\n",
       "23697          173.0              3.0          196.0            602.0   \n",
       "23698            NaN              NaN            NaN              NaN   \n",
       "\n",
       "       price_one_square_meter  posted_day_week  posted_month  \n",
       "23697           149511.400651                1             3  \n",
       "23698            41795.665635                4             7  \n",
       "\n",
       "[2 rows x 25 columns]"
      ]
     },
     "execution_count": 30,
     "metadata": {},
     "output_type": "execute_result"
    }
   ],
   "source": [
    "data['posted_month'] = data['first_day_exposition'].dt.month\n",
    "data.tail(2)"
   ]
  },
  {
   "cell_type": "markdown",
   "metadata": {},
   "source": [
    "**posted_year - год публикации объявления:**"
   ]
  },
  {
   "cell_type": "code",
   "execution_count": 31,
   "metadata": {},
   "outputs": [
    {
     "data": {
      "text/html": [
       "<div>\n",
       "<style scoped>\n",
       "    .dataframe tbody tr th:only-of-type {\n",
       "        vertical-align: middle;\n",
       "    }\n",
       "\n",
       "    .dataframe tbody tr th {\n",
       "        vertical-align: top;\n",
       "    }\n",
       "\n",
       "    .dataframe thead th {\n",
       "        text-align: right;\n",
       "    }\n",
       "</style>\n",
       "<table border=\"1\" class=\"dataframe\">\n",
       "  <thead>\n",
       "    <tr style=\"text-align: right;\">\n",
       "      <th></th>\n",
       "      <th>total_images</th>\n",
       "      <th>last_price</th>\n",
       "      <th>total_area</th>\n",
       "      <th>first_day_exposition</th>\n",
       "      <th>rooms</th>\n",
       "      <th>ceiling_height</th>\n",
       "      <th>floors_total</th>\n",
       "      <th>living_area</th>\n",
       "      <th>floor</th>\n",
       "      <th>is_apartment</th>\n",
       "      <th>...</th>\n",
       "      <th>city_centers_nearest</th>\n",
       "      <th>parks_around3000</th>\n",
       "      <th>parks_nearest</th>\n",
       "      <th>ponds_around3000</th>\n",
       "      <th>ponds_nearest</th>\n",
       "      <th>days_exposition</th>\n",
       "      <th>price_one_square_meter</th>\n",
       "      <th>posted_day_week</th>\n",
       "      <th>posted_month</th>\n",
       "      <th>posted_year</th>\n",
       "    </tr>\n",
       "  </thead>\n",
       "  <tbody>\n",
       "    <tr>\n",
       "      <th>23697</th>\n",
       "      <td>13</td>\n",
       "      <td>11475000</td>\n",
       "      <td>76.75</td>\n",
       "      <td>2017-03-28</td>\n",
       "      <td>2</td>\n",
       "      <td>3.0</td>\n",
       "      <td>17</td>\n",
       "      <td>NaN</td>\n",
       "      <td>12</td>\n",
       "      <td>False</td>\n",
       "      <td>...</td>\n",
       "      <td>10364.0</td>\n",
       "      <td>2.0</td>\n",
       "      <td>173.0</td>\n",
       "      <td>3.0</td>\n",
       "      <td>196.0</td>\n",
       "      <td>602.0</td>\n",
       "      <td>149511.400651</td>\n",
       "      <td>1</td>\n",
       "      <td>3</td>\n",
       "      <td>2017</td>\n",
       "    </tr>\n",
       "    <tr>\n",
       "      <th>23698</th>\n",
       "      <td>4</td>\n",
       "      <td>1350000</td>\n",
       "      <td>32.30</td>\n",
       "      <td>2017-07-21</td>\n",
       "      <td>1</td>\n",
       "      <td>2.5</td>\n",
       "      <td>5</td>\n",
       "      <td>12.3</td>\n",
       "      <td>1</td>\n",
       "      <td>False</td>\n",
       "      <td>...</td>\n",
       "      <td>NaN</td>\n",
       "      <td>NaN</td>\n",
       "      <td>NaN</td>\n",
       "      <td>NaN</td>\n",
       "      <td>NaN</td>\n",
       "      <td>NaN</td>\n",
       "      <td>41795.665635</td>\n",
       "      <td>4</td>\n",
       "      <td>7</td>\n",
       "      <td>2017</td>\n",
       "    </tr>\n",
       "  </tbody>\n",
       "</table>\n",
       "<p>2 rows × 26 columns</p>\n",
       "</div>"
      ],
      "text/plain": [
       "       total_images  last_price  total_area first_day_exposition  rooms  \\\n",
       "23697            13    11475000       76.75           2017-03-28      2   \n",
       "23698             4     1350000       32.30           2017-07-21      1   \n",
       "\n",
       "       ceiling_height  floors_total  living_area  floor  is_apartment  ...  \\\n",
       "23697             3.0            17          NaN     12         False  ...   \n",
       "23698             2.5             5         12.3      1         False  ...   \n",
       "\n",
       "       city_centers_nearest  parks_around3000  parks_nearest  \\\n",
       "23697               10364.0               2.0          173.0   \n",
       "23698                   NaN               NaN            NaN   \n",
       "\n",
       "       ponds_around3000 ponds_nearest  days_exposition  \\\n",
       "23697               3.0         196.0            602.0   \n",
       "23698               NaN           NaN              NaN   \n",
       "\n",
       "       price_one_square_meter  posted_day_week  posted_month  posted_year  \n",
       "23697           149511.400651                1             3         2017  \n",
       "23698            41795.665635                4             7         2017  \n",
       "\n",
       "[2 rows x 26 columns]"
      ]
     },
     "execution_count": 31,
     "metadata": {},
     "output_type": "execute_result"
    }
   ],
   "source": [
    "data['posted_year'] = data['first_day_exposition'].dt.year\n",
    "data.tail(2)"
   ]
  },
  {
   "cell_type": "markdown",
   "metadata": {},
   "source": [
    "**floor_type - тип этажа квартиры(значения — «первый», «последний», «другой»):**"
   ]
  },
  {
   "cell_type": "code",
   "execution_count": 32,
   "metadata": {},
   "outputs": [
    {
     "data": {
      "text/html": [
       "<div>\n",
       "<style scoped>\n",
       "    .dataframe tbody tr th:only-of-type {\n",
       "        vertical-align: middle;\n",
       "    }\n",
       "\n",
       "    .dataframe tbody tr th {\n",
       "        vertical-align: top;\n",
       "    }\n",
       "\n",
       "    .dataframe thead th {\n",
       "        text-align: right;\n",
       "    }\n",
       "</style>\n",
       "<table border=\"1\" class=\"dataframe\">\n",
       "  <thead>\n",
       "    <tr style=\"text-align: right;\">\n",
       "      <th></th>\n",
       "      <th>total_images</th>\n",
       "      <th>last_price</th>\n",
       "      <th>total_area</th>\n",
       "      <th>first_day_exposition</th>\n",
       "      <th>rooms</th>\n",
       "      <th>ceiling_height</th>\n",
       "      <th>floors_total</th>\n",
       "      <th>living_area</th>\n",
       "      <th>floor</th>\n",
       "      <th>is_apartment</th>\n",
       "      <th>...</th>\n",
       "      <th>parks_around3000</th>\n",
       "      <th>parks_nearest</th>\n",
       "      <th>ponds_around3000</th>\n",
       "      <th>ponds_nearest</th>\n",
       "      <th>days_exposition</th>\n",
       "      <th>price_one_square_meter</th>\n",
       "      <th>posted_day_week</th>\n",
       "      <th>posted_month</th>\n",
       "      <th>posted_year</th>\n",
       "      <th>floor_type</th>\n",
       "    </tr>\n",
       "  </thead>\n",
       "  <tbody>\n",
       "    <tr>\n",
       "      <th>23697</th>\n",
       "      <td>13</td>\n",
       "      <td>11475000</td>\n",
       "      <td>76.75</td>\n",
       "      <td>2017-03-28</td>\n",
       "      <td>2</td>\n",
       "      <td>3.0</td>\n",
       "      <td>17</td>\n",
       "      <td>NaN</td>\n",
       "      <td>12</td>\n",
       "      <td>False</td>\n",
       "      <td>...</td>\n",
       "      <td>2.0</td>\n",
       "      <td>173.0</td>\n",
       "      <td>3.0</td>\n",
       "      <td>196.0</td>\n",
       "      <td>602.0</td>\n",
       "      <td>149511.400651</td>\n",
       "      <td>1</td>\n",
       "      <td>3</td>\n",
       "      <td>2017</td>\n",
       "      <td>другой</td>\n",
       "    </tr>\n",
       "    <tr>\n",
       "      <th>23698</th>\n",
       "      <td>4</td>\n",
       "      <td>1350000</td>\n",
       "      <td>32.30</td>\n",
       "      <td>2017-07-21</td>\n",
       "      <td>1</td>\n",
       "      <td>2.5</td>\n",
       "      <td>5</td>\n",
       "      <td>12.3</td>\n",
       "      <td>1</td>\n",
       "      <td>False</td>\n",
       "      <td>...</td>\n",
       "      <td>NaN</td>\n",
       "      <td>NaN</td>\n",
       "      <td>NaN</td>\n",
       "      <td>NaN</td>\n",
       "      <td>NaN</td>\n",
       "      <td>41795.665635</td>\n",
       "      <td>4</td>\n",
       "      <td>7</td>\n",
       "      <td>2017</td>\n",
       "      <td>первый</td>\n",
       "    </tr>\n",
       "  </tbody>\n",
       "</table>\n",
       "<p>2 rows × 27 columns</p>\n",
       "</div>"
      ],
      "text/plain": [
       "       total_images  last_price  total_area first_day_exposition  rooms  \\\n",
       "23697            13    11475000       76.75           2017-03-28      2   \n",
       "23698             4     1350000       32.30           2017-07-21      1   \n",
       "\n",
       "       ceiling_height  floors_total  living_area  floor  is_apartment  ...  \\\n",
       "23697             3.0            17          NaN     12         False  ...   \n",
       "23698             2.5             5         12.3      1         False  ...   \n",
       "\n",
       "       parks_around3000  parks_nearest  ponds_around3000  ponds_nearest  \\\n",
       "23697               2.0          173.0               3.0          196.0   \n",
       "23698               NaN            NaN               NaN            NaN   \n",
       "\n",
       "      days_exposition  price_one_square_meter  posted_day_week  posted_month  \\\n",
       "23697           602.0           149511.400651                1             3   \n",
       "23698             NaN            41795.665635                4             7   \n",
       "\n",
       "       posted_year  floor_type  \n",
       "23697         2017      другой  \n",
       "23698         2017      первый  \n",
       "\n",
       "[2 rows x 27 columns]"
      ]
     },
     "execution_count": 32,
     "metadata": {},
     "output_type": "execute_result"
    }
   ],
   "source": [
    "#функция для определения типа этажа квартиры \n",
    "def floor_type(row):\n",
    "    floor = row['floor']\n",
    "    floors_total = row['floors_total']\n",
    "    if floor == 1:\n",
    "        return 'первый'\n",
    "    elif floor == floors_total:\n",
    "        return 'последний'\n",
    "    else:\n",
    "        return 'другой'\n",
    "        \n",
    "#добавляем столбец с типом квартиры        \n",
    "data['floor_type'] = data.apply(floor_type, axis=1)\n",
    "\n",
    "data.tail(2)"
   ]
  },
  {
   "cell_type": "markdown",
   "metadata": {},
   "source": [
    "**distance_to_center_kilometers - расстояние до центра города в километрах (с переводом из м в км и округлением до целых значений)**"
   ]
  },
  {
   "cell_type": "code",
   "execution_count": 33,
   "metadata": {},
   "outputs": [
    {
     "data": {
      "text/html": [
       "<div>\n",
       "<style scoped>\n",
       "    .dataframe tbody tr th:only-of-type {\n",
       "        vertical-align: middle;\n",
       "    }\n",
       "\n",
       "    .dataframe tbody tr th {\n",
       "        vertical-align: top;\n",
       "    }\n",
       "\n",
       "    .dataframe thead th {\n",
       "        text-align: right;\n",
       "    }\n",
       "</style>\n",
       "<table border=\"1\" class=\"dataframe\">\n",
       "  <thead>\n",
       "    <tr style=\"text-align: right;\">\n",
       "      <th></th>\n",
       "      <th>total_images</th>\n",
       "      <th>last_price</th>\n",
       "      <th>total_area</th>\n",
       "      <th>first_day_exposition</th>\n",
       "      <th>rooms</th>\n",
       "      <th>ceiling_height</th>\n",
       "      <th>floors_total</th>\n",
       "      <th>living_area</th>\n",
       "      <th>floor</th>\n",
       "      <th>is_apartment</th>\n",
       "      <th>...</th>\n",
       "      <th>parks_nearest</th>\n",
       "      <th>ponds_around3000</th>\n",
       "      <th>ponds_nearest</th>\n",
       "      <th>days_exposition</th>\n",
       "      <th>price_one_square_meter</th>\n",
       "      <th>posted_day_week</th>\n",
       "      <th>posted_month</th>\n",
       "      <th>posted_year</th>\n",
       "      <th>floor_type</th>\n",
       "      <th>distance_to_center_kilometers</th>\n",
       "    </tr>\n",
       "  </thead>\n",
       "  <tbody>\n",
       "    <tr>\n",
       "      <th>0</th>\n",
       "      <td>20</td>\n",
       "      <td>13000000</td>\n",
       "      <td>108.0</td>\n",
       "      <td>2019-03-07</td>\n",
       "      <td>3</td>\n",
       "      <td>2.70</td>\n",
       "      <td>16</td>\n",
       "      <td>51.0</td>\n",
       "      <td>8</td>\n",
       "      <td>False</td>\n",
       "      <td>...</td>\n",
       "      <td>482.0</td>\n",
       "      <td>2.0</td>\n",
       "      <td>755.0</td>\n",
       "      <td>NaN</td>\n",
       "      <td>120370.37037</td>\n",
       "      <td>3</td>\n",
       "      <td>3</td>\n",
       "      <td>2019</td>\n",
       "      <td>другой</td>\n",
       "      <td>16.0</td>\n",
       "    </tr>\n",
       "    <tr>\n",
       "      <th>4</th>\n",
       "      <td>2</td>\n",
       "      <td>10000000</td>\n",
       "      <td>100.0</td>\n",
       "      <td>2018-06-19</td>\n",
       "      <td>2</td>\n",
       "      <td>3.03</td>\n",
       "      <td>14</td>\n",
       "      <td>32.0</td>\n",
       "      <td>13</td>\n",
       "      <td>False</td>\n",
       "      <td>...</td>\n",
       "      <td>112.0</td>\n",
       "      <td>1.0</td>\n",
       "      <td>48.0</td>\n",
       "      <td>121.0</td>\n",
       "      <td>100000.00000</td>\n",
       "      <td>1</td>\n",
       "      <td>6</td>\n",
       "      <td>2018</td>\n",
       "      <td>другой</td>\n",
       "      <td>8.0</td>\n",
       "    </tr>\n",
       "  </tbody>\n",
       "</table>\n",
       "<p>2 rows × 28 columns</p>\n",
       "</div>"
      ],
      "text/plain": [
       "   total_images  last_price  total_area first_day_exposition  rooms  \\\n",
       "0            20    13000000       108.0           2019-03-07      3   \n",
       "4             2    10000000       100.0           2018-06-19      2   \n",
       "\n",
       "   ceiling_height  floors_total  living_area  floor  is_apartment  ...  \\\n",
       "0            2.70            16         51.0      8         False  ...   \n",
       "4            3.03            14         32.0     13         False  ...   \n",
       "\n",
       "   parks_nearest  ponds_around3000  ponds_nearest  days_exposition  \\\n",
       "0          482.0               2.0          755.0              NaN   \n",
       "4          112.0               1.0           48.0            121.0   \n",
       "\n",
       "  price_one_square_meter  posted_day_week  posted_month  posted_year  \\\n",
       "0           120370.37037                3             3         2019   \n",
       "4           100000.00000                1             6         2018   \n",
       "\n",
       "   floor_type  distance_to_center_kilometers  \n",
       "0      другой                           16.0  \n",
       "4      другой                            8.0  \n",
       "\n",
       "[2 rows x 28 columns]"
      ]
     },
     "execution_count": 33,
     "metadata": {},
     "output_type": "execute_result"
    }
   ],
   "source": [
    "data['distance_to_center_kilometers'] = round(data['city_centers_nearest'] / 1000)\n",
    "data.head(2)"
   ]
  },
  {
   "cell_type": "markdown",
   "metadata": {},
   "source": [
    "**Добавили в таблицу новые столбцы, посчитали их, но из-за пропущенных значений в исходных данных, от которых мы не смогли избавиться в силу разных причин, в получившихся столбцах аналогично появились пропуски.**"
   ]
  },
  {
   "cell_type": "markdown",
   "metadata": {},
   "source": [
    "### Проведем исследовательский анализ данных"
   ]
  },
  {
   "cell_type": "markdown",
   "metadata": {},
   "source": [
    "**Изучим и опишем следующие параметры, посторим гистограммы для каждого из них:**\n",
    "- общая площадь;\n",
    "- жилая площадь;\n",
    "- площадь кухни;\n",
    "- цена объекта;\n",
    "- количество комнат;\n",
    "- высота потолков;\n",
    "- этаж квартиры;\n",
    "- тип этажа квартиры («первый», «последний», «другой»);\n",
    "- общее количество этажей в доме;\n",
    "- расстояние до центра города в метрах;\n",
    "- расстояние до ближайшего аэропорта;\n",
    "- расстояние до ближайшего парка;\n",
    "- день и месяц публикации объявления"
   ]
  },
  {
   "cell_type": "markdown",
   "metadata": {},
   "source": [
    "_**Общая площадь и гистрограмма с диаграммой размаха с последующим описанием для этого параметра:**_"
   ]
  },
  {
   "cell_type": "code",
   "execution_count": 34,
   "metadata": {},
   "outputs": [
    {
     "name": "stdout",
     "output_type": "stream",
     "text": [
      "count    14401.000000\n",
      "mean        61.894386\n",
      "std         36.850615\n",
      "min         12.000000\n",
      "25%         41.000000\n",
      "50%         53.400000\n",
      "75%         71.400000\n",
      "max        900.000000\n",
      "Name: total_area, dtype: float64\n",
      "\n",
      "Медианное значение: 53.4\n"
     ]
    },
    {
     "data": {
      "text/plain": [
       "<AxesSubplot:>"
      ]
     },
     "execution_count": 34,
     "metadata": {},
     "output_type": "execute_result"
    },
    {
     "data": {
      "image/png": "[encoded data removed]",
      "text/plain": [
       "<Figure size 1080x576 with 1 Axes>"
      ]
     },
     "metadata": {
      "needs_background": "light"
     },
     "output_type": "display_data"
    }
   ],
   "source": [
    "print(data['total_area'].describe())\n",
    "print()\n",
    "print('Медианное значение:', data['total_area'].median())\n",
    "data['total_area'].hist(bins = 100, range = (10,120), figsize = (15,8))"
   ]
  },
  {
   "cell_type": "code",
   "execution_count": 35,
   "metadata": {},
   "outputs": [
    {
     "data": {
      "image/png": "[encoded data removed]",
      "text/plain": [
       "<Figure size 432x288 with 1 Axes>"
      ]
     },
     "metadata": {
      "needs_background": "light"
     },
     "output_type": "display_data"
    }
   ],
   "source": [
    "data.boxplot(column='total_area')\n",
    "plt.ylim(0, 150)\n",
    "plt.show()"
   ]
  },
  {
   "cell_type": "markdown",
   "metadata": {},
   "source": [
    "**Можно прийти к выводу, что большая часть квартир варируется площадью от 30 до 80 квадратных метров. Квартиры с площадью более 100 квадратных метров распространены довольно редко, тоже самое можно и сказать про квартиры меньше 30 квадратных метров. Медианное значение почти равно среднему, чем симметричнее распределены значения, тем лучше медиана характеризует среднее значение, в нашем случае можно так сказать.**"
   ]
  },
  {
   "cell_type": "markdown",
   "metadata": {},
   "source": [
    "_**Жилая площадь и гистрограмма с диаграммой размаха с последующим описанием для этого параметра:**_"
   ]
  },
  {
   "cell_type": "code",
   "execution_count": 36,
   "metadata": {},
   "outputs": [
    {
     "name": "stdout",
     "output_type": "stream",
     "text": [
      "count    13615.000000\n",
      "mean        35.682624\n",
      "std         22.816579\n",
      "min          2.000000\n",
      "25%         19.200000\n",
      "50%         30.900000\n",
      "75%         43.300000\n",
      "max        409.700000\n",
      "Name: living_area, dtype: float64\n",
      "\n",
      "Медианное значение: 30.9\n"
     ]
    },
    {
     "data": {
      "text/plain": [
       "<AxesSubplot:>"
      ]
     },
     "execution_count": 36,
     "metadata": {},
     "output_type": "execute_result"
    },
    {
     "data": {
      "image/png": "[encoded data removed]",
      "text/plain": [
       "<Figure size 1080x576 with 1 Axes>"
      ]
     },
     "metadata": {
      "needs_background": "light"
     },
     "output_type": "display_data"
    }
   ],
   "source": [
    "print(data['living_area'].describe())\n",
    "print()\n",
    "print('Медианное значение:', data['living_area'].median())\n",
    "data['living_area'].hist(bins = 100, range = (15,80), figsize = (15,8))"
   ]
  },
  {
   "cell_type": "code",
   "execution_count": 37,
   "metadata": {},
   "outputs": [
    {
     "data": {
      "image/png": "[encoded data removed]",
      "text/plain": [
       "<Figure size 432x288 with 1 Axes>"
      ]
     },
     "metadata": {
      "needs_background": "light"
     },
     "output_type": "display_data"
    }
   ],
   "source": [
    "data.boxplot(column='living_area')\n",
    "plt.ylim(0, 100)\n",
    "plt.show()"
   ]
  },
  {
   "cell_type": "markdown",
   "metadata": {},
   "source": [
    "**Можно прийти к выводу, что большая часть квартир варируется жилой площадью от 15 до 35 квадратных метров. Самый частый вариант получается около 15 квадратных метров. Квартиры с жилой площадью более 60 квадратных метров распространены довольно редко, тоже самое можно и сказать про квартиры меньше 15 квадратных метров. Среднее значение - 34 квадратных метра, медиана 30 квадратных метров.**"
   ]
  },
  {
   "cell_type": "markdown",
   "metadata": {},
   "source": [
    "_**Площадь кухни и гистрограмма с диаграммой размаха с последующим описанием для этого параметра:**_"
   ]
  },
  {
   "cell_type": "code",
   "execution_count": 38,
   "metadata": {},
   "outputs": [
    {
     "data": {
      "image/png": "[encoded data removed]",
      "text/plain": [
       "<Figure size 432x288 with 1 Axes>"
      ]
     },
     "metadata": {
      "needs_background": "light"
     },
     "output_type": "display_data"
    }
   ],
   "source": [
    "data.boxplot(column='kitchen_area')\n",
    "plt.ylim(0, 25)\n",
    "plt.show()"
   ]
  },
  {
   "cell_type": "code",
   "execution_count": 39,
   "metadata": {},
   "outputs": [
    {
     "name": "stdout",
     "output_type": "stream",
     "text": [
      "count    13477.000000\n",
      "mean        10.573148\n",
      "std          6.038917\n",
      "min          1.300000\n",
      "25%          7.000000\n",
      "50%          9.000000\n",
      "75%         12.000000\n",
      "max        112.000000\n",
      "Name: kitchen_area, dtype: float64\n",
      "\n",
      "Медианное значение: 9.0\n"
     ]
    },
    {
     "data": {
      "text/plain": [
       "<AxesSubplot:>"
      ]
     },
     "execution_count": 39,
     "metadata": {},
     "output_type": "execute_result"
    },
    {
     "data": {
      "image/png": "[encoded data removed]",
      "text/plain": [
       "<Figure size 720x576 with 1 Axes>"
      ]
     },
     "metadata": {
      "needs_background": "light"
     },
     "output_type": "display_data"
    }
   ],
   "source": [
    "print(data['kitchen_area'].describe())\n",
    "print()\n",
    "print('Медианное значение:', data['kitchen_area'].median())\n",
    "data['kitchen_area'].hist(bins = 100, range = (0,25), figsize = (10,8))"
   ]
  },
  {
   "cell_type": "markdown",
   "metadata": {},
   "source": [
    "**Можно прийти к выводу, что большая часть площади кухни варируется от 5 до 15 квадратных метров. Самые популярные варианты с площадью кухни чуть более 5 квадратных метров. Варианты с площадью кухни более 15 квадратных метров редко встречаются, тоже самое можно сказать про варианты с площадью меньше 5 квадратных метров. Среднее значение - 10.5 квадратных метров, медианное значение - 9,1 квадратных метра.**"
   ]
  },
  {
   "cell_type": "markdown",
   "metadata": {},
   "source": [
    "_**Цена объекта и гистрограмма с диаграммой размаха с последующим описанием для этого параметра:**_"
   ]
  },
  {
   "cell_type": "code",
   "execution_count": 40,
   "metadata": {},
   "outputs": [
    {
     "data": {
      "image/png": "[encoded data removed]",
      "text/plain": [
       "<Figure size 432x288 with 1 Axes>"
      ]
     },
     "metadata": {
      "needs_background": "light"
     },
     "output_type": "display_data"
    }
   ],
   "source": [
    "data.boxplot(column='last_price')\n",
    "plt.ylim(0, 15000000)\n",
    "plt.show()"
   ]
  },
  {
   "cell_type": "code",
   "execution_count": 41,
   "metadata": {},
   "outputs": [
    {
     "name": "stdout",
     "output_type": "stream",
     "text": [
      "count    1.440100e+04\n",
      "mean     6.822555e+06\n",
      "std      1.007003e+07\n",
      "min      1.219000e+04\n",
      "25%      3.584000e+06\n",
      "50%      4.860000e+06\n",
      "75%      7.030000e+06\n",
      "max      4.200000e+08\n",
      "Name: last_price, dtype: float64\n",
      "\n",
      "Медианное значение: 4860000.0\n"
     ]
    },
    {
     "data": {
      "text/plain": [
       "<AxesSubplot:>"
      ]
     },
     "execution_count": 41,
     "metadata": {},
     "output_type": "execute_result"
    },
    {
     "data": {
      "image/png": "[encoded data removed]",
      "text/plain": [
       "<Figure size 720x576 with 1 Axes>"
      ]
     },
     "metadata": {
      "needs_background": "light"
     },
     "output_type": "display_data"
    }
   ],
   "source": [
    "print(data['last_price'].describe())\n",
    "print()\n",
    "print('Медианное значение:', data['last_price'].median())\n",
    "data['last_price'].hist(bins = 100, range = (0, 15000000), figsize = (10,8))"
   ]
  },
  {
   "cell_type": "markdown",
   "metadata": {},
   "source": [
    "**В большинистве объектов цена изменяется в пределах от 3 до 5 миллионов. Самый популярный вариант в районе 4 миллионов. Среднее значение - 6.5 миллионов, медианное значение- 4.65 миллиона.**"
   ]
  },
  {
   "cell_type": "markdown",
   "metadata": {},
   "source": [
    "_**Количество комнат и гистрограмма с диаграммой размаха с последующим описанием для этого параметра:**_"
   ]
  },
  {
   "cell_type": "code",
   "execution_count": 42,
   "metadata": {},
   "outputs": [
    {
     "data": {
      "image/png": "[encoded data removed]",
      "text/plain": [
       "<Figure size 432x288 with 1 Axes>"
      ]
     },
     "metadata": {
      "needs_background": "light"
     },
     "output_type": "display_data"
    }
   ],
   "source": [
    "data.boxplot(column='rooms')\n",
    "plt.ylim(0, 7)\n",
    "plt.show()"
   ]
  },
  {
   "cell_type": "code",
   "execution_count": 43,
   "metadata": {},
   "outputs": [
    {
     "name": "stdout",
     "output_type": "stream",
     "text": [
      "count    14401.000000\n",
      "mean         2.137629\n",
      "std          1.099091\n",
      "min          0.000000\n",
      "25%          1.000000\n",
      "50%          2.000000\n",
      "75%          3.000000\n",
      "max         16.000000\n",
      "Name: rooms, dtype: float64\n",
      "\n",
      "Медианное значение: 2.0\n"
     ]
    },
    {
     "data": {
      "text/plain": [
       "<AxesSubplot:>"
      ]
     },
     "execution_count": 43,
     "metadata": {},
     "output_type": "execute_result"
    },
    {
     "data": {
      "image/png": "[encoded data removed]",
      "text/plain": [
       "<Figure size 720x576 with 1 Axes>"
      ]
     },
     "metadata": {
      "needs_background": "light"
     },
     "output_type": "display_data"
    }
   ],
   "source": [
    "print(data['rooms'].describe())\n",
    "print()\n",
    "print('Медианное значение:', data['rooms'].median())\n",
    "data['rooms'].hist(bins = 6, range = (1,7), figsize = (10,8))"
   ]
  },
  {
   "cell_type": "markdown",
   "metadata": {},
   "source": [
    "**Большинство жилищных объектов имеют 1 или 2 комнаты, также велико количество трёхкомнатных. Объектов с 4-5 комнатами относительно немного. Среднее и медианное значения 2 комнаты.**"
   ]
  },
  {
   "cell_type": "markdown",
   "metadata": {},
   "source": [
    "_**Высота потолков и гистрограмма с диаграммой размаха с последующим описанием для этого параметра:**_"
   ]
  },
  {
   "cell_type": "code",
   "execution_count": 44,
   "metadata": {},
   "outputs": [
    {
     "data": {
      "image/png": "[encoded data removed]",
      "text/plain": [
       "<Figure size 432x288 with 1 Axes>"
      ]
     },
     "metadata": {
      "needs_background": "light"
     },
     "output_type": "display_data"
    }
   ],
   "source": [
    "data.boxplot(column='ceiling_height')\n",
    "plt.ylim(2, 4)\n",
    "plt.show()"
   ]
  },
  {
   "cell_type": "code",
   "execution_count": 45,
   "metadata": {},
   "outputs": [
    {
     "name": "stdout",
     "output_type": "stream",
     "text": [
      "count    14401.000000\n",
      "mean         2.727157\n",
      "std          0.271006\n",
      "min          2.500000\n",
      "25%          2.520000\n",
      "50%          2.650000\n",
      "75%          2.800000\n",
      "max          5.000000\n",
      "Name: ceiling_height, dtype: float64\n",
      "\n",
      "Медианное значение: 2.65\n"
     ]
    },
    {
     "data": {
      "text/plain": [
       "<AxesSubplot:>"
      ]
     },
     "execution_count": 45,
     "metadata": {},
     "output_type": "execute_result"
    },
    {
     "data": {
      "image/png": "[encoded data removed]",
      "text/plain": [
       "<Figure size 720x576 with 1 Axes>"
      ]
     },
     "metadata": {
      "needs_background": "light"
     },
     "output_type": "display_data"
    }
   ],
   "source": [
    "print(data['ceiling_height'].describe())\n",
    "print()\n",
    "print('Медианное значение:', data['ceiling_height'].median())\n",
    "data['ceiling_height'].hist(bins = 10, range = (2.25,3.25), figsize = (10,8))"
   ]
  },
  {
   "cell_type": "markdown",
   "metadata": {},
   "source": [
    "**Большинство объектов имеют высоту потолков от 2,5 м до 2,8 м. Реже представлены другие варианты. Среднее значение 2.8 метра, медианное - 2.65 метра.**"
   ]
  },
  {
   "cell_type": "markdown",
   "metadata": {},
   "source": [
    "_**Этаж квартиры и гистрограмма с диаграммой размаха с последующим описанием для этого параметра:**_"
   ]
  },
  {
   "cell_type": "code",
   "execution_count": 46,
   "metadata": {},
   "outputs": [
    {
     "data": {
      "image/png": "[encoded data removed]",
      "text/plain": [
       "<Figure size 432x288 with 1 Axes>"
      ]
     },
     "metadata": {
      "needs_background": "light"
     },
     "output_type": "display_data"
    }
   ],
   "source": [
    "data.boxplot(column='floor')\n",
    "plt.ylim(0, 25)\n",
    "plt.show()"
   ]
  },
  {
   "cell_type": "code",
   "execution_count": 47,
   "metadata": {},
   "outputs": [
    {
     "name": "stdout",
     "output_type": "stream",
     "text": [
      "count    14401.000000\n",
      "mean         5.623984\n",
      "std          4.613935\n",
      "min          1.000000\n",
      "25%          2.000000\n",
      "50%          4.000000\n",
      "75%          7.000000\n",
      "max         30.000000\n",
      "Name: floor, dtype: float64\n",
      "\n",
      "Медианное значение: 4.0\n"
     ]
    },
    {
     "data": {
      "text/plain": [
       "<AxesSubplot:>"
      ]
     },
     "execution_count": 47,
     "metadata": {},
     "output_type": "execute_result"
    },
    {
     "data": {
      "image/png": "[encoded data removed]",
      "text/plain": [
       "<Figure size 720x576 with 1 Axes>"
      ]
     },
     "metadata": {
      "needs_background": "light"
     },
     "output_type": "display_data"
    }
   ],
   "source": [
    "print(data['floor'].describe())\n",
    "print()\n",
    "print('Медианное значение:', data['floor'].median())\n",
    "data['floor'].hist(bins = 10, range = (1,20), figsize = (10,8))"
   ]
  },
  {
   "cell_type": "markdown",
   "metadata": {},
   "source": [
    "**Большинство объектов находятся с 1 по 4 этаж, чуть реже встречаются варианты с 4 по 7. Среднее значениее - 6 этаж, а медианное - 4.**"
   ]
  },
  {
   "cell_type": "markdown",
   "metadata": {},
   "source": [
    "_**Тип этажа квартиры и гистрограмма с последующим описанием для этого параметра:**_"
   ]
  },
  {
   "cell_type": "code",
   "execution_count": 48,
   "metadata": {},
   "outputs": [
    {
     "data": {
      "text/plain": [
       "<AxesSubplot:>"
      ]
     },
     "execution_count": 48,
     "metadata": {},
     "output_type": "execute_result"
    },
    {
     "data": {
      "image/png": "[encoded data removed]",
      "text/plain": [
       "<Figure size 576x576 with 1 Axes>"
      ]
     },
     "metadata": {
      "needs_background": "light"
     },
     "output_type": "display_data"
    }
   ],
   "source": [
    "data['floor_type'].hist(bins = 10, figsize = (8,8), grid = False)"
   ]
  },
  {
   "cell_type": "markdown",
   "metadata": {},
   "source": [
    "**Можно прийти к выводу, что квартиры, расположенные на первом и последним этажах имеют примерно одинаковые значения и их доля невелика. В основном квартиры располагаются между первым и последним этажами**"
   ]
  },
  {
   "cell_type": "markdown",
   "metadata": {},
   "source": [
    "_**Общее количество этажей в доме и гистрограмма с диаграммой размаха с последующим описанием для этого параметра:**_"
   ]
  },
  {
   "cell_type": "code",
   "execution_count": 49,
   "metadata": {},
   "outputs": [
    {
     "data": {
      "image/png": "[encoded data removed]",
      "text/plain": [
       "<Figure size 432x288 with 1 Axes>"
      ]
     },
     "metadata": {
      "needs_background": "light"
     },
     "output_type": "display_data"
    }
   ],
   "source": [
    "data.boxplot(column='floors_total')\n",
    "plt.ylim(0, 35)\n",
    "plt.show()"
   ]
  },
  {
   "cell_type": "code",
   "execution_count": 50,
   "metadata": {},
   "outputs": [
    {
     "name": "stdout",
     "output_type": "stream",
     "text": [
      "count    14401.000000\n",
      "mean        10.177904\n",
      "std          6.175041\n",
      "min          1.000000\n",
      "25%          5.000000\n",
      "50%          9.000000\n",
      "75%         14.000000\n",
      "max         35.000000\n",
      "Name: floors_total, dtype: float64\n",
      "\n",
      "Медианное значение: 9.0\n"
     ]
    },
    {
     "data": {
      "text/plain": [
       "<AxesSubplot:>"
      ]
     },
     "execution_count": 50,
     "metadata": {},
     "output_type": "execute_result"
    },
    {
     "data": {
      "image/png": "[encoded data removed]",
      "text/plain": [
       "<Figure size 720x576 with 1 Axes>"
      ]
     },
     "metadata": {
      "needs_background": "light"
     },
     "output_type": "display_data"
    }
   ],
   "source": [
    "print(data['floors_total'].describe())\n",
    "print()\n",
    "print('Медианное значение:', data['floors_total'].median())\n",
    "data['floors_total'].hist(bins = 10, range = (1,30), figsize = (10,8))"
   ]
  },
  {
   "cell_type": "markdown",
   "metadata": {},
   "source": [
    "**Можно прийти к выводу, что большинство объектов 5-ти и 9-ти этажные. Остальные варианты встречаются реже. Среднее значение - 10 этажей, медианное - 9 этажей.**"
   ]
  },
  {
   "cell_type": "markdown",
   "metadata": {},
   "source": [
    "_**Расстояние до центра города в метрах и гистрограмма с диаграммой размаха с последующим описанием для этого параметра:**_"
   ]
  },
  {
   "cell_type": "code",
   "execution_count": 51,
   "metadata": {},
   "outputs": [
    {
     "data": {
      "image/png": "[encoded data removed]",
      "text/plain": [
       "<Figure size 432x288 with 1 Axes>"
      ]
     },
     "metadata": {
      "needs_background": "light"
     },
     "output_type": "display_data"
    }
   ],
   "source": [
    "data.boxplot(column='city_centers_nearest')\n",
    "plt.ylim(0, 30000)\n",
    "plt.show()"
   ]
  },
  {
   "cell_type": "code",
   "execution_count": 52,
   "metadata": {},
   "outputs": [
    {
     "name": "stdout",
     "output_type": "stream",
     "text": [
      "count    11490.000000\n",
      "mean     14063.680070\n",
      "std       8757.077034\n",
      "min        181.000000\n",
      "25%       9041.000000\n",
      "50%      12960.000000\n",
      "75%      16032.750000\n",
      "max      65968.000000\n",
      "Name: city_centers_nearest, dtype: float64\n",
      "\n",
      "Медианное значение: 12960.0\n"
     ]
    },
    {
     "data": {
      "text/plain": [
       "<AxesSubplot:>"
      ]
     },
     "execution_count": 52,
     "metadata": {},
     "output_type": "execute_result"
    },
    {
     "data": {
      "image/png": "[encoded data removed]",
      "text/plain": [
       "<Figure size 720x576 with 1 Axes>"
      ]
     },
     "metadata": {
      "needs_background": "light"
     },
     "output_type": "display_data"
    }
   ],
   "source": [
    "print(data['city_centers_nearest'].describe())\n",
    "print()\n",
    "print('Медианное значение:', data['city_centers_nearest'].median())\n",
    "data['city_centers_nearest'].hist(bins = 10, range = (0,30000), figsize = (10,8))"
   ]
  },
  {
   "cell_type": "markdown",
   "metadata": {},
   "source": [
    "**Большинство объектов  расположены на расстоянии 13-15 км от центра. Остальные варианты представлены реже. Среднее значение -14 км, медианное - 13 км.**"
   ]
  },
  {
   "cell_type": "markdown",
   "metadata": {},
   "source": [
    "_**Расстояние до ближайшего аэропорта и гистрограмма с диаграммой размаха с последующим описанием для этого параметра:**_"
   ]
  },
  {
   "cell_type": "code",
   "execution_count": 53,
   "metadata": {},
   "outputs": [
    {
     "data": {
      "image/png": "[encoded data removed]",
      "text/plain": [
       "<Figure size 432x288 with 1 Axes>"
      ]
     },
     "metadata": {
      "needs_background": "light"
     },
     "output_type": "display_data"
    }
   ],
   "source": [
    "data.boxplot(column='airports_nearest')\n",
    "plt.ylim(0, 80000)\n",
    "plt.show()"
   ]
  },
  {
   "cell_type": "code",
   "execution_count": 54,
   "metadata": {},
   "outputs": [
    {
     "name": "stdout",
     "output_type": "stream",
     "text": [
      "count    11470.000000\n",
      "mean     28829.955536\n",
      "std      12623.053806\n",
      "min          0.000000\n",
      "25%      18553.250000\n",
      "50%      26764.500000\n",
      "75%      37091.000000\n",
      "max      84869.000000\n",
      "Name: airports_nearest, dtype: float64\n",
      "\n",
      "Медианное значение: 26764.5\n"
     ]
    },
    {
     "data": {
      "text/plain": [
       "<AxesSubplot:>"
      ]
     },
     "execution_count": 54,
     "metadata": {},
     "output_type": "execute_result"
    },
    {
     "data": {
      "image/png": "[encoded data removed]",
      "text/plain": [
       "<Figure size 720x576 with 1 Axes>"
      ]
     },
     "metadata": {
      "needs_background": "light"
     },
     "output_type": "display_data"
    }
   ],
   "source": [
    "print(data['airports_nearest'].describe())\n",
    "print()\n",
    "print('Медианное значение:', data['airports_nearest'].median())\n",
    "data['airports_nearest'].hist(bins = 10, range = (0, 80000), figsize = (10,8))"
   ]
  },
  {
   "cell_type": "markdown",
   "metadata": {},
   "source": [
    "**Большинство объектов расположены на расстоянии от аэропорта в 15-25 километров. Среднее значение  28.8 километров, а медианное - 26.7 километров.**"
   ]
  },
  {
   "cell_type": "markdown",
   "metadata": {},
   "source": [
    "_**Расстояние до ближайшего парка и гистрограмма с диаграммой размаха с последующим описанием для этого параметра:**_"
   ]
  },
  {
   "cell_type": "code",
   "execution_count": 55,
   "metadata": {},
   "outputs": [
    {
     "data": {
      "image/png": "[encoded data removed]",
      "text/plain": [
       "<Figure size 432x288 with 1 Axes>"
      ]
     },
     "metadata": {
      "needs_background": "light"
     },
     "output_type": "display_data"
    }
   ],
   "source": [
    "data.boxplot(column='parks_nearest')\n",
    "plt.ylim(0, 2000)\n",
    "plt.show()"
   ]
  },
  {
   "cell_type": "code",
   "execution_count": 56,
   "metadata": {},
   "outputs": [
    {
     "name": "stdout",
     "output_type": "stream",
     "text": [
      "count    5253.000000\n",
      "mean      476.849990\n",
      "std       320.721981\n",
      "min         3.000000\n",
      "25%       285.000000\n",
      "50%       448.000000\n",
      "75%       602.000000\n",
      "max      3190.000000\n",
      "Name: parks_nearest, dtype: float64\n",
      "\n",
      "Медианное значение: 448.0\n"
     ]
    },
    {
     "data": {
      "text/plain": [
       "<AxesSubplot:>"
      ]
     },
     "execution_count": 56,
     "metadata": {},
     "output_type": "execute_result"
    },
    {
     "data": {
      "image/png": "[encoded data removed]",
      "text/plain": [
       "<Figure size 720x576 with 1 Axes>"
      ]
     },
     "metadata": {
      "needs_background": "light"
     },
     "output_type": "display_data"
    }
   ],
   "source": [
    "print(data['parks_nearest'].describe())\n",
    "print()\n",
    "print('Медианное значение:', data['parks_nearest'].median())\n",
    "data['parks_nearest'].hist(bins = 15, range = (0, 1500), figsize = (10,8))"
   ]
  },
  {
   "cell_type": "markdown",
   "metadata": {},
   "source": [
    "**Большинство объектов  расположены на расстоянии от ближайшего парка на расстоянии 200-600 метров. Среднее значение - 476 метров, медианное - 484 метра.**"
   ]
  },
  {
   "cell_type": "markdown",
   "metadata": {},
   "source": [
    "_**День публикации объявления и гистрограмма с последующим описанием для этого параметра:**_"
   ]
  },
  {
   "cell_type": "code",
   "execution_count": 57,
   "metadata": {},
   "outputs": [
    {
     "data": {
      "text/plain": [
       "<AxesSubplot:>"
      ]
     },
     "execution_count": 57,
     "metadata": {},
     "output_type": "execute_result"
    },
    {
     "data": {
      "image/png": "[encoded data removed]",
      "text/plain": [
       "<Figure size 720x576 with 1 Axes>"
      ]
     },
     "metadata": {
      "needs_background": "light"
     },
     "output_type": "display_data"
    }
   ],
   "source": [
    "data['posted_day_week'].hist(bins = 20, figsize = (10,8))"
   ]
  },
  {
   "cell_type": "markdown",
   "metadata": {},
   "source": [
    "**Можно прийти к выводу, что объявление опубликововали чаще в будние дни, чем в выходные**"
   ]
  },
  {
   "cell_type": "markdown",
   "metadata": {},
   "source": [
    "_**Месяц публикации объявления и гистрограмма с последующим описанием для этого параметра:**_"
   ]
  },
  {
   "cell_type": "code",
   "execution_count": 58,
   "metadata": {},
   "outputs": [
    {
     "data": {
      "text/plain": [
       "<AxesSubplot:>"
      ]
     },
     "execution_count": 58,
     "metadata": {},
     "output_type": "execute_result"
    },
    {
     "data": {
      "image/png": "[encoded data removed]",
      "text/plain": [
       "<Figure size 720x576 with 1 Axes>"
      ]
     },
     "metadata": {
      "needs_background": "light"
     },
     "output_type": "display_data"
    }
   ],
   "source": [
    "data['posted_month'].hist(bins = 100, figsize = (10,8))"
   ]
  },
  {
   "cell_type": "markdown",
   "metadata": {},
   "source": [
    "**Можно заметить, что чаще всего объявления опубликововались в феврале и в марте. Наименьшое число публикаций приходится на январь и май. Можно попробовать сделать вывод, что это связано с праздничными днями.**"
   ]
  },
  {
   "cell_type": "markdown",
   "metadata": {},
   "source": [
    "**Мы изучили и описали параметры, можно сказать, что типичный объект недвижимости будет выглядеть так:**\n",
    "* 1 или 2 комнаты\n",
    "* дом 5-ти или 9-ти этажный\n",
    "* объект преимущеннство распологается с 1 по 4 этаж\n",
    "* общая площадь около 50 квадратных метров\n",
    "* площадь кухни около 5 квадратных метров\n",
    "* высота потолков от 2.5 до 2.8 метров\n",
    "* стоимость около 3.5 миллионов\n",
    "* расположение на расстоянии от центра в 13-15 км \n",
    "* расположение от аэропорта на расстоянии в 15-25 километров\n",
    "* расположение до парка около  200-600 метров"
   ]
  },
  {
   "cell_type": "markdown",
   "metadata": {},
   "source": [
    "**Изучим, как быстро продавались квартиры (столбец days_exposition). Этот параметр показывает, сколько дней «висело» каждое объявление, построим гистограмму, посчитаем среднее и медиану.\n",
    "Опишим, сколько обычно занимает продажа. Выясним какие продажи можно считать быстрыми, а какие — необычно долгими.**"
   ]
  },
  {
   "cell_type": "markdown",
   "metadata": {},
   "source": [
    "_**Построим гистограмму и диаграмму размаха для столбца days_exposition:**_"
   ]
  },
  {
   "cell_type": "code",
   "execution_count": 59,
   "metadata": {},
   "outputs": [
    {
     "data": {
      "text/plain": [
       "<AxesSubplot:>"
      ]
     },
     "execution_count": 59,
     "metadata": {},
     "output_type": "execute_result"
    },
    {
     "data": {
      "image/png": "[encoded data removed]",
      "text/plain": [
       "<Figure size 432x288 with 1 Axes>"
      ]
     },
     "metadata": {
      "needs_background": "light"
     },
     "output_type": "display_data"
    }
   ],
   "source": [
    "data['days_exposition'].hist(bins = 100)"
   ]
  },
  {
   "cell_type": "code",
   "execution_count": 60,
   "metadata": {},
   "outputs": [
    {
     "data": {
      "text/plain": [
       "<AxesSubplot:>"
      ]
     },
     "execution_count": 60,
     "metadata": {},
     "output_type": "execute_result"
    },
    {
     "data": {
      "image/png": "[encoded data removed]",
      "text/plain": [
       "<Figure size 432x288 with 1 Axes>"
      ]
     },
     "metadata": {
      "needs_background": "light"
     },
     "output_type": "display_data"
    }
   ],
   "source": [
    "data.boxplot(column = 'days_exposition')"
   ]
  },
  {
   "cell_type": "code",
   "execution_count": 61,
   "metadata": {},
   "outputs": [
    {
     "data": {
      "text/plain": [
       "count    11965.000000\n",
       "mean       190.534643\n",
       "std        228.860502\n",
       "min          1.000000\n",
       "25%         45.000000\n",
       "50%        103.000000\n",
       "75%        248.000000\n",
       "max       1580.000000\n",
       "Name: days_exposition, dtype: float64"
      ]
     },
     "execution_count": 61,
     "metadata": {},
     "output_type": "execute_result"
    }
   ],
   "source": [
    "data['days_exposition'].describe()"
   ]
  },
  {
   "cell_type": "markdown",
   "metadata": {},
   "source": [
    "_**Посчитаем межквартальный размах, чтобы выяснить до какого значения у нас простираются усы на диаграмме размаха, чтобы понять какие данные будут считаться выбросами**_"
   ]
  },
  {
   "cell_type": "code",
   "execution_count": 62,
   "metadata": {},
   "outputs": [
    {
     "name": "stdout",
     "output_type": "stream",
     "text": [
      "203\n"
     ]
    }
   ],
   "source": [
    "#межквартальный размах \n",
    "q3 = 248\n",
    "q1 = 45\n",
    "IQR = q3-q1\n",
    "print(IQR)"
   ]
  },
  {
   "cell_type": "code",
   "execution_count": 63,
   "metadata": {},
   "outputs": [
    {
     "name": "stdout",
     "output_type": "stream",
     "text": [
      "552.5\n"
     ]
    }
   ],
   "source": [
    "bad_data = 1.5*IQR + q3\n",
    "print(bad_data)"
   ]
  },
  {
   "cell_type": "markdown",
   "metadata": {},
   "source": [
    "**Значения, превышающие верхний ус диаграммы размаха больше переменной bad_data. Так что можно считать их выбросами.**"
   ]
  },
  {
   "cell_type": "markdown",
   "metadata": {},
   "source": [
    "_**Построим нашу гистрограмму заново, игнорируя выбросы:**_"
   ]
  },
  {
   "cell_type": "code",
   "execution_count": 64,
   "metadata": {},
   "outputs": [
    {
     "data": {
      "text/plain": [
       "<AxesSubplot:>"
      ]
     },
     "execution_count": 64,
     "metadata": {},
     "output_type": "execute_result"
    },
    {
     "data": {
      "image/png": "[encoded data removed]",
      "text/plain": [
       "<Figure size 432x288 with 1 Axes>"
      ]
     },
     "metadata": {
      "needs_background": "light"
     },
     "output_type": "display_data"
    }
   ],
   "source": [
    "data['days_exposition'].hist(bins = 100, range = (0, 552.5))"
   ]
  },
  {
   "cell_type": "markdown",
   "metadata": {},
   "source": [
    "На графике видно несколько пиков, но при таком длинном \"хвосте\" из данных делать выводы не выйдет. Изменим масштаб - изменим период до 100 дней."
   ]
  },
  {
   "cell_type": "code",
   "execution_count": 65,
   "metadata": {},
   "outputs": [
    {
     "data": {
      "text/plain": [
       "<AxesSubplot:>"
      ]
     },
     "execution_count": 65,
     "metadata": {},
     "output_type": "execute_result"
    },
    {
     "data": {
      "image/png": "[encoded data removed]",
      "text/plain": [
       "<Figure size 432x288 with 1 Axes>"
      ]
     },
     "metadata": {
      "needs_background": "light"
     },
     "output_type": "display_data"
    }
   ],
   "source": [
    "data['days_exposition'].hist(bins = 100, range = (0, 100))"
   ]
  },
  {
   "cell_type": "markdown",
   "metadata": {},
   "source": [
    "**Можно прийти к выводу, что чаще всего квартиры продаются где-то за 45 и 60 дней.**"
   ]
  },
  {
   "cell_type": "markdown",
   "metadata": {},
   "source": [
    "_**Посчитаем медиану и среднее значение для столбца days_exposition:**_"
   ]
  },
  {
   "cell_type": "code",
   "execution_count": 66,
   "metadata": {},
   "outputs": [
    {
     "data": {
      "text/plain": [
       "count    11965.000000\n",
       "mean       190.534643\n",
       "std        228.860502\n",
       "min          1.000000\n",
       "25%         45.000000\n",
       "50%        103.000000\n",
       "75%        248.000000\n",
       "max       1580.000000\n",
       "Name: days_exposition, dtype: float64"
      ]
     },
     "execution_count": 66,
     "metadata": {},
     "output_type": "execute_result"
    }
   ],
   "source": [
    "data['days_exposition'].describe()"
   ]
  },
  {
   "cell_type": "markdown",
   "metadata": {},
   "source": [
    "**Среднее значение - 190 дней, медиана - 103 дня, видно, что среднее значение почти вдвое больше медианы, это говорит нам о наличии большего количества вбросов. Максимальное значение - 1580 дней и на первой гистограмме мы действительно наблюдаем длинный \"хвост\".**"
   ]
  },
  {
   "cell_type": "markdown",
   "metadata": {},
   "source": [
    "**Вывод:**\n",
    "* быстрые продажи - до 45 дней \n",
    "* нормальные продажи - от 45 до 248 дней\n",
    "* долгие продажи - от 248  до 552 дней\n",
    "* выбросы - все, что выше 552 дней\n",
    "* чаще всего квартиры продаются где-то за 45 и 60 дней"
   ]
  },
  {
   "cell_type": "markdown",
   "metadata": {},
   "source": [
    "**Выясним факторы больше всего влияют на общую (полную) стоимость объекта. Покажем зависимость цены от указанных ниже параметров:**\n",
    "  - общей площади;\n",
    "  - жилой площади;\n",
    "  - площади кухни;\n",
    "  - количество комнат;\n",
    "  - типа этажа, на котором расположена квартира (первый, последний, другой);\n",
    "  - даты размещения (день недели, месяц, год)"
   ]
  },
  {
   "cell_type": "markdown",
   "metadata": {},
   "source": [
    "_**Общая площадь:**_"
   ]
  },
  {
   "cell_type": "code",
   "execution_count": 67,
   "metadata": {},
   "outputs": [
    {
     "name": "stdout",
     "output_type": "stream",
     "text": [
      "Коэффициент корреляции между площадью и стоимостью: 0.7118788235459983\n"
     ]
    }
   ],
   "source": [
    "print('Коэффициент корреляции между площадью и стоимостью:', data['total_area'].corr(data['last_price']))"
   ]
  },
  {
   "cell_type": "code",
   "execution_count": 68,
   "metadata": {},
   "outputs": [
    {
     "data": {
      "text/plain": [
       "<AxesSubplot:xlabel='total_area', ylabel='last_price'>"
      ]
     },
     "execution_count": 68,
     "metadata": {},
     "output_type": "execute_result"
    },
    {
     "data": {
      "image/png": "[encoded data removed]",
      "text/plain": [
       "<Figure size 432x288 with 1 Axes>"
      ]
     },
     "metadata": {
      "needs_background": "light"
     },
     "output_type": "display_data"
    }
   ],
   "source": [
    "data.plot(x='total_area',y='last_price',kind='scatter', legend=True, alpha = 0.03)"
   ]
  },
  {
   "cell_type": "markdown",
   "metadata": {},
   "source": [
    "**Коэффициент корреляции близок к единице, он положительный, это говорит о довольно сильной зависимости параметров, с ростом площади растет и цена. Графически это тоже наглядно заметно.**"
   ]
  },
  {
   "cell_type": "markdown",
   "metadata": {},
   "source": [
    "_**Жилая площадь:**_"
   ]
  },
  {
   "cell_type": "code",
   "execution_count": 69,
   "metadata": {},
   "outputs": [
    {
     "name": "stdout",
     "output_type": "stream",
     "text": [
      "Коэффициент корреляции между жилой площадью и стоимостью: 0.6124481072129778\n"
     ]
    }
   ],
   "source": [
    "print('Коэффициент корреляции между жилой площадью и стоимостью:', data['living_area'].corr(data['last_price']))"
   ]
  },
  {
   "cell_type": "code",
   "execution_count": 70,
   "metadata": {},
   "outputs": [
    {
     "data": {
      "text/plain": [
       "<AxesSubplot:xlabel='living_area', ylabel='last_price'>"
      ]
     },
     "execution_count": 70,
     "metadata": {},
     "output_type": "execute_result"
    },
    {
     "data": {
      "image/png": "[encoded data removed]",
      "text/plain": [
       "<Figure size 432x288 with 1 Axes>"
      ]
     },
     "metadata": {
      "needs_background": "light"
     },
     "output_type": "display_data"
    }
   ],
   "source": [
    "data.plot(x='living_area',y='last_price',kind='scatter', legend=True, alpha = 0.03)"
   ]
  },
  {
   "cell_type": "markdown",
   "metadata": {},
   "source": [
    "**Коэффициент корреляции близок к единице, он положительный, это говорит о довольно сильной зависимости параметров, с ростом жилой площади растет и цена. Графически это тоже наглядно заметно.**"
   ]
  },
  {
   "cell_type": "markdown",
   "metadata": {},
   "source": [
    "_**Площадь кухни:**_"
   ]
  },
  {
   "cell_type": "code",
   "execution_count": 71,
   "metadata": {},
   "outputs": [
    {
     "name": "stdout",
     "output_type": "stream",
     "text": [
      "Коэффициент корреляции между площадью кухни и стоимостью: 0.5338583313267877\n"
     ]
    }
   ],
   "source": [
    "print('Коэффициент корреляции между площадью кухни и стоимостью:', data['kitchen_area'].corr(data['last_price']))"
   ]
  },
  {
   "cell_type": "code",
   "execution_count": 72,
   "metadata": {},
   "outputs": [
    {
     "data": {
      "text/plain": [
       "<AxesSubplot:xlabel='kitchen_area', ylabel='last_price'>"
      ]
     },
     "execution_count": 72,
     "metadata": {},
     "output_type": "execute_result"
    },
    {
     "data": {
      "image/png": "[encoded data removed]",
      "text/plain": [
       "<Figure size 432x288 with 1 Axes>"
      ]
     },
     "metadata": {
      "needs_background": "light"
     },
     "output_type": "display_data"
    }
   ],
   "source": [
    "data.plot(x='kitchen_area',y='last_price',kind='scatter', legend=True, alpha = 0.03)"
   ]
  },
  {
   "cell_type": "markdown",
   "metadata": {},
   "source": [
    "**Зависимость уже меньше, чем в прошлых параметрах, но так же можно сказать, что с ростом площади кухни растет и цена.**"
   ]
  },
  {
   "cell_type": "markdown",
   "metadata": {},
   "source": [
    "_**Количество комнат:**_"
   ]
  },
  {
   "cell_type": "code",
   "execution_count": 73,
   "metadata": {},
   "outputs": [
    {
     "name": "stdout",
     "output_type": "stream",
     "text": [
      "Коэффициент корреляции между площадью кухни и стоимостью: 0.40143813720555915\n"
     ]
    }
   ],
   "source": [
    "print('Коэффициент корреляции между площадью кухни и стоимостью:', data['rooms'].corr(data['last_price']))"
   ]
  },
  {
   "cell_type": "code",
   "execution_count": 74,
   "metadata": {},
   "outputs": [
    {
     "data": {
      "text/plain": [
       "<AxesSubplot:xlabel='rooms', ylabel='last_price'>"
      ]
     },
     "execution_count": 74,
     "metadata": {},
     "output_type": "execute_result"
    },
    {
     "data": {
      "image/png": "[encoded data removed]",
      "text/plain": [
       "<Figure size 432x288 with 1 Axes>"
      ]
     },
     "metadata": {
      "needs_background": "light"
     },
     "output_type": "display_data"
    }
   ],
   "source": [
    "data.plot(x='rooms',y='last_price',kind='scatter', legend=True, alpha = 0.1)"
   ]
  },
  {
   "cell_type": "markdown",
   "metadata": {},
   "source": [
    "**С увеличением числа комнат до 3 комнат стоимость квартир растет, от 3 до 4 - цена примерно одинаковая, для 5 комнат стоимость снижается. Можно сказать о слабой зависимости параметров.** "
   ]
  },
  {
   "cell_type": "markdown",
   "metadata": {},
   "source": [
    "_**Типа этажа, на котором расположена квартира (первый, последний, другой):**_"
   ]
  },
  {
   "cell_type": "code",
   "execution_count": 75,
   "metadata": {},
   "outputs": [
    {
     "data": {
      "text/html": [
       "<div>\n",
       "<style scoped>\n",
       "    .dataframe tbody tr th:only-of-type {\n",
       "        vertical-align: middle;\n",
       "    }\n",
       "\n",
       "    .dataframe tbody tr th {\n",
       "        vertical-align: top;\n",
       "    }\n",
       "\n",
       "    .dataframe thead th {\n",
       "        text-align: right;\n",
       "    }\n",
       "</style>\n",
       "<table border=\"1\" class=\"dataframe\">\n",
       "  <thead>\n",
       "    <tr style=\"text-align: right;\">\n",
       "      <th></th>\n",
       "      <th>last_price</th>\n",
       "    </tr>\n",
       "    <tr>\n",
       "      <th>floor_type</th>\n",
       "      <th></th>\n",
       "    </tr>\n",
       "  </thead>\n",
       "  <tbody>\n",
       "    <tr>\n",
       "      <th>другой</th>\n",
       "      <td>5000000</td>\n",
       "    </tr>\n",
       "    <tr>\n",
       "      <th>первый</th>\n",
       "      <td>4082500</td>\n",
       "    </tr>\n",
       "    <tr>\n",
       "      <th>последний</th>\n",
       "      <td>4550000</td>\n",
       "    </tr>\n",
       "  </tbody>\n",
       "</table>\n",
       "</div>"
      ],
      "text/plain": [
       "            last_price\n",
       "floor_type            \n",
       "другой         5000000\n",
       "первый         4082500\n",
       "последний      4550000"
      ]
     },
     "execution_count": 75,
     "metadata": {},
     "output_type": "execute_result"
    }
   ],
   "source": [
    "data.pivot_table(index='floor_type', values='last_price', aggfunc='median')"
   ]
  },
  {
   "cell_type": "markdown",
   "metadata": {},
   "source": [
    "**Квартиры, расположенные на первом этаже, стоят ниже, чем те, которые находятся на других или последнем этажах.**"
   ]
  },
  {
   "cell_type": "markdown",
   "metadata": {},
   "source": [
    "_**Дата размещения (день недели, месяц, год):**_"
   ]
  },
  {
   "cell_type": "markdown",
   "metadata": {},
   "source": [
    "**Считать корреляцию для категориальных данных не корректно, так как корреляция применима только к линейным зависимостям, зависимость от дня недели, месяца или года не линейна, чаще всего там есть сезонность. Тут лучше построим столбчатую диаграмму по медианам.**"
   ]
  },
  {
   "cell_type": "markdown",
   "metadata": {},
   "source": [
    "_**День размещения и стоимость**_"
   ]
  },
  {
   "cell_type": "code",
   "execution_count": 77,
   "metadata": {},
   "outputs": [
    {
     "data": {
      "image/png": "[encoded data removed]",
      "text/plain": [
       "<Figure size 432x288 with 1 Axes>"
      ]
     },
     "metadata": {
      "needs_background": "light"
     },
     "output_type": "display_data"
    }
   ],
   "source": [
    "median_prices = data.groupby('posted_day_week')['last_price'].median()\n",
    "median_prices.plot(kind='bar')\n",
    "plt.xlabel('День недели')\n",
    "plt.ylabel('Медианная цена')\n",
    "plt.title('Столбчатая диаграмма медианных цен по дням недели')\n",
    "plt.show()"
   ]
  },
  {
   "cell_type": "markdown",
   "metadata": {},
   "source": [
    "_**Месяц размещения и стоимость**_"
   ]
  },
  {
   "cell_type": "code",
   "execution_count": 78,
   "metadata": {},
   "outputs": [
    {
     "data": {
      "image/png": "[encoded data removed]",
      "text/plain": [
       "<Figure size 432x288 with 1 Axes>"
      ]
     },
     "metadata": {
      "needs_background": "light"
     },
     "output_type": "display_data"
    }
   ],
   "source": [
    "median_prices = data.groupby('posted_month')['last_price'].median()\n",
    "median_prices.plot(kind='bar')\n",
    "plt.xlabel('Месяц')\n",
    "plt.ylabel('Медианная цена')\n",
    "plt.title('Столбчатая диаграмма медианных цен по месяцам')\n",
    "plt.show()"
   ]
  },
  {
   "cell_type": "markdown",
   "metadata": {},
   "source": [
    "_**Год размещения и стоимость**_"
   ]
  },
  {
   "cell_type": "code",
   "execution_count": 79,
   "metadata": {},
   "outputs": [
    {
     "data": {
      "image/png": "[encoded data removed]",
      "text/plain": [
       "<Figure size 432x288 with 1 Axes>"
      ]
     },
     "metadata": {
      "needs_background": "light"
     },
     "output_type": "display_data"
    }
   ],
   "source": [
    "median_prices = data.groupby('posted_year')['last_price'].median()\n",
    "median_prices.plot(kind='bar')\n",
    "plt.xlabel('Год')\n",
    "plt.ylabel('Медианная цена')\n",
    "plt.title('Столбчатая диаграмма медианных цен по годам')\n",
    "plt.show()"
   ]
  },
  {
   "cell_type": "markdown",
   "metadata": {},
   "source": [
    "**Зависимоть между датой размещения объявления по дням, месяцам и стоимостью квартир практически отсутствует. А вот по годам можно сказать, что в 2014 году стоимость продажи была выше.**"
   ]
  },
  {
   "cell_type": "markdown",
   "metadata": {},
   "source": [
    "**Вывод:**\n",
    "* На общую (полную) стоимость объекта больше всего влияет общая площадь квартиры, жилая площадь и этаж расположения квартиры. \n",
    "* Чем больше площадь, тем выше стоимость. \n",
    "* Квартиры на первом этаже дешевле. \n",
    "* Зависимоть между датой размещения объявления по дням, месяцам и стоимостью квартир практически отсутствует. А вот по годам можно сказать, что в 2014 году стоимость продажи была выше."
   ]
  },
  {
   "cell_type": "markdown",
   "metadata": {},
   "source": [
    "**Посчитаем среднюю цену одного квадратного метра в 10 населённых пунктах с наибольшим числом объявлений. Выделим населённые пункты с самой высокой и низкой стоимостью квадратного метра.**"
   ]
  },
  {
   "cell_type": "markdown",
   "metadata": {},
   "source": [
    "_**10 населенных пунктов с большим числом объявлений:**_"
   ]
  },
  {
   "cell_type": "code",
   "execution_count": 80,
   "metadata": {},
   "outputs": [
    {
     "name": "stdout",
     "output_type": "stream",
     "text": [
      "Санкт-Петербург      10045\n",
      "Всеволожск             271\n",
      "Пушкин                 231\n",
      "посёлок Мурино         228\n",
      "посёлок Шушары         216\n",
      "Колпино                202\n",
      "Кудрово                194\n",
      "Гатчина                149\n",
      "Петергоф               145\n",
      "посёлок Парголово      136\n",
      "Name: locality_name, dtype: int64\n"
     ]
    }
   ],
   "source": [
    "top_10 = data['locality_name'].value_counts().head(10)\n",
    "print(top_10)"
   ]
  },
  {
   "cell_type": "markdown",
   "metadata": {},
   "source": [
    "_**Получим среднюю стоимость квадратного метра по 10 населенным пунктам с большим числом объявлений:**_"
   ]
  },
  {
   "cell_type": "code",
   "execution_count": 81,
   "metadata": {},
   "outputs": [
    {
     "data": {
      "text/html": [
       "<div>\n",
       "<style scoped>\n",
       "    .dataframe tbody tr th:only-of-type {\n",
       "        vertical-align: middle;\n",
       "    }\n",
       "\n",
       "    .dataframe tbody tr th {\n",
       "        vertical-align: top;\n",
       "    }\n",
       "\n",
       "    .dataframe thead th {\n",
       "        text-align: right;\n",
       "    }\n",
       "</style>\n",
       "<table border=\"1\" class=\"dataframe\">\n",
       "  <thead>\n",
       "    <tr style=\"text-align: right;\">\n",
       "      <th></th>\n",
       "      <th>price_one_square_meter</th>\n",
       "    </tr>\n",
       "    <tr>\n",
       "      <th>locality_name</th>\n",
       "      <th></th>\n",
       "    </tr>\n",
       "  </thead>\n",
       "  <tbody>\n",
       "    <tr>\n",
       "      <th>Санкт-Петербург</th>\n",
       "      <td>115599.611484</td>\n",
       "    </tr>\n",
       "    <tr>\n",
       "      <th>Пушкин</th>\n",
       "      <td>103965.675275</td>\n",
       "    </tr>\n",
       "    <tr>\n",
       "      <th>Кудрово</th>\n",
       "      <td>96105.431978</td>\n",
       "    </tr>\n",
       "    <tr>\n",
       "      <th>посёлок Парголово</th>\n",
       "      <td>90977.423171</td>\n",
       "    </tr>\n",
       "    <tr>\n",
       "      <th>посёлок Мурино</th>\n",
       "      <td>87816.925290</td>\n",
       "    </tr>\n",
       "    <tr>\n",
       "      <th>Петергоф</th>\n",
       "      <td>85554.144673</td>\n",
       "    </tr>\n",
       "    <tr>\n",
       "      <th>посёлок Шушары</th>\n",
       "      <td>79286.491658</td>\n",
       "    </tr>\n",
       "    <tr>\n",
       "      <th>Колпино</th>\n",
       "      <td>75973.424752</td>\n",
       "    </tr>\n",
       "    <tr>\n",
       "      <th>Гатчина</th>\n",
       "      <td>69992.693801</td>\n",
       "    </tr>\n",
       "    <tr>\n",
       "      <th>Всеволожск</th>\n",
       "      <td>67434.629936</td>\n",
       "    </tr>\n",
       "  </tbody>\n",
       "</table>\n",
       "</div>"
      ],
      "text/plain": [
       "                   price_one_square_meter\n",
       "locality_name                            \n",
       "Санкт-Петербург             115599.611484\n",
       "Пушкин                      103965.675275\n",
       "Кудрово                      96105.431978\n",
       "посёлок Парголово            90977.423171\n",
       "посёлок Мурино               87816.925290\n",
       "Петергоф                     85554.144673\n",
       "посёлок Шушары               79286.491658\n",
       "Колпино                      75973.424752\n",
       "Гатчина                      69992.693801\n",
       "Всеволожск                   67434.629936"
      ]
     },
     "execution_count": 81,
     "metadata": {},
     "output_type": "execute_result"
    }
   ],
   "source": [
    "top_10_pivot = data.query('locality_name in @top_10.index').pivot_table(index='locality_name', values='price_one_square_meter')\n",
    "top_10_pivot.sort_values(by='price_one_square_meter', ascending=False)"
   ]
  },
  {
   "cell_type": "code",
   "execution_count": 82,
   "metadata": {},
   "outputs": [
    {
     "data": {
      "text/plain": [
       "Text(0.5, 1.0, 'Средняя цена за квадратный метр')"
      ]
     },
     "execution_count": 82,
     "metadata": {},
     "output_type": "execute_result"
    },
    {
     "data": {
      "image/png": "[encoded data removed]",
      "text/plain": [
       "<Figure size 576x432 with 1 Axes>"
      ]
     },
     "metadata": {
      "needs_background": "light"
     },
     "output_type": "display_data"
    }
   ],
   "source": [
    "top_10_pivot.sort_values(by='price_one_square_meter').plot(kind='barh', legend=True, grid=True, ec='black', figsize=(8, 6))\n",
    "plt.title('Средняя цена за квадратный метр')"
   ]
  },
  {
   "cell_type": "markdown",
   "metadata": {},
   "source": [
    "**Можно прийти к выводу, что что наибольшая средняя цена за 1 квадратный метр в Санкт-Петербурге, что довольно логично - ведь это административный центр. Следом по стоимости идет город Пушкин, что тоже оправдано - много исторических мест, многие объекты недвижимости имеют культурную ценность, много парков и расположение к городу довольно близкое. Наименьшая стоимость за квадратный метр в Всеволожске.**"
   ]
  },
  {
   "cell_type": "markdown",
   "metadata": {},
   "source": [
    "**Ранее мы посчитали расстояние до центра в километрах. Теперь выделим квартиры в Санкт-Петербурге с помощью столбца locality_name и вычислим среднюю цену каждого километра. Опишем, как стоимость объектов зависит от расстояния до центра города.**"
   ]
  },
  {
   "cell_type": "code",
   "execution_count": 83,
   "metadata": {},
   "outputs": [
    {
     "data": {
      "text/html": [
       "<div>\n",
       "<style scoped>\n",
       "    .dataframe tbody tr th:only-of-type {\n",
       "        vertical-align: middle;\n",
       "    }\n",
       "\n",
       "    .dataframe tbody tr th {\n",
       "        vertical-align: top;\n",
       "    }\n",
       "\n",
       "    .dataframe thead th {\n",
       "        text-align: right;\n",
       "    }\n",
       "</style>\n",
       "<table border=\"1\" class=\"dataframe\">\n",
       "  <thead>\n",
       "    <tr style=\"text-align: right;\">\n",
       "      <th></th>\n",
       "      <th>total_images</th>\n",
       "      <th>last_price</th>\n",
       "      <th>total_area</th>\n",
       "      <th>first_day_exposition</th>\n",
       "      <th>rooms</th>\n",
       "      <th>ceiling_height</th>\n",
       "      <th>floors_total</th>\n",
       "      <th>living_area</th>\n",
       "      <th>floor</th>\n",
       "      <th>is_apartment</th>\n",
       "      <th>...</th>\n",
       "      <th>parks_nearest</th>\n",
       "      <th>ponds_around3000</th>\n",
       "      <th>ponds_nearest</th>\n",
       "      <th>days_exposition</th>\n",
       "      <th>price_one_square_meter</th>\n",
       "      <th>posted_day_week</th>\n",
       "      <th>posted_month</th>\n",
       "      <th>posted_year</th>\n",
       "      <th>floor_type</th>\n",
       "      <th>distance_to_center_kilometers</th>\n",
       "    </tr>\n",
       "  </thead>\n",
       "  <tbody>\n",
       "    <tr>\n",
       "      <th>0</th>\n",
       "      <td>20</td>\n",
       "      <td>13000000</td>\n",
       "      <td>108.0</td>\n",
       "      <td>2019-03-07</td>\n",
       "      <td>3</td>\n",
       "      <td>2.70</td>\n",
       "      <td>16</td>\n",
       "      <td>51.0</td>\n",
       "      <td>8</td>\n",
       "      <td>False</td>\n",
       "      <td>...</td>\n",
       "      <td>482.0</td>\n",
       "      <td>2.0</td>\n",
       "      <td>755.0</td>\n",
       "      <td>NaN</td>\n",
       "      <td>120370.370370</td>\n",
       "      <td>3</td>\n",
       "      <td>3</td>\n",
       "      <td>2019</td>\n",
       "      <td>другой</td>\n",
       "      <td>16.0</td>\n",
       "    </tr>\n",
       "    <tr>\n",
       "      <th>4</th>\n",
       "      <td>2</td>\n",
       "      <td>10000000</td>\n",
       "      <td>100.0</td>\n",
       "      <td>2018-06-19</td>\n",
       "      <td>2</td>\n",
       "      <td>3.03</td>\n",
       "      <td>14</td>\n",
       "      <td>32.0</td>\n",
       "      <td>13</td>\n",
       "      <td>False</td>\n",
       "      <td>...</td>\n",
       "      <td>112.0</td>\n",
       "      <td>1.0</td>\n",
       "      <td>48.0</td>\n",
       "      <td>121.0</td>\n",
       "      <td>100000.000000</td>\n",
       "      <td>1</td>\n",
       "      <td>6</td>\n",
       "      <td>2018</td>\n",
       "      <td>другой</td>\n",
       "      <td>8.0</td>\n",
       "    </tr>\n",
       "    <tr>\n",
       "      <th>9</th>\n",
       "      <td>18</td>\n",
       "      <td>5400000</td>\n",
       "      <td>61.0</td>\n",
       "      <td>2017-02-26</td>\n",
       "      <td>3</td>\n",
       "      <td>2.50</td>\n",
       "      <td>9</td>\n",
       "      <td>43.6</td>\n",
       "      <td>7</td>\n",
       "      <td>False</td>\n",
       "      <td>...</td>\n",
       "      <td>NaN</td>\n",
       "      <td>0.0</td>\n",
       "      <td>NaN</td>\n",
       "      <td>289.0</td>\n",
       "      <td>88524.590164</td>\n",
       "      <td>6</td>\n",
       "      <td>2</td>\n",
       "      <td>2017</td>\n",
       "      <td>другой</td>\n",
       "      <td>15.0</td>\n",
       "    </tr>\n",
       "    <tr>\n",
       "      <th>10</th>\n",
       "      <td>5</td>\n",
       "      <td>5050000</td>\n",
       "      <td>39.6</td>\n",
       "      <td>2017-11-16</td>\n",
       "      <td>1</td>\n",
       "      <td>2.67</td>\n",
       "      <td>12</td>\n",
       "      <td>20.3</td>\n",
       "      <td>3</td>\n",
       "      <td>False</td>\n",
       "      <td>...</td>\n",
       "      <td>310.0</td>\n",
       "      <td>2.0</td>\n",
       "      <td>553.0</td>\n",
       "      <td>137.0</td>\n",
       "      <td>127525.252525</td>\n",
       "      <td>3</td>\n",
       "      <td>11</td>\n",
       "      <td>2017</td>\n",
       "      <td>другой</td>\n",
       "      <td>14.0</td>\n",
       "    </tr>\n",
       "    <tr>\n",
       "      <th>16</th>\n",
       "      <td>11</td>\n",
       "      <td>6700000</td>\n",
       "      <td>82.0</td>\n",
       "      <td>2017-11-23</td>\n",
       "      <td>3</td>\n",
       "      <td>3.05</td>\n",
       "      <td>5</td>\n",
       "      <td>55.6</td>\n",
       "      <td>1</td>\n",
       "      <td>False</td>\n",
       "      <td>...</td>\n",
       "      <td>420.0</td>\n",
       "      <td>0.0</td>\n",
       "      <td>NaN</td>\n",
       "      <td>397.0</td>\n",
       "      <td>81707.317073</td>\n",
       "      <td>3</td>\n",
       "      <td>11</td>\n",
       "      <td>2017</td>\n",
       "      <td>первый</td>\n",
       "      <td>11.0</td>\n",
       "    </tr>\n",
       "  </tbody>\n",
       "</table>\n",
       "<p>5 rows × 28 columns</p>\n",
       "</div>"
      ],
      "text/plain": [
       "    total_images  last_price  total_area first_day_exposition  rooms  \\\n",
       "0             20    13000000       108.0           2019-03-07      3   \n",
       "4              2    10000000       100.0           2018-06-19      2   \n",
       "9             18     5400000        61.0           2017-02-26      3   \n",
       "10             5     5050000        39.6           2017-11-16      1   \n",
       "16            11     6700000        82.0           2017-11-23      3   \n",
       "\n",
       "    ceiling_height  floors_total  living_area  floor  is_apartment  ...  \\\n",
       "0             2.70            16         51.0      8         False  ...   \n",
       "4             3.03            14         32.0     13         False  ...   \n",
       "9             2.50             9         43.6      7         False  ...   \n",
       "10            2.67            12         20.3      3         False  ...   \n",
       "16            3.05             5         55.6      1         False  ...   \n",
       "\n",
       "    parks_nearest  ponds_around3000  ponds_nearest  days_exposition  \\\n",
       "0           482.0               2.0          755.0              NaN   \n",
       "4           112.0               1.0           48.0            121.0   \n",
       "9             NaN               0.0            NaN            289.0   \n",
       "10          310.0               2.0          553.0            137.0   \n",
       "16          420.0               0.0            NaN            397.0   \n",
       "\n",
       "   price_one_square_meter  posted_day_week  posted_month  posted_year  \\\n",
       "0           120370.370370                3             3         2019   \n",
       "4           100000.000000                1             6         2018   \n",
       "9            88524.590164                6             2         2017   \n",
       "10          127525.252525                3            11         2017   \n",
       "16           81707.317073                3            11         2017   \n",
       "\n",
       "    floor_type  distance_to_center_kilometers  \n",
       "0       другой                           16.0  \n",
       "4       другой                            8.0  \n",
       "9       другой                           15.0  \n",
       "10      другой                           14.0  \n",
       "16      первый                           11.0  \n",
       "\n",
       "[5 rows x 28 columns]"
      ]
     },
     "metadata": {},
     "output_type": "display_data"
    },
    {
     "name": "stdout",
     "output_type": "stream",
     "text": [
      "10045\n"
     ]
    }
   ],
   "source": [
    "data_Saint = data.query('locality_name == \"Санкт-Петербург\"')\n",
    "display(data_Saint.head())\n",
    "print(data_Saint.shape[0])"
   ]
  },
  {
   "cell_type": "markdown",
   "metadata": {},
   "source": [
    "10045 объявлений у нас из Санкт-Петербурга. Определим область центра с помощью стоимости квадратного метра. Построим график. И там, где будет явный спад в стоимости - примем за границы центра."
   ]
  },
  {
   "cell_type": "code",
   "execution_count": 84,
   "metadata": {},
   "outputs": [
    {
     "data": {
      "image/png": "[encoded data removed]",
      "text/plain": [
       "<Figure size 720x576 with 1 Axes>"
      ]
     },
     "metadata": {
      "needs_background": "light"
     },
     "output_type": "display_data"
    }
   ],
   "source": [
    "(\n",
    "data_Saint\n",
    "    .pivot_table(index='distance_to_center_kilometers', values='price_one_square_meter')\n",
    "    .plot(marker='o', grid=True, figsize=(10, 8), legend=False)\n",
    ")\n",
    "plt.title('Средняя цена квадратного метра за каждый 1 километр до центра')\n",
    "plt.xlabel('километры')\n",
    "plt.ylabel('стоимость за квадратный метр')\n",
    "plt.show()"
   ]
  },
  {
   "cell_type": "markdown",
   "metadata": {},
   "source": [
    "*Можно прийти к выводу, что после где-то после 8 километра функция становится линейной и стоимость начинается снижаться. Максимальная стоимость в зоне у самого центра(меньше 1 километра). Пик в районе где-то 27 километров - можно попробовать объяснить дорогостоящими объектами высшего класса.*"
   ]
  },
  {
   "cell_type": "markdown",
   "metadata": {},
   "source": [
    "### Общий вывод"
   ]
  },
  {
   "cell_type": "markdown",
   "metadata": {},
   "source": [
    "* Изучили общую информацию о полученном датафрейме - изначально в нем 23699 строк, это очень хороший показатель для исследования. \n",
    "\n",
    "* Построили общую гистограмму для всех числовых столбцов таблицы. Убедились, что можно приступать к предобработке данных.\n",
    "\n",
    "* Нашли и изучили пропущенные значения в столбцах: определили, в каких столбцах есть пропуски. Заполнили пропущенные значения там, где это было возможно. К примеру, там, где  продавец не указал число балконов, то, скорее всего, в его квартире их нет. Такие пропуски заменили на 0. Пропуски — тоже важный сигнал, который нужно учитывать, посчитали в процентах количество пропущенных значений для разных параметров и там где значение было велико - не стали удалять строки.\n",
    "\n",
    "* Рассмотрели типы данных в каждом столбце: нашли столбцы, в которых нужно изменить тип данных. Преобразовали тип данных в выбранных столбцах. \n",
    "\n",
    "* Изучили уникальные значения в столбце с названиями и устранили неявные дубликаты. Например, «поселок Рябово» и «поселок городского типа Рябово», «поселок Тельмана» и «посёлок Тельмана» — это обозначения одних и тех же населённых пунктов. Мы  заменили названия в существующем столбце.\n",
    "\n",
    "* Нашли и устранили редкие и выбивающиеся значения. Например, в столбце ceiling_height была указана высота потолков 25 м и 32 м. Логично предположить, что на самом деле это вещественные значения: 2.5 м и 3.2 м.Обработали аномалии в этом и других столбцах.\n",
    "\n",
    "Добавили в таблицу новые столбцы со следующими параметрами для удобства исследования:\n",
    "   - цена одного квадратного метра;\n",
    "   - день недели публикации объявления (0 — понедельник, 1 — вторник и так далее);\n",
    "   - месяц публикации объявления;\n",
    "   - год публикации объявления;\n",
    "   - тип этажа квартиры (значения — «первый», «последний», «другой»);\n",
    "   - расстояние до центра города в километрах (перевели из м в км и округлили до целых значений).\n",
    "\n",
    "\n",
    "**Провели исследовательский анализ данных и пришли к следующим выводам:**\n",
    "\n",
    "**Типичный объект недвижимости будет выглядеть так:**\n",
    "* 1 или 2 комнаты\n",
    "* дом 5-ти или 9-ти этажный\n",
    "* объект преимущеннство распологается с 1 по 4 этаж\n",
    "* общая площадь около 50 квадратных метров\n",
    "* площадь кухни около 5 квадратных метров\n",
    "* высота потолков от 2.5 до 2.8 метров\n",
    "* стоимость около 3.5 миллионов\n",
    "* расположение на расстоянии от центра в 13-15 км \n",
    "* расположение от аэропорта на расстоянии в 15-25 километров\n",
    "* расположение до парка около  200-600 метров\n",
    "\n",
    "\n",
    "**Также выяснили, что:**\n",
    "- быстрые продажи - до 45 дней\n",
    "- нормальные продажи - от 45 до 248 дней\n",
    "- долгие продажи - от 248 до 552 дней\n",
    "- выбросы - все, что выше 552 дней\n",
    "- чаще всего квартиры продаются где-то за 45 и 60 дней\n",
    "\n",
    "* На общую (полную) стоимость объекта больше всего влияет общая площадь квартиры, жилая площадь и этаж расположения квартиры. \n",
    "* Чем больше площадь, тем выше стоимость. \n",
    "* Квартиры на первом этаже дешевле. \n",
    "* Зависимоть между датой размещения объявления по дням, месяцам и стоимостью квартир практически отсутствует. А вот по годам можно сказать, что в 2014 году стоимость продажи была выше.\n",
    "\n",
    "\n",
    "Наибольшая средняя цена за 1 квадратный метр в Санкт-Петербурге, что довольно логично - ведь это административный центр. Следом по стоимости идет город Пушкин, что тоже оправдано - много исторических мест, многие объекты недвижимости имеют культурную ценность, много парков и расположение к городу довольно близкое. Наименьшая стоимость за квадратный метр в Всеволожске."
   ]
  }
 ],
 "metadata": {
  "ExecuteTimeLog": [
   {
    "duration": 65,
    "start_time": "2023-06-21T19:09:15.472Z"
   },
   {
    "duration": 565,
    "start_time": "2023-06-21T19:09:18.809Z"
   },
   {
    "duration": 14,
    "start_time": "2023-06-21T19:09:20.468Z"
   },
   {
    "duration": 15,
    "start_time": "2023-06-21T19:10:13.794Z"
   },
   {
    "duration": 30,
    "start_time": "2023-06-21T19:10:20.340Z"
   },
   {
    "duration": 96,
    "start_time": "2023-06-21T19:10:51.824Z"
   },
   {
    "duration": 42,
    "start_time": "2023-06-21T19:10:53.174Z"
   },
   {
    "duration": 1910,
    "start_time": "2023-06-21T19:14:15.583Z"
   },
   {
    "duration": 1325,
    "start_time": "2023-06-21T19:14:37.924Z"
   },
   {
    "duration": 1563,
    "start_time": "2023-06-21T19:15:02.545Z"
   },
   {
    "duration": 1898,
    "start_time": "2023-06-21T19:15:16.405Z"
   },
   {
    "duration": 1887,
    "start_time": "2023-06-21T19:15:41.442Z"
   },
   {
    "duration": 1982,
    "start_time": "2023-06-21T19:15:50.265Z"
   },
   {
    "duration": 1978,
    "start_time": "2023-06-21T19:16:00.057Z"
   },
   {
    "duration": 2016,
    "start_time": "2023-06-21T19:20:12.922Z"
   },
   {
    "duration": 115,
    "start_time": "2023-06-21T19:20:44.936Z"
   },
   {
    "duration": 82,
    "start_time": "2023-06-21T19:20:50.560Z"
   },
   {
    "duration": 1803,
    "start_time": "2023-06-21T19:22:51.201Z"
   },
   {
    "duration": 1991,
    "start_time": "2023-06-21T19:23:13.514Z"
   },
   {
    "duration": 1787,
    "start_time": "2023-06-21T19:23:20.788Z"
   },
   {
    "duration": 2002,
    "start_time": "2023-06-21T19:23:35.247Z"
   },
   {
    "duration": 1877,
    "start_time": "2023-06-21T19:23:46.142Z"
   },
   {
    "duration": 29,
    "start_time": "2023-06-21T19:24:36.505Z"
   },
   {
    "duration": 48,
    "start_time": "2023-06-21T19:24:47.492Z"
   },
   {
    "duration": 12,
    "start_time": "2023-06-21T19:24:50.591Z"
   },
   {
    "duration": 51,
    "start_time": "2023-06-21T19:26:40.393Z"
   },
   {
    "duration": 9,
    "start_time": "2023-06-21T19:27:52.527Z"
   },
   {
    "duration": 10,
    "start_time": "2023-06-21T19:28:25.395Z"
   },
   {
    "duration": 15,
    "start_time": "2023-06-21T19:36:28.690Z"
   },
   {
    "duration": 5,
    "start_time": "2023-06-21T19:36:47.310Z"
   },
   {
    "duration": 1402,
    "start_time": "2023-06-21T19:37:19.094Z"
   },
   {
    "duration": 4,
    "start_time": "2023-06-21T19:37:25.126Z"
   },
   {
    "duration": 6,
    "start_time": "2023-06-21T19:40:32.428Z"
   },
   {
    "duration": 96,
    "start_time": "2023-06-21T19:57:42.438Z"
   },
   {
    "duration": 3,
    "start_time": "2023-06-21T19:58:03.093Z"
   },
   {
    "duration": 9,
    "start_time": "2023-06-21T19:58:05.303Z"
   },
   {
    "duration": 13,
    "start_time": "2023-06-21T19:58:06.803Z"
   },
   {
    "duration": 16,
    "start_time": "2023-06-21T19:59:26.730Z"
   },
   {
    "duration": 1927,
    "start_time": "2023-06-21T20:01:17.742Z"
   },
   {
    "duration": 2137,
    "start_time": "2023-06-21T20:01:34.884Z"
   },
   {
    "duration": 1994,
    "start_time": "2023-06-21T20:01:51.713Z"
   },
   {
    "duration": 35,
    "start_time": "2023-06-21T20:02:40.572Z"
   },
   {
    "duration": 4,
    "start_time": "2023-06-21T20:02:53.881Z"
   },
   {
    "duration": 8,
    "start_time": "2023-06-21T20:02:55.993Z"
   },
   {
    "duration": 10,
    "start_time": "2023-06-21T20:02:57.808Z"
   },
   {
    "duration": 89,
    "start_time": "2023-06-21T20:10:51.143Z"
   },
   {
    "duration": 104,
    "start_time": "2023-06-21T20:28:11.246Z"
   },
   {
    "duration": 506,
    "start_time": "2023-06-25T11:11:41.087Z"
   },
   {
    "duration": 43,
    "start_time": "2023-06-25T11:11:43.922Z"
   },
   {
    "duration": 2253,
    "start_time": "2023-06-25T11:11:49.804Z"
   },
   {
    "duration": 4,
    "start_time": "2023-06-25T11:11:58.741Z"
   },
   {
    "duration": 10,
    "start_time": "2023-06-25T11:12:00.257Z"
   },
   {
    "duration": 9,
    "start_time": "2023-06-25T11:12:02.139Z"
   },
   {
    "duration": 77,
    "start_time": "2023-06-25T11:14:53.758Z"
   },
   {
    "duration": 21,
    "start_time": "2023-06-25T11:14:59.628Z"
   },
   {
    "duration": 6,
    "start_time": "2023-06-25T11:17:00.684Z"
   },
   {
    "duration": 6,
    "start_time": "2023-06-25T11:17:16.858Z"
   },
   {
    "duration": 7,
    "start_time": "2023-06-25T11:18:07.862Z"
   },
   {
    "duration": 4,
    "start_time": "2023-06-25T11:18:27.741Z"
   },
   {
    "duration": 85,
    "start_time": "2023-06-25T11:21:40.708Z"
   },
   {
    "duration": 4,
    "start_time": "2023-06-25T11:22:28.363Z"
   },
   {
    "duration": 3,
    "start_time": "2023-06-25T11:22:34.908Z"
   },
   {
    "duration": 5,
    "start_time": "2023-06-25T11:25:15.843Z"
   },
   {
    "duration": 3,
    "start_time": "2023-06-25T11:58:25.227Z"
   },
   {
    "duration": 13,
    "start_time": "2023-06-25T12:11:58.803Z"
   },
   {
    "duration": 13,
    "start_time": "2023-06-25T12:12:07.222Z"
   },
   {
    "duration": 15,
    "start_time": "2023-06-25T12:13:58.609Z"
   },
   {
    "duration": 5,
    "start_time": "2023-06-25T12:15:13.089Z"
   },
   {
    "duration": 6,
    "start_time": "2023-06-25T12:15:33.681Z"
   },
   {
    "duration": 15,
    "start_time": "2023-06-25T12:15:43.089Z"
   },
   {
    "duration": 15,
    "start_time": "2023-06-25T12:15:55.537Z"
   },
   {
    "duration": 22,
    "start_time": "2023-06-25T12:21:39.515Z"
   },
   {
    "duration": 17,
    "start_time": "2023-06-25T12:22:35.988Z"
   },
   {
    "duration": 16,
    "start_time": "2023-06-25T12:28:38.642Z"
   },
   {
    "duration": 93,
    "start_time": "2023-06-25T12:30:12.223Z"
   },
   {
    "duration": 25,
    "start_time": "2023-06-25T12:32:01.193Z"
   },
   {
    "duration": 5,
    "start_time": "2023-06-25T12:32:30.506Z"
   },
   {
    "duration": 35,
    "start_time": "2023-06-25T12:33:42.227Z"
   },
   {
    "duration": 128,
    "start_time": "2023-06-25T12:52:05.904Z"
   },
   {
    "duration": 10,
    "start_time": "2023-06-25T12:54:13.956Z"
   },
   {
    "duration": 13,
    "start_time": "2023-06-25T12:55:36.099Z"
   },
   {
    "duration": 13,
    "start_time": "2023-06-25T12:56:06.651Z"
   },
   {
    "duration": 12,
    "start_time": "2023-06-25T12:56:16.102Z"
   },
   {
    "duration": 8,
    "start_time": "2023-06-25T12:56:21.919Z"
   },
   {
    "duration": 10,
    "start_time": "2023-06-25T12:56:25.736Z"
   },
   {
    "duration": 11,
    "start_time": "2023-06-25T13:09:58.412Z"
   },
   {
    "duration": 158,
    "start_time": "2023-06-25T13:15:19.956Z"
   },
   {
    "duration": 231,
    "start_time": "2023-06-25T13:15:49.237Z"
   },
   {
    "duration": 83,
    "start_time": "2023-06-25T13:16:18.838Z"
   },
   {
    "duration": 157,
    "start_time": "2023-06-25T13:16:26.373Z"
   },
   {
    "duration": 169,
    "start_time": "2023-06-25T13:16:54.944Z"
   },
   {
    "duration": 154,
    "start_time": "2023-06-25T13:17:29.329Z"
   },
   {
    "duration": 138,
    "start_time": "2023-06-25T13:18:11.105Z"
   },
   {
    "duration": 150,
    "start_time": "2023-06-25T13:18:17.146Z"
   },
   {
    "duration": 141,
    "start_time": "2023-06-25T13:18:26.156Z"
   },
   {
    "duration": 16,
    "start_time": "2023-06-25T13:25:23.492Z"
   },
   {
    "duration": 15,
    "start_time": "2023-06-25T13:25:38.726Z"
   },
   {
    "duration": 10,
    "start_time": "2023-06-25T13:27:36.029Z"
   },
   {
    "duration": 8,
    "start_time": "2023-06-25T13:28:07.529Z"
   },
   {
    "duration": 14,
    "start_time": "2023-06-25T13:30:44.450Z"
   },
   {
    "duration": 17,
    "start_time": "2023-06-25T13:58:22.986Z"
   },
   {
    "duration": 13,
    "start_time": "2023-06-25T13:58:44.253Z"
   },
   {
    "duration": 16,
    "start_time": "2023-06-25T13:59:23.537Z"
   },
   {
    "duration": 27,
    "start_time": "2023-06-25T14:00:13.439Z"
   },
   {
    "duration": 86,
    "start_time": "2023-06-25T14:10:22.990Z"
   },
   {
    "duration": 22,
    "start_time": "2023-06-25T14:13:47.716Z"
   },
   {
    "duration": 81,
    "start_time": "2023-06-25T14:15:36.993Z"
   },
   {
    "duration": 23,
    "start_time": "2023-06-25T14:16:12.247Z"
   },
   {
    "duration": 24,
    "start_time": "2023-06-25T14:17:33.009Z"
   },
   {
    "duration": 12,
    "start_time": "2023-06-25T14:30:16.504Z"
   },
   {
    "duration": 191,
    "start_time": "2023-06-25T14:30:31.205Z"
   },
   {
    "duration": 190,
    "start_time": "2023-06-25T14:30:59.802Z"
   },
   {
    "duration": 279,
    "start_time": "2023-06-25T14:31:10.188Z"
   },
   {
    "duration": 180,
    "start_time": "2023-06-25T14:31:27.040Z"
   },
   {
    "duration": 180,
    "start_time": "2023-06-25T14:32:10.305Z"
   },
   {
    "duration": 200,
    "start_time": "2023-06-25T14:33:16.002Z"
   },
   {
    "duration": 185,
    "start_time": "2023-06-25T14:33:23.752Z"
   },
   {
    "duration": 88,
    "start_time": "2023-06-25T14:34:33.753Z"
   },
   {
    "duration": 24,
    "start_time": "2023-06-25T14:39:56.027Z"
   },
   {
    "duration": 21,
    "start_time": "2023-06-25T14:40:15.587Z"
   },
   {
    "duration": 43,
    "start_time": "2023-06-27T13:00:40.310Z"
   },
   {
    "duration": 6,
    "start_time": "2023-06-27T13:00:47.632Z"
   },
   {
    "duration": 7,
    "start_time": "2023-06-27T13:01:22.315Z"
   },
   {
    "duration": 683,
    "start_time": "2023-06-27T13:01:27.206Z"
   },
   {
    "duration": 37,
    "start_time": "2023-06-27T13:01:29.009Z"
   },
   {
    "duration": 2104,
    "start_time": "2023-06-27T13:01:32.302Z"
   },
   {
    "duration": 3,
    "start_time": "2023-06-27T13:01:37.944Z"
   },
   {
    "duration": 9,
    "start_time": "2023-06-27T13:01:39.906Z"
   },
   {
    "duration": 9,
    "start_time": "2023-06-27T13:01:41.653Z"
   },
   {
    "duration": 21,
    "start_time": "2023-06-27T13:01:47.206Z"
   },
   {
    "duration": 10,
    "start_time": "2023-06-27T13:01:49.502Z"
   },
   {
    "duration": 4,
    "start_time": "2023-06-27T13:01:51.452Z"
   },
   {
    "duration": 4,
    "start_time": "2023-06-27T13:01:53.141Z"
   },
   {
    "duration": 18,
    "start_time": "2023-06-27T13:01:55.443Z"
   },
   {
    "duration": 6,
    "start_time": "2023-06-27T13:01:57.348Z"
   },
   {
    "duration": 11,
    "start_time": "2023-06-27T13:01:59.138Z"
   },
   {
    "duration": 23,
    "start_time": "2023-06-27T13:02:01.607Z"
   },
   {
    "duration": 17,
    "start_time": "2023-06-27T13:02:04.010Z"
   },
   {
    "duration": 37,
    "start_time": "2023-06-27T13:02:06.547Z"
   },
   {
    "duration": 8,
    "start_time": "2023-06-27T13:02:09.818Z"
   },
   {
    "duration": 9,
    "start_time": "2023-06-27T13:02:13.042Z"
   },
   {
    "duration": 11,
    "start_time": "2023-06-27T13:02:15.426Z"
   },
   {
    "duration": 13,
    "start_time": "2023-06-27T13:02:20.646Z"
   },
   {
    "duration": 8,
    "start_time": "2023-06-27T13:02:22.934Z"
   },
   {
    "duration": 5,
    "start_time": "2023-06-27T13:02:25.107Z"
   },
   {
    "duration": 10,
    "start_time": "2023-06-27T13:02:27.050Z"
   },
   {
    "duration": 18,
    "start_time": "2023-06-27T13:02:29.953Z"
   },
   {
    "duration": 19,
    "start_time": "2023-06-27T13:02:31.999Z"
   },
   {
    "duration": 18,
    "start_time": "2023-06-27T13:02:34.911Z"
   },
   {
    "duration": 19,
    "start_time": "2023-06-27T13:02:37.644Z"
   },
   {
    "duration": 166,
    "start_time": "2023-06-27T13:02:40.014Z"
   },
   {
    "duration": 19,
    "start_time": "2023-06-27T13:02:42.399Z"
   },
   {
    "duration": 185,
    "start_time": "2023-06-27T13:02:45.442Z"
   },
   {
    "duration": 238,
    "start_time": "2023-06-27T13:03:10.219Z"
   },
   {
    "duration": 200,
    "start_time": "2023-06-27T13:04:10.711Z"
   },
   {
    "duration": 302,
    "start_time": "2023-06-27T13:04:30.734Z"
   },
   {
    "duration": 228,
    "start_time": "2023-06-27T13:04:39.158Z"
   },
   {
    "duration": 246,
    "start_time": "2023-06-27T13:04:50.520Z"
   },
   {
    "duration": 227,
    "start_time": "2023-06-27T13:05:34.841Z"
   },
   {
    "duration": 130,
    "start_time": "2023-06-27T13:15:15.414Z"
   },
   {
    "duration": 285,
    "start_time": "2023-06-27T13:16:37.449Z"
   },
   {
    "duration": 206,
    "start_time": "2023-06-27T13:23:09.514Z"
   },
   {
    "duration": 197,
    "start_time": "2023-06-27T13:23:42.669Z"
   },
   {
    "duration": 227,
    "start_time": "2023-06-27T13:23:52.350Z"
   },
   {
    "duration": 219,
    "start_time": "2023-06-27T13:34:51.636Z"
   },
   {
    "duration": 334,
    "start_time": "2023-06-27T13:35:00.116Z"
   },
   {
    "duration": 228,
    "start_time": "2023-06-27T13:35:21.852Z"
   },
   {
    "duration": 101,
    "start_time": "2023-06-27T13:35:37.735Z"
   },
   {
    "duration": 82,
    "start_time": "2023-06-27T13:35:48.562Z"
   },
   {
    "duration": 95,
    "start_time": "2023-06-27T13:37:10.638Z"
   },
   {
    "duration": 90,
    "start_time": "2023-06-27T13:38:10.033Z"
   },
   {
    "duration": 226,
    "start_time": "2023-06-27T13:38:23.311Z"
   },
   {
    "duration": 83,
    "start_time": "2023-06-27T13:41:09.247Z"
   },
   {
    "duration": 7,
    "start_time": "2023-06-27T13:41:28.224Z"
   },
   {
    "duration": 80,
    "start_time": "2023-06-27T13:41:37.510Z"
   },
   {
    "duration": 106,
    "start_time": "2023-06-27T13:42:36.117Z"
   },
   {
    "duration": 92,
    "start_time": "2023-06-27T13:42:53.957Z"
   },
   {
    "duration": 88,
    "start_time": "2023-06-27T13:43:02.146Z"
   },
   {
    "duration": 82,
    "start_time": "2023-06-27T13:43:22.033Z"
   },
   {
    "duration": 84,
    "start_time": "2023-06-27T13:43:34.641Z"
   },
   {
    "duration": 83,
    "start_time": "2023-06-27T13:43:38.398Z"
   },
   {
    "duration": 85,
    "start_time": "2023-06-27T13:43:47.414Z"
   },
   {
    "duration": 95,
    "start_time": "2023-06-27T13:43:52.341Z"
   },
   {
    "duration": 96,
    "start_time": "2023-06-27T13:44:16.648Z"
   },
   {
    "duration": 331,
    "start_time": "2023-06-27T13:45:47.303Z"
   },
   {
    "duration": 98,
    "start_time": "2023-06-27T13:46:18.616Z"
   },
   {
    "duration": 91,
    "start_time": "2023-06-27T13:46:34.128Z"
   },
   {
    "duration": 116,
    "start_time": "2023-06-27T13:46:41.801Z"
   },
   {
    "duration": 105,
    "start_time": "2023-06-27T13:46:48.113Z"
   },
   {
    "duration": 228,
    "start_time": "2023-06-27T13:47:02.649Z"
   },
   {
    "duration": 96,
    "start_time": "2023-06-27T13:49:04.509Z"
   },
   {
    "duration": 81,
    "start_time": "2023-06-27T13:49:19.205Z"
   },
   {
    "duration": 247,
    "start_time": "2023-06-27T13:56:59.034Z"
   },
   {
    "duration": 277,
    "start_time": "2023-06-27T13:57:10.514Z"
   },
   {
    "duration": 14,
    "start_time": "2023-06-27T13:57:21.816Z"
   },
   {
    "duration": 339,
    "start_time": "2023-06-27T13:57:25.901Z"
   },
   {
    "duration": 315,
    "start_time": "2023-06-27T13:58:45.558Z"
   },
   {
    "duration": 246,
    "start_time": "2023-06-27T13:58:53.346Z"
   },
   {
    "duration": 329,
    "start_time": "2023-06-27T13:59:38.522Z"
   },
   {
    "duration": 202,
    "start_time": "2023-06-27T13:59:48.098Z"
   },
   {
    "duration": 276,
    "start_time": "2023-06-27T13:59:59.713Z"
   },
   {
    "duration": 249,
    "start_time": "2023-06-27T14:00:51.648Z"
   },
   {
    "duration": 179,
    "start_time": "2023-06-27T14:01:18.609Z"
   },
   {
    "duration": 1444,
    "start_time": "2023-06-27T14:01:39.466Z"
   },
   {
    "duration": 260,
    "start_time": "2023-06-27T14:01:50.496Z"
   },
   {
    "duration": 371,
    "start_time": "2023-06-27T14:02:01.020Z"
   },
   {
    "duration": 553,
    "start_time": "2023-06-27T14:05:02.560Z"
   },
   {
    "duration": 152,
    "start_time": "2023-06-27T14:14:37.666Z"
   },
   {
    "duration": 115,
    "start_time": "2023-06-27T14:14:45.320Z"
   },
   {
    "duration": 283,
    "start_time": "2023-06-27T14:15:22.326Z"
   },
   {
    "duration": 340,
    "start_time": "2023-06-27T14:15:36.420Z"
   },
   {
    "duration": 193,
    "start_time": "2023-06-27T14:16:00.530Z"
   },
   {
    "duration": 294,
    "start_time": "2023-06-27T14:16:13.358Z"
   },
   {
    "duration": 280,
    "start_time": "2023-06-27T14:18:28.739Z"
   },
   {
    "duration": 131,
    "start_time": "2023-06-27T14:28:04.983Z"
   },
   {
    "duration": 137,
    "start_time": "2023-06-27T14:28:46.650Z"
   },
   {
    "duration": 121,
    "start_time": "2023-06-27T14:28:59.762Z"
   },
   {
    "duration": 119,
    "start_time": "2023-06-27T14:29:07.354Z"
   },
   {
    "duration": 122,
    "start_time": "2023-06-27T14:29:12.118Z"
   },
   {
    "duration": 172,
    "start_time": "2023-06-27T14:29:15.817Z"
   },
   {
    "duration": 127,
    "start_time": "2023-06-27T14:29:31.558Z"
   },
   {
    "duration": 135,
    "start_time": "2023-06-27T14:29:40.818Z"
   },
   {
    "duration": 135,
    "start_time": "2023-06-27T14:30:05.427Z"
   },
   {
    "duration": 150,
    "start_time": "2023-06-27T14:30:29.159Z"
   },
   {
    "duration": 335,
    "start_time": "2023-06-27T14:31:04.123Z"
   },
   {
    "duration": 142,
    "start_time": "2023-06-27T14:40:06.182Z"
   },
   {
    "duration": 137,
    "start_time": "2023-06-27T14:40:16.777Z"
   },
   {
    "duration": 117,
    "start_time": "2023-06-27T14:40:21.722Z"
   },
   {
    "duration": 293,
    "start_time": "2023-06-27T14:41:08.025Z"
   },
   {
    "duration": 175,
    "start_time": "2023-06-27T14:41:15.915Z"
   },
   {
    "duration": 399,
    "start_time": "2023-06-27T14:41:22.957Z"
   },
   {
    "duration": 190,
    "start_time": "2023-06-27T14:41:29.377Z"
   },
   {
    "duration": 176,
    "start_time": "2023-06-27T14:41:46.787Z"
   },
   {
    "duration": 205,
    "start_time": "2023-06-27T14:42:25.617Z"
   },
   {
    "duration": 188,
    "start_time": "2023-06-27T14:42:44.361Z"
   },
   {
    "duration": 182,
    "start_time": "2023-06-27T14:43:18.334Z"
   },
   {
    "duration": 112,
    "start_time": "2023-06-27T14:50:47.119Z"
   },
   {
    "duration": 191,
    "start_time": "2023-06-27T14:50:56.231Z"
   },
   {
    "duration": 199,
    "start_time": "2023-06-27T14:51:25.463Z"
   },
   {
    "duration": 145,
    "start_time": "2023-06-27T14:51:54.618Z"
   },
   {
    "duration": 246,
    "start_time": "2023-06-27T14:52:12.516Z"
   },
   {
    "duration": 135,
    "start_time": "2023-06-27T14:52:26.627Z"
   },
   {
    "duration": 163,
    "start_time": "2023-06-27T14:54:00.518Z"
   },
   {
    "duration": 189,
    "start_time": "2023-06-27T14:55:41.367Z"
   },
   {
    "duration": 179,
    "start_time": "2023-06-27T14:56:08.391Z"
   },
   {
    "duration": 186,
    "start_time": "2023-06-27T14:56:45.928Z"
   },
   {
    "duration": 118,
    "start_time": "2023-06-27T15:01:26.178Z"
   },
   {
    "duration": 109,
    "start_time": "2023-06-27T15:01:35.679Z"
   },
   {
    "duration": 151,
    "start_time": "2023-06-27T15:02:08.530Z"
   },
   {
    "duration": 140,
    "start_time": "2023-06-27T15:02:23.825Z"
   },
   {
    "duration": 166,
    "start_time": "2023-06-27T15:02:44.993Z"
   },
   {
    "duration": 28,
    "start_time": "2023-06-27T15:10:07.320Z"
   },
   {
    "duration": 108,
    "start_time": "2023-06-27T15:11:12.155Z"
   },
   {
    "duration": 100,
    "start_time": "2023-06-27T15:11:31.087Z"
   },
   {
    "duration": 37,
    "start_time": "2023-06-27T15:11:33.366Z"
   },
   {
    "duration": 1864,
    "start_time": "2023-06-27T15:11:37.142Z"
   },
   {
    "duration": 3,
    "start_time": "2023-06-27T15:11:42.026Z"
   },
   {
    "duration": 7,
    "start_time": "2023-06-27T15:11:44.680Z"
   },
   {
    "duration": 10,
    "start_time": "2023-06-27T15:11:47.679Z"
   },
   {
    "duration": 21,
    "start_time": "2023-06-27T15:11:50.755Z"
   },
   {
    "duration": 13,
    "start_time": "2023-06-27T15:11:53.462Z"
   },
   {
    "duration": 4,
    "start_time": "2023-06-27T15:11:55.764Z"
   },
   {
    "duration": 5,
    "start_time": "2023-06-27T15:11:57.919Z"
   },
   {
    "duration": 13,
    "start_time": "2023-06-27T15:12:00.255Z"
   },
   {
    "duration": 6,
    "start_time": "2023-06-27T15:12:02.799Z"
   },
   {
    "duration": 12,
    "start_time": "2023-06-27T15:12:04.574Z"
   },
   {
    "duration": 22,
    "start_time": "2023-06-27T15:12:08.627Z"
   },
   {
    "duration": 19,
    "start_time": "2023-06-27T15:12:10.681Z"
   },
   {
    "duration": 50,
    "start_time": "2023-06-27T15:12:14.018Z"
   },
   {
    "duration": 270,
    "start_time": "2023-06-27T15:12:19.307Z"
   },
   {
    "duration": 10,
    "start_time": "2023-06-27T15:12:22.181Z"
   },
   {
    "duration": 11,
    "start_time": "2023-06-27T15:12:25.185Z"
   },
   {
    "duration": 151,
    "start_time": "2023-06-27T15:12:28.952Z"
   },
   {
    "duration": 14,
    "start_time": "2023-06-27T15:12:31.514Z"
   },
   {
    "duration": 8,
    "start_time": "2023-06-27T15:12:33.811Z"
   },
   {
    "duration": 4,
    "start_time": "2023-06-27T15:12:36.709Z"
   },
   {
    "duration": 12,
    "start_time": "2023-06-27T15:12:38.867Z"
   },
   {
    "duration": 20,
    "start_time": "2023-06-27T15:12:41.719Z"
   },
   {
    "duration": 22,
    "start_time": "2023-06-27T15:12:45.756Z"
   },
   {
    "duration": 22,
    "start_time": "2023-06-27T15:12:48.083Z"
   },
   {
    "duration": 22,
    "start_time": "2023-06-27T15:12:50.270Z"
   },
   {
    "duration": 200,
    "start_time": "2023-06-27T15:12:53.470Z"
   },
   {
    "duration": 24,
    "start_time": "2023-06-27T15:12:55.859Z"
   },
   {
    "duration": 108,
    "start_time": "2023-06-27T15:13:06.956Z"
   },
   {
    "duration": 120,
    "start_time": "2023-06-27T15:13:37.783Z"
   },
   {
    "duration": 4,
    "start_time": "2023-06-27T15:13:59.225Z"
   },
   {
    "duration": 111,
    "start_time": "2023-06-27T15:14:09.671Z"
   },
   {
    "duration": 25,
    "start_time": "2023-06-27T15:14:54.087Z"
   },
   {
    "duration": 107,
    "start_time": "2023-06-27T15:15:19.887Z"
   },
   {
    "duration": 31,
    "start_time": "2023-06-27T15:16:08.388Z"
   },
   {
    "duration": 141,
    "start_time": "2023-06-27T15:16:29.458Z"
   },
   {
    "duration": 141,
    "start_time": "2023-06-27T15:16:42.060Z"
   },
   {
    "duration": 143,
    "start_time": "2023-06-27T15:17:06.549Z"
   },
   {
    "duration": 147,
    "start_time": "2023-06-27T15:17:10.904Z"
   },
   {
    "duration": 142,
    "start_time": "2023-06-27T15:17:27.860Z"
   },
   {
    "duration": 108,
    "start_time": "2023-06-27T15:17:42.323Z"
   },
   {
    "duration": 125,
    "start_time": "2023-06-27T15:17:49.568Z"
   },
   {
    "duration": 103,
    "start_time": "2023-06-27T15:20:53.378Z"
   },
   {
    "duration": 116,
    "start_time": "2023-06-27T15:20:59.370Z"
   },
   {
    "duration": 111,
    "start_time": "2023-06-27T15:21:06.583Z"
   },
   {
    "duration": 176,
    "start_time": "2023-06-27T15:22:10.480Z"
   },
   {
    "duration": 144,
    "start_time": "2023-06-27T15:22:19.983Z"
   },
   {
    "duration": 101,
    "start_time": "2023-06-27T15:27:13.925Z"
   },
   {
    "duration": 24,
    "start_time": "2023-06-27T15:28:01.192Z"
   },
   {
    "duration": 1109,
    "start_time": "2023-06-27T15:28:23.321Z"
   },
   {
    "duration": 4,
    "start_time": "2023-06-27T15:29:14.970Z"
   },
   {
    "duration": 108,
    "start_time": "2023-06-27T15:29:36.300Z"
   },
   {
    "duration": 133,
    "start_time": "2023-06-27T15:29:46.071Z"
   },
   {
    "duration": 98,
    "start_time": "2023-06-27T15:29:54.941Z"
   },
   {
    "duration": 113,
    "start_time": "2023-06-27T15:29:59.290Z"
   },
   {
    "duration": 157,
    "start_time": "2023-06-27T15:31:00.519Z"
   },
   {
    "duration": 73,
    "start_time": "2023-06-27T15:35:42.880Z"
   },
   {
    "duration": 133,
    "start_time": "2023-06-27T15:36:17.833Z"
   },
   {
    "duration": 106,
    "start_time": "2023-06-27T15:36:23.424Z"
   },
   {
    "duration": 119,
    "start_time": "2023-06-27T15:36:33.521Z"
   },
   {
    "duration": 162,
    "start_time": "2023-06-27T15:37:08.948Z"
   },
   {
    "duration": 70,
    "start_time": "2023-06-27T15:41:03.713Z"
   },
   {
    "duration": 120,
    "start_time": "2023-06-27T15:41:36.730Z"
   },
   {
    "duration": 98,
    "start_time": "2023-06-27T15:41:42.588Z"
   },
   {
    "duration": 95,
    "start_time": "2023-06-27T15:41:48.118Z"
   },
   {
    "duration": 118,
    "start_time": "2023-06-27T15:41:59.447Z"
   },
   {
    "duration": 178,
    "start_time": "2023-06-27T15:42:31.496Z"
   },
   {
    "duration": 186,
    "start_time": "2023-06-27T15:42:59.416Z"
   },
   {
    "duration": 161,
    "start_time": "2023-06-27T15:43:06.731Z"
   },
   {
    "duration": 158,
    "start_time": "2023-06-27T15:49:14.519Z"
   },
   {
    "duration": 145,
    "start_time": "2023-06-27T15:49:28.851Z"
   },
   {
    "duration": 161,
    "start_time": "2023-06-27T15:49:36.269Z"
   },
   {
    "duration": 151,
    "start_time": "2023-06-27T15:50:10.430Z"
   },
   {
    "duration": 155,
    "start_time": "2023-06-27T15:50:15.714Z"
   },
   {
    "duration": 60,
    "start_time": "2023-06-27T15:51:16.917Z"
   },
   {
    "duration": 1110,
    "start_time": "2023-06-27T15:51:37.046Z"
   },
   {
    "duration": 145,
    "start_time": "2023-06-27T15:52:04.112Z"
   },
   {
    "duration": 171,
    "start_time": "2023-06-27T15:52:09.147Z"
   },
   {
    "duration": 187,
    "start_time": "2023-06-27T15:52:15.721Z"
   },
   {
    "duration": 243,
    "start_time": "2023-06-27T15:52:27.383Z"
   },
   {
    "duration": 44,
    "start_time": "2023-06-28T16:33:23.404Z"
   },
   {
    "duration": 1012,
    "start_time": "2023-06-28T16:33:44.840Z"
   },
   {
    "duration": 50,
    "start_time": "2023-06-28T16:33:45.854Z"
   },
   {
    "duration": 2082,
    "start_time": "2023-06-28T16:33:45.907Z"
   },
   {
    "duration": 5,
    "start_time": "2023-06-28T16:33:47.994Z"
   },
   {
    "duration": 13,
    "start_time": "2023-06-28T16:33:48.000Z"
   },
   {
    "duration": 9,
    "start_time": "2023-06-28T16:33:48.014Z"
   },
   {
    "duration": 20,
    "start_time": "2023-06-28T16:33:48.024Z"
   },
   {
    "duration": 8,
    "start_time": "2023-06-28T16:33:48.046Z"
   },
   {
    "duration": 4,
    "start_time": "2023-06-28T16:33:48.055Z"
   },
   {
    "duration": 17,
    "start_time": "2023-06-28T16:33:48.072Z"
   },
   {
    "duration": 15,
    "start_time": "2023-06-28T16:33:48.091Z"
   },
   {
    "duration": 5,
    "start_time": "2023-06-28T16:33:48.107Z"
   },
   {
    "duration": 10,
    "start_time": "2023-06-28T16:33:48.114Z"
   },
   {
    "duration": 20,
    "start_time": "2023-06-28T16:33:48.126Z"
   },
   {
    "duration": 48,
    "start_time": "2023-06-28T16:33:48.148Z"
   },
   {
    "duration": 41,
    "start_time": "2023-06-28T16:33:48.199Z"
   },
   {
    "duration": 7,
    "start_time": "2023-06-28T16:33:48.242Z"
   },
   {
    "duration": 15,
    "start_time": "2023-06-28T16:33:48.268Z"
   },
   {
    "duration": 16,
    "start_time": "2023-06-28T16:33:48.284Z"
   },
   {
    "duration": 158,
    "start_time": "2023-06-28T16:33:48.301Z"
   },
   {
    "duration": 36,
    "start_time": "2023-06-28T16:33:48.460Z"
   },
   {
    "duration": 9,
    "start_time": "2023-06-28T16:33:48.498Z"
   },
   {
    "duration": 5,
    "start_time": "2023-06-28T16:33:48.509Z"
   },
   {
    "duration": 11,
    "start_time": "2023-06-28T16:33:48.515Z"
   },
   {
    "duration": 42,
    "start_time": "2023-06-28T16:33:48.528Z"
   },
   {
    "duration": 37,
    "start_time": "2023-06-28T16:33:48.571Z"
   },
   {
    "duration": 20,
    "start_time": "2023-06-28T16:33:48.610Z"
   },
   {
    "duration": 20,
    "start_time": "2023-06-28T16:33:48.633Z"
   },
   {
    "duration": 210,
    "start_time": "2023-06-28T16:33:48.655Z"
   },
   {
    "duration": 36,
    "start_time": "2023-06-28T16:33:48.867Z"
   },
   {
    "duration": 304,
    "start_time": "2023-06-28T16:33:48.905Z"
   },
   {
    "duration": 128,
    "start_time": "2023-06-28T16:33:49.210Z"
   },
   {
    "duration": 414,
    "start_time": "2023-06-28T16:33:49.340Z"
   },
   {
    "duration": 127,
    "start_time": "2023-06-28T16:33:49.756Z"
   },
   {
    "duration": 112,
    "start_time": "2023-06-28T16:33:49.885Z"
   },
   {
    "duration": 272,
    "start_time": "2023-06-28T16:33:50.000Z"
   },
   {
    "duration": 120,
    "start_time": "2023-06-28T16:33:50.274Z"
   },
   {
    "duration": 270,
    "start_time": "2023-06-28T16:33:50.396Z"
   },
   {
    "duration": 115,
    "start_time": "2023-06-28T16:33:50.667Z"
   },
   {
    "duration": 147,
    "start_time": "2023-06-28T16:33:50.793Z"
   },
   {
    "duration": 220,
    "start_time": "2023-06-28T16:33:50.941Z"
   },
   {
    "duration": 172,
    "start_time": "2023-06-28T16:33:51.163Z"
   },
   {
    "duration": 103,
    "start_time": "2023-06-28T16:33:51.336Z"
   },
   {
    "duration": 188,
    "start_time": "2023-06-28T16:33:51.441Z"
   },
   {
    "duration": 127,
    "start_time": "2023-06-28T16:33:51.630Z"
   },
   {
    "duration": 132,
    "start_time": "2023-06-28T16:33:51.759Z"
   },
   {
    "duration": 154,
    "start_time": "2023-06-28T16:33:51.893Z"
   },
   {
    "duration": 112,
    "start_time": "2023-06-28T16:33:52.048Z"
   },
   {
    "duration": 167,
    "start_time": "2023-06-28T16:33:52.161Z"
   },
   {
    "duration": 118,
    "start_time": "2023-06-28T16:33:52.329Z"
   },
   {
    "duration": 168,
    "start_time": "2023-06-28T16:33:52.449Z"
   },
   {
    "duration": 120,
    "start_time": "2023-06-28T16:33:52.618Z"
   },
   {
    "duration": 171,
    "start_time": "2023-06-28T16:33:52.740Z"
   },
   {
    "duration": 177,
    "start_time": "2023-06-28T16:33:52.913Z"
   },
   {
    "duration": 396,
    "start_time": "2023-06-28T16:33:53.091Z"
   },
   {
    "duration": 328,
    "start_time": "2023-06-28T16:33:54.063Z"
   },
   {
    "duration": 107,
    "start_time": "2023-06-28T16:34:28.216Z"
   },
   {
    "duration": 121,
    "start_time": "2023-06-28T16:34:45.203Z"
   },
   {
    "duration": 125,
    "start_time": "2023-06-28T16:36:06.138Z"
   },
   {
    "duration": 98,
    "start_time": "2023-06-28T16:36:12.814Z"
   },
   {
    "duration": 110,
    "start_time": "2023-06-28T16:36:22.525Z"
   },
   {
    "duration": 284,
    "start_time": "2023-06-28T16:36:42.211Z"
   },
   {
    "duration": 392,
    "start_time": "2023-06-28T16:36:45.905Z"
   },
   {
    "duration": 250,
    "start_time": "2023-06-28T16:36:57.343Z"
   },
   {
    "duration": 10,
    "start_time": "2023-06-28T16:40:40.623Z"
   },
   {
    "duration": 4,
    "start_time": "2023-06-28T16:43:51.557Z"
   },
   {
    "duration": 87,
    "start_time": "2023-06-28T16:44:42.108Z"
   },
   {
    "duration": 3,
    "start_time": "2023-06-28T16:44:57.438Z"
   },
   {
    "duration": 247,
    "start_time": "2023-06-28T16:47:59.414Z"
   },
   {
    "duration": 262,
    "start_time": "2023-06-28T16:48:28.239Z"
   },
   {
    "duration": 271,
    "start_time": "2023-06-28T16:50:49.435Z"
   },
   {
    "duration": 368,
    "start_time": "2023-06-28T16:54:15.325Z"
   },
   {
    "duration": 8,
    "start_time": "2023-06-28T16:55:50.989Z"
   },
   {
    "duration": 5,
    "start_time": "2023-06-28T16:56:13.810Z"
   },
   {
    "duration": 107,
    "start_time": "2023-06-28T16:56:42.760Z"
   },
   {
    "duration": 7,
    "start_time": "2023-06-28T16:56:51.527Z"
   },
   {
    "duration": 2552,
    "start_time": "2023-06-28T16:58:41.322Z"
   },
   {
    "duration": 10,
    "start_time": "2023-06-28T16:58:57.795Z"
   },
   {
    "duration": 99,
    "start_time": "2023-06-28T17:03:03.099Z"
   },
   {
    "duration": 5,
    "start_time": "2023-06-28T17:21:10.340Z"
   },
   {
    "duration": 13,
    "start_time": "2023-06-28T17:22:04.779Z"
   },
   {
    "duration": 6,
    "start_time": "2023-06-28T17:22:13.243Z"
   },
   {
    "duration": 157,
    "start_time": "2023-06-28T17:23:56.333Z"
   },
   {
    "duration": 143,
    "start_time": "2023-06-28T17:24:34.656Z"
   },
   {
    "duration": 7,
    "start_time": "2023-06-28T17:29:52.745Z"
   },
   {
    "duration": 179,
    "start_time": "2023-06-28T17:30:08.071Z"
   },
   {
    "duration": 5,
    "start_time": "2023-06-28T17:32:22.702Z"
   },
   {
    "duration": 148,
    "start_time": "2023-06-28T17:32:34.999Z"
   },
   {
    "duration": 6,
    "start_time": "2023-06-28T17:34:17.560Z"
   },
   {
    "duration": 180,
    "start_time": "2023-06-28T17:34:58.963Z"
   },
   {
    "duration": 220,
    "start_time": "2023-06-28T17:36:04.042Z"
   },
   {
    "duration": 183,
    "start_time": "2023-06-28T17:36:15.603Z"
   },
   {
    "duration": 15,
    "start_time": "2023-06-28T17:39:20.491Z"
   },
   {
    "duration": 14,
    "start_time": "2023-06-28T17:40:09.143Z"
   },
   {
    "duration": 7,
    "start_time": "2023-06-28T17:45:30.645Z"
   },
   {
    "duration": 156,
    "start_time": "2023-06-28T17:47:49.732Z"
   },
   {
    "duration": 166,
    "start_time": "2023-06-28T17:48:35.843Z"
   },
   {
    "duration": 177,
    "start_time": "2023-06-28T17:49:05.828Z"
   },
   {
    "duration": 54,
    "start_time": "2023-06-29T10:29:37.667Z"
   },
   {
    "duration": 1576,
    "start_time": "2023-06-29T10:29:45.850Z"
   },
   {
    "duration": 60,
    "start_time": "2023-06-29T10:29:47.431Z"
   },
   {
    "duration": 2360,
    "start_time": "2023-06-29T10:29:47.492Z"
   },
   {
    "duration": 4,
    "start_time": "2023-06-29T10:29:49.854Z"
   },
   {
    "duration": 24,
    "start_time": "2023-06-29T10:29:49.861Z"
   },
   {
    "duration": 22,
    "start_time": "2023-06-29T10:29:49.887Z"
   },
   {
    "duration": 25,
    "start_time": "2023-06-29T10:29:49.911Z"
   },
   {
    "duration": 23,
    "start_time": "2023-06-29T10:29:49.939Z"
   },
   {
    "duration": 13,
    "start_time": "2023-06-29T10:29:49.965Z"
   },
   {
    "duration": 17,
    "start_time": "2023-06-29T10:29:49.982Z"
   },
   {
    "duration": 19,
    "start_time": "2023-06-29T10:29:50.001Z"
   },
   {
    "duration": 6,
    "start_time": "2023-06-29T10:29:50.022Z"
   },
   {
    "duration": 30,
    "start_time": "2023-06-29T10:29:50.030Z"
   },
   {
    "duration": 35,
    "start_time": "2023-06-29T10:29:50.062Z"
   },
   {
    "duration": 32,
    "start_time": "2023-06-29T10:29:50.099Z"
   },
   {
    "duration": 84,
    "start_time": "2023-06-29T10:29:50.133Z"
   },
   {
    "duration": 36,
    "start_time": "2023-06-29T10:29:50.219Z"
   },
   {
    "duration": 24,
    "start_time": "2023-06-29T10:29:50.257Z"
   },
   {
    "duration": 41,
    "start_time": "2023-06-29T10:29:50.283Z"
   },
   {
    "duration": 188,
    "start_time": "2023-06-29T10:29:50.326Z"
   },
   {
    "duration": 18,
    "start_time": "2023-06-29T10:29:50.516Z"
   },
   {
    "duration": 29,
    "start_time": "2023-06-29T10:29:50.536Z"
   },
   {
    "duration": 18,
    "start_time": "2023-06-29T10:29:50.568Z"
   },
   {
    "duration": 195,
    "start_time": "2023-06-29T10:29:50.589Z"
   },
   {
    "duration": 44,
    "start_time": "2023-06-29T10:29:50.786Z"
   },
   {
    "duration": 32,
    "start_time": "2023-06-29T10:29:50.832Z"
   },
   {
    "duration": 23,
    "start_time": "2023-06-29T10:29:50.866Z"
   },
   {
    "duration": 24,
    "start_time": "2023-06-29T10:29:50.893Z"
   },
   {
    "duration": 228,
    "start_time": "2023-06-29T10:29:50.918Z"
   },
   {
    "duration": 24,
    "start_time": "2023-06-29T10:29:51.147Z"
   },
   {
    "duration": 336,
    "start_time": "2023-06-29T10:29:51.173Z"
   },
   {
    "duration": 129,
    "start_time": "2023-06-29T10:29:51.511Z"
   },
   {
    "duration": 429,
    "start_time": "2023-06-29T10:29:51.642Z"
   },
   {
    "duration": 119,
    "start_time": "2023-06-29T10:29:52.074Z"
   },
   {
    "duration": 136,
    "start_time": "2023-06-29T10:29:52.195Z"
   },
   {
    "duration": 417,
    "start_time": "2023-06-29T10:29:52.333Z"
   },
   {
    "duration": 145,
    "start_time": "2023-06-29T10:29:52.754Z"
   },
   {
    "duration": 333,
    "start_time": "2023-06-29T10:29:52.901Z"
   },
   {
    "duration": 150,
    "start_time": "2023-06-29T10:29:53.236Z"
   },
   {
    "duration": 227,
    "start_time": "2023-06-29T10:29:53.388Z"
   },
   {
    "duration": 230,
    "start_time": "2023-06-29T10:29:53.617Z"
   },
   {
    "duration": 194,
    "start_time": "2023-06-29T10:29:53.848Z"
   },
   {
    "duration": 125,
    "start_time": "2023-06-29T10:29:54.044Z"
   },
   {
    "duration": 232,
    "start_time": "2023-06-29T10:29:54.172Z"
   },
   {
    "duration": 135,
    "start_time": "2023-06-29T10:29:54.406Z"
   },
   {
    "duration": 130,
    "start_time": "2023-06-29T10:29:54.542Z"
   },
   {
    "duration": 179,
    "start_time": "2023-06-29T10:29:54.674Z"
   },
   {
    "duration": 117,
    "start_time": "2023-06-29T10:29:54.856Z"
   },
   {
    "duration": 197,
    "start_time": "2023-06-29T10:29:54.976Z"
   },
   {
    "duration": 141,
    "start_time": "2023-06-29T10:29:55.176Z"
   },
   {
    "duration": 196,
    "start_time": "2023-06-29T10:29:55.319Z"
   },
   {
    "duration": 138,
    "start_time": "2023-06-29T10:29:55.517Z"
   },
   {
    "duration": 183,
    "start_time": "2023-06-29T10:29:55.657Z"
   },
   {
    "duration": 193,
    "start_time": "2023-06-29T10:29:55.842Z"
   },
   {
    "duration": 417,
    "start_time": "2023-06-29T10:29:56.037Z"
   },
   {
    "duration": 287,
    "start_time": "2023-06-29T10:29:56.455Z"
   },
   {
    "duration": 155,
    "start_time": "2023-06-29T10:29:56.744Z"
   },
   {
    "duration": 10,
    "start_time": "2023-06-29T10:29:56.901Z"
   },
   {
    "duration": 26,
    "start_time": "2023-06-29T10:29:56.912Z"
   },
   {
    "duration": 20,
    "start_time": "2023-06-29T10:29:56.940Z"
   },
   {
    "duration": 287,
    "start_time": "2023-06-29T10:29:56.961Z"
   },
   {
    "duration": 291,
    "start_time": "2023-06-29T10:29:57.250Z"
   },
   {
    "duration": 17,
    "start_time": "2023-06-29T10:29:57.543Z"
   },
   {
    "duration": 24,
    "start_time": "2023-06-29T10:29:57.563Z"
   },
   {
    "duration": 188,
    "start_time": "2023-06-29T10:29:57.589Z"
   },
   {
    "duration": 5,
    "start_time": "2023-06-29T10:29:57.779Z"
   },
   {
    "duration": 228,
    "start_time": "2023-06-29T10:29:57.786Z"
   },
   {
    "duration": 6,
    "start_time": "2023-06-29T10:29:58.016Z"
   },
   {
    "duration": 180,
    "start_time": "2023-06-29T10:29:58.023Z"
   },
   {
    "duration": 6,
    "start_time": "2023-06-29T10:29:58.205Z"
   },
   {
    "duration": 198,
    "start_time": "2023-06-29T10:29:58.212Z"
   },
   {
    "duration": 18,
    "start_time": "2023-06-29T10:29:58.412Z"
   },
   {
    "duration": 82,
    "start_time": "2023-06-29T10:29:58.453Z"
   },
   {
    "duration": 191,
    "start_time": "2023-06-29T10:29:58.538Z"
   },
   {
    "duration": 228,
    "start_time": "2023-06-29T10:29:58.731Z"
   },
   {
    "duration": 303,
    "start_time": "2023-06-29T10:29:58.961Z"
   },
   {
    "duration": 23,
    "start_time": "2023-06-29T10:29:59.333Z"
   },
   {
    "duration": 6,
    "start_time": "2023-06-29T10:30:07.548Z"
   },
   {
    "duration": 6,
    "start_time": "2023-06-29T10:30:09.333Z"
   },
   {
    "duration": 6,
    "start_time": "2023-06-29T10:30:11.236Z"
   },
   {
    "duration": 8,
    "start_time": "2023-06-29T10:30:22.188Z"
   },
   {
    "duration": 5,
    "start_time": "2023-06-29T10:30:29.616Z"
   },
   {
    "duration": 6,
    "start_time": "2023-06-29T10:30:39.400Z"
   },
   {
    "duration": 165,
    "start_time": "2023-06-29T10:30:42.801Z"
   },
   {
    "duration": 7,
    "start_time": "2023-06-29T10:30:46.550Z"
   },
   {
    "duration": 6,
    "start_time": "2023-06-29T10:31:10.131Z"
   },
   {
    "duration": 6,
    "start_time": "2023-06-29T10:31:49.314Z"
   },
   {
    "duration": 91,
    "start_time": "2023-06-29T10:34:25.400Z"
   },
   {
    "duration": 22,
    "start_time": "2023-06-29T10:34:37.731Z"
   },
   {
    "duration": 239,
    "start_time": "2023-06-29T10:35:43.416Z"
   },
   {
    "duration": 225,
    "start_time": "2023-06-29T10:36:13.983Z"
   },
   {
    "duration": 7,
    "start_time": "2023-06-29T10:47:55.750Z"
   },
   {
    "duration": 18,
    "start_time": "2023-06-29T10:48:13.052Z"
   },
   {
    "duration": 28,
    "start_time": "2023-06-29T10:48:19.717Z"
   },
   {
    "duration": 29,
    "start_time": "2023-06-29T10:48:53.109Z"
   },
   {
    "duration": 29,
    "start_time": "2023-06-29T10:49:09.488Z"
   },
   {
    "duration": 30,
    "start_time": "2023-06-29T10:49:14.120Z"
   },
   {
    "duration": 176,
    "start_time": "2023-06-29T10:53:28.798Z"
   },
   {
    "duration": 1637,
    "start_time": "2023-06-29T12:10:59.519Z"
   },
   {
    "duration": 37,
    "start_time": "2023-06-29T12:11:01.158Z"
   },
   {
    "duration": 2425,
    "start_time": "2023-06-29T12:11:01.197Z"
   },
   {
    "duration": 2188,
    "start_time": "2023-06-29T12:11:03.624Z"
   },
   {
    "duration": 4,
    "start_time": "2023-06-29T12:11:05.813Z"
   },
   {
    "duration": 31,
    "start_time": "2023-06-29T12:11:05.818Z"
   },
   {
    "duration": 15,
    "start_time": "2023-06-29T12:11:05.851Z"
   },
   {
    "duration": 19,
    "start_time": "2023-06-29T12:11:05.867Z"
   },
   {
    "duration": 8,
    "start_time": "2023-06-29T12:11:05.887Z"
   },
   {
    "duration": 14,
    "start_time": "2023-06-29T12:11:05.901Z"
   },
   {
    "duration": 41,
    "start_time": "2023-06-29T12:11:05.916Z"
   },
   {
    "duration": 14,
    "start_time": "2023-06-29T12:11:05.959Z"
   },
   {
    "duration": 8,
    "start_time": "2023-06-29T12:11:05.974Z"
   },
   {
    "duration": 37,
    "start_time": "2023-06-29T12:11:05.984Z"
   },
   {
    "duration": 34,
    "start_time": "2023-06-29T12:11:06.022Z"
   },
   {
    "duration": 20,
    "start_time": "2023-06-29T12:11:06.058Z"
   },
   {
    "duration": 62,
    "start_time": "2023-06-29T12:11:06.080Z"
   },
   {
    "duration": 8,
    "start_time": "2023-06-29T12:11:06.144Z"
   },
   {
    "duration": 18,
    "start_time": "2023-06-29T12:11:06.153Z"
   },
   {
    "duration": 18,
    "start_time": "2023-06-29T12:11:06.173Z"
   },
   {
    "duration": 161,
    "start_time": "2023-06-29T12:11:06.199Z"
   },
   {
    "duration": 12,
    "start_time": "2023-06-29T12:11:06.361Z"
   },
   {
    "duration": 39,
    "start_time": "2023-06-29T12:11:06.375Z"
   },
   {
    "duration": 6,
    "start_time": "2023-06-29T12:11:06.415Z"
   },
   {
    "duration": 11,
    "start_time": "2023-06-29T12:11:06.423Z"
   },
   {
    "duration": 19,
    "start_time": "2023-06-29T12:11:06.435Z"
   },
   {
    "duration": 19,
    "start_time": "2023-06-29T12:11:06.455Z"
   },
   {
    "duration": 40,
    "start_time": "2023-06-29T12:11:06.478Z"
   },
   {
    "duration": 18,
    "start_time": "2023-06-29T12:11:06.520Z"
   },
   {
    "duration": 225,
    "start_time": "2023-06-29T12:11:06.540Z"
   },
   {
    "duration": 22,
    "start_time": "2023-06-29T12:11:06.768Z"
   },
   {
    "duration": 260,
    "start_time": "2023-06-29T12:11:06.792Z"
   },
   {
    "duration": 104,
    "start_time": "2023-06-29T12:11:07.053Z"
   },
   {
    "duration": 261,
    "start_time": "2023-06-29T12:11:07.159Z"
   },
   {
    "duration": 198,
    "start_time": "2023-06-29T12:11:07.422Z"
   },
   {
    "duration": 94,
    "start_time": "2023-06-29T12:11:07.621Z"
   },
   {
    "duration": 214,
    "start_time": "2023-06-29T12:11:07.717Z"
   },
   {
    "duration": 109,
    "start_time": "2023-06-29T12:11:07.933Z"
   },
   {
    "duration": 265,
    "start_time": "2023-06-29T12:11:08.044Z"
   },
   {
    "duration": 99,
    "start_time": "2023-06-29T12:11:08.314Z"
   },
   {
    "duration": 136,
    "start_time": "2023-06-29T12:11:08.415Z"
   },
   {
    "duration": 105,
    "start_time": "2023-06-29T12:11:08.553Z"
   },
   {
    "duration": 179,
    "start_time": "2023-06-29T12:11:08.660Z"
   },
   {
    "duration": 89,
    "start_time": "2023-06-29T12:11:08.840Z"
   },
   {
    "duration": 235,
    "start_time": "2023-06-29T12:11:08.931Z"
   },
   {
    "duration": 146,
    "start_time": "2023-06-29T12:11:09.167Z"
   },
   {
    "duration": 101,
    "start_time": "2023-06-29T12:11:09.314Z"
   },
   {
    "duration": 144,
    "start_time": "2023-06-29T12:11:09.417Z"
   },
   {
    "duration": 100,
    "start_time": "2023-06-29T12:11:09.562Z"
   },
   {
    "duration": 157,
    "start_time": "2023-06-29T12:11:09.663Z"
   },
   {
    "duration": 108,
    "start_time": "2023-06-29T12:11:09.821Z"
   },
   {
    "duration": 153,
    "start_time": "2023-06-29T12:11:09.931Z"
   },
   {
    "duration": 106,
    "start_time": "2023-06-29T12:11:10.086Z"
   },
   {
    "duration": 143,
    "start_time": "2023-06-29T12:11:10.194Z"
   },
   {
    "duration": 155,
    "start_time": "2023-06-29T12:11:10.339Z"
   },
   {
    "duration": 224,
    "start_time": "2023-06-29T12:11:10.501Z"
   },
   {
    "duration": 314,
    "start_time": "2023-06-29T12:11:10.726Z"
   },
   {
    "duration": 111,
    "start_time": "2023-06-29T12:11:11.042Z"
   },
   {
    "duration": 10,
    "start_time": "2023-06-29T12:11:11.154Z"
   },
   {
    "duration": 3,
    "start_time": "2023-06-29T12:11:11.166Z"
   },
   {
    "duration": 8,
    "start_time": "2023-06-29T12:11:11.170Z"
   },
   {
    "duration": 211,
    "start_time": "2023-06-29T12:11:11.206Z"
   },
   {
    "duration": 210,
    "start_time": "2023-06-29T12:11:11.419Z"
   },
   {
    "duration": 7,
    "start_time": "2023-06-29T12:11:11.631Z"
   },
   {
    "duration": 3,
    "start_time": "2023-06-29T12:11:11.640Z"
   },
   {
    "duration": 164,
    "start_time": "2023-06-29T12:11:11.645Z"
   },
   {
    "duration": 5,
    "start_time": "2023-06-29T12:11:11.811Z"
   },
   {
    "duration": 149,
    "start_time": "2023-06-29T12:11:11.818Z"
   },
   {
    "duration": 4,
    "start_time": "2023-06-29T12:11:11.968Z"
   },
   {
    "duration": 143,
    "start_time": "2023-06-29T12:11:11.974Z"
   },
   {
    "duration": 5,
    "start_time": "2023-06-29T12:11:12.119Z"
   },
   {
    "duration": 161,
    "start_time": "2023-06-29T12:11:12.126Z"
   },
   {
    "duration": 27,
    "start_time": "2023-06-29T12:11:12.288Z"
   },
   {
    "duration": 9,
    "start_time": "2023-06-29T12:11:12.316Z"
   },
   {
    "duration": 150,
    "start_time": "2023-06-29T12:11:12.326Z"
   },
   {
    "duration": 155,
    "start_time": "2023-06-29T12:11:12.477Z"
   },
   {
    "duration": 136,
    "start_time": "2023-06-29T12:11:12.633Z"
   },
   {
    "duration": 5,
    "start_time": "2023-06-29T12:11:12.771Z"
   },
   {
    "duration": 38,
    "start_time": "2023-06-29T12:11:12.777Z"
   },
   {
    "duration": 200,
    "start_time": "2023-06-29T12:11:12.817Z"
   },
   {
    "duration": 26,
    "start_time": "2023-06-29T12:11:13.019Z"
   },
   {
    "duration": 179,
    "start_time": "2023-06-29T12:11:13.050Z"
   },
   {
    "duration": 753,
    "start_time": "2023-07-01T07:33:56.721Z"
   },
   {
    "duration": 72,
    "start_time": "2023-07-01T07:46:20.087Z"
   },
   {
    "duration": 646,
    "start_time": "2023-07-01T07:46:27.708Z"
   },
   {
    "duration": 342,
    "start_time": "2023-07-01T07:46:28.356Z"
   },
   {
    "duration": 1885,
    "start_time": "2023-07-01T07:46:28.700Z"
   },
   {
    "duration": 1861,
    "start_time": "2023-07-01T07:46:30.587Z"
   },
   {
    "duration": 3,
    "start_time": "2023-07-01T07:46:32.450Z"
   },
   {
    "duration": 28,
    "start_time": "2023-07-01T07:46:32.454Z"
   },
   {
    "duration": 32,
    "start_time": "2023-07-01T07:46:32.484Z"
   },
   {
    "duration": 29,
    "start_time": "2023-07-01T07:46:32.518Z"
   },
   {
    "duration": 32,
    "start_time": "2023-07-01T07:46:32.548Z"
   },
   {
    "duration": 15,
    "start_time": "2023-07-01T07:46:32.583Z"
   },
   {
    "duration": 25,
    "start_time": "2023-07-01T07:46:32.599Z"
   },
   {
    "duration": 39,
    "start_time": "2023-07-01T07:46:32.625Z"
   },
   {
    "duration": 10,
    "start_time": "2023-07-01T07:46:32.666Z"
   },
   {
    "duration": 21,
    "start_time": "2023-07-01T07:46:32.677Z"
   },
   {
    "duration": 35,
    "start_time": "2023-07-01T07:46:32.699Z"
   },
   {
    "duration": 27,
    "start_time": "2023-07-01T07:46:32.735Z"
   },
   {
    "duration": 48,
    "start_time": "2023-07-01T07:46:32.764Z"
   },
   {
    "duration": 8,
    "start_time": "2023-07-01T07:46:32.814Z"
   },
   {
    "duration": 14,
    "start_time": "2023-07-01T07:46:32.824Z"
   },
   {
    "duration": 32,
    "start_time": "2023-07-01T07:46:32.843Z"
   },
   {
    "duration": 141,
    "start_time": "2023-07-01T07:46:32.877Z"
   },
   {
    "duration": 18,
    "start_time": "2023-07-01T07:46:33.020Z"
   },
   {
    "duration": 10,
    "start_time": "2023-07-01T07:46:33.039Z"
   },
   {
    "duration": 20,
    "start_time": "2023-07-01T07:46:33.050Z"
   },
   {
    "duration": 14,
    "start_time": "2023-07-01T07:46:33.071Z"
   },
   {
    "duration": 22,
    "start_time": "2023-07-01T07:46:33.087Z"
   },
   {
    "duration": 43,
    "start_time": "2023-07-01T07:46:33.110Z"
   },
   {
    "duration": 28,
    "start_time": "2023-07-01T07:46:33.159Z"
   },
   {
    "duration": 21,
    "start_time": "2023-07-01T07:46:33.188Z"
   },
   {
    "duration": 221,
    "start_time": "2023-07-01T07:46:33.211Z"
   },
   {
    "duration": 34,
    "start_time": "2023-07-01T07:46:33.441Z"
   },
   {
    "duration": 259,
    "start_time": "2023-07-01T07:46:33.477Z"
   },
   {
    "duration": 118,
    "start_time": "2023-07-01T07:46:33.741Z"
   },
   {
    "duration": 274,
    "start_time": "2023-07-01T07:46:33.861Z"
   },
   {
    "duration": 205,
    "start_time": "2023-07-01T07:46:34.136Z"
   },
   {
    "duration": 96,
    "start_time": "2023-07-01T07:46:34.342Z"
   },
   {
    "duration": 320,
    "start_time": "2023-07-01T07:46:34.445Z"
   },
   {
    "duration": 128,
    "start_time": "2023-07-01T07:46:34.768Z"
   },
   {
    "duration": 252,
    "start_time": "2023-07-01T07:46:34.897Z"
   },
   {
    "duration": 105,
    "start_time": "2023-07-01T07:46:35.151Z"
   },
   {
    "duration": 152,
    "start_time": "2023-07-01T07:46:35.258Z"
   },
   {
    "duration": 143,
    "start_time": "2023-07-01T07:46:35.412Z"
   },
   {
    "duration": 160,
    "start_time": "2023-07-01T07:46:35.556Z"
   },
   {
    "duration": 122,
    "start_time": "2023-07-01T07:46:35.718Z"
   },
   {
    "duration": 287,
    "start_time": "2023-07-01T07:46:35.843Z"
   },
   {
    "duration": 125,
    "start_time": "2023-07-01T07:46:36.134Z"
   },
   {
    "duration": 135,
    "start_time": "2023-07-01T07:46:36.261Z"
   },
   {
    "duration": 166,
    "start_time": "2023-07-01T07:46:36.397Z"
   },
   {
    "duration": 114,
    "start_time": "2023-07-01T07:46:36.565Z"
   },
   {
    "duration": 221,
    "start_time": "2023-07-01T07:46:36.681Z"
   },
   {
    "duration": 155,
    "start_time": "2023-07-01T07:46:36.904Z"
   },
   {
    "duration": 157,
    "start_time": "2023-07-01T07:46:37.060Z"
   },
   {
    "duration": 120,
    "start_time": "2023-07-01T07:46:37.218Z"
   },
   {
    "duration": 150,
    "start_time": "2023-07-01T07:46:37.340Z"
   },
   {
    "duration": 163,
    "start_time": "2023-07-01T07:46:37.492Z"
   },
   {
    "duration": 279,
    "start_time": "2023-07-01T07:46:37.657Z"
   },
   {
    "duration": 338,
    "start_time": "2023-07-01T07:46:37.941Z"
   },
   {
    "duration": 125,
    "start_time": "2023-07-01T07:46:38.280Z"
   },
   {
    "duration": 7,
    "start_time": "2023-07-01T07:46:38.407Z"
   },
   {
    "duration": 31,
    "start_time": "2023-07-01T07:46:38.415Z"
   },
   {
    "duration": 11,
    "start_time": "2023-07-01T07:46:38.448Z"
   },
   {
    "duration": 228,
    "start_time": "2023-07-01T07:46:38.460Z"
   },
   {
    "duration": 245,
    "start_time": "2023-07-01T07:46:38.690Z"
   },
   {
    "duration": 10,
    "start_time": "2023-07-01T07:46:38.939Z"
   },
   {
    "duration": 8,
    "start_time": "2023-07-01T07:46:38.951Z"
   },
   {
    "duration": 161,
    "start_time": "2023-07-01T07:46:38.961Z"
   },
   {
    "duration": 16,
    "start_time": "2023-07-01T07:46:39.124Z"
   },
   {
    "duration": 158,
    "start_time": "2023-07-01T07:46:39.141Z"
   },
   {
    "duration": 5,
    "start_time": "2023-07-01T07:46:39.301Z"
   },
   {
    "duration": 151,
    "start_time": "2023-07-01T07:46:39.307Z"
   },
   {
    "duration": 5,
    "start_time": "2023-07-01T07:46:39.460Z"
   },
   {
    "duration": 161,
    "start_time": "2023-07-01T07:46:39.466Z"
   },
   {
    "duration": 17,
    "start_time": "2023-07-01T07:46:39.633Z"
   },
   {
    "duration": 26,
    "start_time": "2023-07-01T07:46:39.652Z"
   },
   {
    "duration": 175,
    "start_time": "2023-07-01T07:46:39.680Z"
   },
   {
    "duration": 142,
    "start_time": "2023-07-01T07:46:39.856Z"
   },
   {
    "duration": 158,
    "start_time": "2023-07-01T07:46:39.999Z"
   },
   {
    "duration": 6,
    "start_time": "2023-07-01T07:46:40.159Z"
   },
   {
    "duration": 39,
    "start_time": "2023-07-01T07:46:40.166Z"
   },
   {
    "duration": 194,
    "start_time": "2023-07-01T07:46:40.207Z"
   },
   {
    "duration": 45,
    "start_time": "2023-07-01T07:46:40.402Z"
   },
   {
    "duration": 161,
    "start_time": "2023-07-01T07:46:40.453Z"
   },
   {
    "duration": 11,
    "start_time": "2023-07-01T07:57:07.123Z"
   },
   {
    "duration": 15,
    "start_time": "2023-07-01T07:57:30.019Z"
   },
   {
    "duration": 11,
    "start_time": "2023-07-01T07:58:30.921Z"
   },
   {
    "duration": 15,
    "start_time": "2023-07-01T08:00:22.994Z"
   },
   {
    "duration": 12,
    "start_time": "2023-07-01T08:00:38.535Z"
   },
   {
    "duration": 1029,
    "start_time": "2023-07-01T08:08:39.049Z"
   },
   {
    "duration": 89,
    "start_time": "2023-07-01T08:09:39.078Z"
   },
   {
    "duration": 190,
    "start_time": "2023-07-01T08:09:54.595Z"
   },
   {
    "duration": 195,
    "start_time": "2023-07-01T08:12:34.099Z"
   },
   {
    "duration": 78,
    "start_time": "2023-07-01T08:12:47.087Z"
   },
   {
    "duration": 49,
    "start_time": "2023-07-01T08:13:43.191Z"
   },
   {
    "duration": 104,
    "start_time": "2023-07-01T08:14:13.686Z"
   },
   {
    "duration": 58,
    "start_time": "2023-07-01T08:14:38.785Z"
   },
   {
    "duration": 10,
    "start_time": "2023-07-01T08:16:52.042Z"
   },
   {
    "duration": 595,
    "start_time": "2023-07-01T08:21:59.036Z"
   },
   {
    "duration": 122,
    "start_time": "2023-07-01T08:21:59.633Z"
   },
   {
    "duration": 1767,
    "start_time": "2023-07-01T08:21:59.757Z"
   },
   {
    "duration": 1829,
    "start_time": "2023-07-01T08:22:01.526Z"
   },
   {
    "duration": 4,
    "start_time": "2023-07-01T08:22:03.357Z"
   },
   {
    "duration": 51,
    "start_time": "2023-07-01T08:22:03.363Z"
   },
   {
    "duration": 19,
    "start_time": "2023-07-01T08:22:03.415Z"
   },
   {
    "duration": 36,
    "start_time": "2023-07-01T08:22:03.436Z"
   },
   {
    "duration": 19,
    "start_time": "2023-07-01T08:22:03.474Z"
   },
   {
    "duration": 28,
    "start_time": "2023-07-01T08:22:03.496Z"
   },
   {
    "duration": 12,
    "start_time": "2023-07-01T08:22:03.526Z"
   },
   {
    "duration": 19,
    "start_time": "2023-07-01T08:22:03.539Z"
   },
   {
    "duration": 18,
    "start_time": "2023-07-01T08:22:03.560Z"
   },
   {
    "duration": 25,
    "start_time": "2023-07-01T08:22:03.580Z"
   },
   {
    "duration": 48,
    "start_time": "2023-07-01T08:22:03.607Z"
   },
   {
    "duration": 20,
    "start_time": "2023-07-01T08:22:03.657Z"
   },
   {
    "duration": 54,
    "start_time": "2023-07-01T08:22:03.679Z"
   },
   {
    "duration": 7,
    "start_time": "2023-07-01T08:22:03.735Z"
   },
   {
    "duration": 40,
    "start_time": "2023-07-01T08:22:03.744Z"
   },
   {
    "duration": 30,
    "start_time": "2023-07-01T08:22:03.786Z"
   },
   {
    "duration": 145,
    "start_time": "2023-07-01T08:22:03.817Z"
   },
   {
    "duration": 14,
    "start_time": "2023-07-01T08:22:03.964Z"
   },
   {
    "duration": 7,
    "start_time": "2023-07-01T08:22:03.980Z"
   },
   {
    "duration": 13,
    "start_time": "2023-07-01T08:22:03.988Z"
   },
   {
    "duration": 31,
    "start_time": "2023-07-01T08:22:04.003Z"
   },
   {
    "duration": 21,
    "start_time": "2023-07-01T08:22:04.035Z"
   },
   {
    "duration": 20,
    "start_time": "2023-07-01T08:22:04.058Z"
   },
   {
    "duration": 22,
    "start_time": "2023-07-01T08:22:04.082Z"
   },
   {
    "duration": 42,
    "start_time": "2023-07-01T08:22:04.106Z"
   },
   {
    "duration": 184,
    "start_time": "2023-07-01T08:22:04.149Z"
   },
   {
    "duration": 21,
    "start_time": "2023-07-01T08:22:04.335Z"
   },
   {
    "duration": 331,
    "start_time": "2023-07-01T08:22:04.357Z"
   },
   {
    "duration": 126,
    "start_time": "2023-07-01T08:22:04.690Z"
   },
   {
    "duration": 264,
    "start_time": "2023-07-01T08:22:04.818Z"
   },
   {
    "duration": 238,
    "start_time": "2023-07-01T08:22:05.084Z"
   },
   {
    "duration": 133,
    "start_time": "2023-07-01T08:22:05.324Z"
   },
   {
    "duration": 274,
    "start_time": "2023-07-01T08:22:05.458Z"
   },
   {
    "duration": 145,
    "start_time": "2023-07-01T08:22:05.733Z"
   },
   {
    "duration": 348,
    "start_time": "2023-07-01T08:22:05.880Z"
   },
   {
    "duration": 106,
    "start_time": "2023-07-01T08:22:06.231Z"
   },
   {
    "duration": 137,
    "start_time": "2023-07-01T08:22:06.339Z"
   },
   {
    "duration": 114,
    "start_time": "2023-07-01T08:22:06.478Z"
   },
   {
    "duration": 144,
    "start_time": "2023-07-01T08:22:06.594Z"
   },
   {
    "duration": 102,
    "start_time": "2023-07-01T08:22:06.740Z"
   },
   {
    "duration": 290,
    "start_time": "2023-07-01T08:22:06.844Z"
   },
   {
    "duration": 119,
    "start_time": "2023-07-01T08:22:07.136Z"
   },
   {
    "duration": 103,
    "start_time": "2023-07-01T08:22:07.256Z"
   },
   {
    "duration": 145,
    "start_time": "2023-07-01T08:22:07.360Z"
   },
   {
    "duration": 102,
    "start_time": "2023-07-01T08:22:07.507Z"
   },
   {
    "duration": 163,
    "start_time": "2023-07-01T08:22:07.610Z"
   },
   {
    "duration": 110,
    "start_time": "2023-07-01T08:22:07.774Z"
   },
   {
    "duration": 153,
    "start_time": "2023-07-01T08:22:07.886Z"
   },
   {
    "duration": 111,
    "start_time": "2023-07-01T08:22:08.041Z"
   },
   {
    "duration": 143,
    "start_time": "2023-07-01T08:22:08.154Z"
   },
   {
    "duration": 145,
    "start_time": "2023-07-01T08:22:08.299Z"
   },
   {
    "duration": 236,
    "start_time": "2023-07-01T08:22:08.445Z"
   },
   {
    "duration": 358,
    "start_time": "2023-07-01T08:22:08.682Z"
   },
   {
    "duration": 155,
    "start_time": "2023-07-01T08:22:09.041Z"
   },
   {
    "duration": 10,
    "start_time": "2023-07-01T08:22:09.198Z"
   },
   {
    "duration": 23,
    "start_time": "2023-07-01T08:22:09.210Z"
   },
   {
    "duration": 16,
    "start_time": "2023-07-01T08:22:09.235Z"
   },
   {
    "duration": 226,
    "start_time": "2023-07-01T08:22:09.253Z"
   },
   {
    "duration": 236,
    "start_time": "2023-07-01T08:22:09.481Z"
   },
   {
    "duration": 16,
    "start_time": "2023-07-01T08:22:09.719Z"
   },
   {
    "duration": 5,
    "start_time": "2023-07-01T08:22:09.736Z"
   },
   {
    "duration": 155,
    "start_time": "2023-07-01T08:22:09.742Z"
   },
   {
    "duration": 5,
    "start_time": "2023-07-01T08:22:09.899Z"
   },
   {
    "duration": 165,
    "start_time": "2023-07-01T08:22:09.905Z"
   },
   {
    "duration": 4,
    "start_time": "2023-07-01T08:22:10.071Z"
   },
   {
    "duration": 161,
    "start_time": "2023-07-01T08:22:10.077Z"
   },
   {
    "duration": 5,
    "start_time": "2023-07-01T08:22:10.239Z"
   },
   {
    "duration": 162,
    "start_time": "2023-07-01T08:22:10.245Z"
   },
   {
    "duration": 13,
    "start_time": "2023-07-01T08:22:10.408Z"
   },
   {
    "duration": 2,
    "start_time": "2023-07-01T08:22:10.431Z"
   },
   {
    "duration": 146,
    "start_time": "2023-07-01T08:22:10.434Z"
   },
   {
    "duration": 149,
    "start_time": "2023-07-01T08:22:10.582Z"
   },
   {
    "duration": 145,
    "start_time": "2023-07-01T08:22:10.733Z"
   },
   {
    "duration": 6,
    "start_time": "2023-07-01T08:22:10.880Z"
   },
   {
    "duration": 18,
    "start_time": "2023-07-01T08:22:10.888Z"
   },
   {
    "duration": 207,
    "start_time": "2023-07-01T08:22:10.907Z"
   },
   {
    "duration": 39,
    "start_time": "2023-07-01T08:22:11.116Z"
   },
   {
    "duration": 188,
    "start_time": "2023-07-01T08:22:11.161Z"
   },
   {
    "duration": 224,
    "start_time": "2023-07-01T08:23:00.795Z"
   },
   {
    "duration": 270,
    "start_time": "2023-07-01T08:23:13.861Z"
   },
   {
    "duration": 792,
    "start_time": "2023-07-01T08:32:24.357Z"
   },
   {
    "duration": 145,
    "start_time": "2023-07-01T08:32:25.151Z"
   },
   {
    "duration": 1871,
    "start_time": "2023-07-01T08:32:25.298Z"
   },
   {
    "duration": 1960,
    "start_time": "2023-07-01T08:32:27.171Z"
   },
   {
    "duration": 4,
    "start_time": "2023-07-01T08:32:29.133Z"
   },
   {
    "duration": 47,
    "start_time": "2023-07-01T08:32:29.139Z"
   },
   {
    "duration": 14,
    "start_time": "2023-07-01T08:32:29.188Z"
   },
   {
    "duration": 24,
    "start_time": "2023-07-01T08:32:29.203Z"
   },
   {
    "duration": 8,
    "start_time": "2023-07-01T08:32:29.228Z"
   },
   {
    "duration": 10,
    "start_time": "2023-07-01T08:32:29.238Z"
   },
   {
    "duration": 11,
    "start_time": "2023-07-01T08:32:29.249Z"
   },
   {
    "duration": 20,
    "start_time": "2023-07-01T08:32:29.262Z"
   },
   {
    "duration": 5,
    "start_time": "2023-07-01T08:32:29.284Z"
   },
   {
    "duration": 19,
    "start_time": "2023-07-01T08:32:29.290Z"
   },
   {
    "duration": 30,
    "start_time": "2023-07-01T08:32:29.311Z"
   },
   {
    "duration": 18,
    "start_time": "2023-07-01T08:32:29.343Z"
   },
   {
    "duration": 42,
    "start_time": "2023-07-01T08:32:29.362Z"
   },
   {
    "duration": 7,
    "start_time": "2023-07-01T08:32:29.406Z"
   },
   {
    "duration": 25,
    "start_time": "2023-07-01T08:32:29.414Z"
   },
   {
    "duration": 16,
    "start_time": "2023-07-01T08:32:29.440Z"
   },
   {
    "duration": 140,
    "start_time": "2023-07-01T08:32:29.458Z"
   },
   {
    "duration": 12,
    "start_time": "2023-07-01T08:32:29.600Z"
   },
   {
    "duration": 19,
    "start_time": "2023-07-01T08:32:29.614Z"
   },
   {
    "duration": 14,
    "start_time": "2023-07-01T08:32:29.635Z"
   },
   {
    "duration": 17,
    "start_time": "2023-07-01T08:32:29.650Z"
   },
   {
    "duration": 27,
    "start_time": "2023-07-01T08:32:29.668Z"
   },
   {
    "duration": 47,
    "start_time": "2023-07-01T08:32:29.696Z"
   },
   {
    "duration": 21,
    "start_time": "2023-07-01T08:32:29.748Z"
   },
   {
    "duration": 21,
    "start_time": "2023-07-01T08:32:29.771Z"
   },
   {
    "duration": 196,
    "start_time": "2023-07-01T08:32:29.794Z"
   },
   {
    "duration": 21,
    "start_time": "2023-07-01T08:32:29.993Z"
   },
   {
    "duration": 340,
    "start_time": "2023-07-01T08:32:30.016Z"
   },
   {
    "duration": 115,
    "start_time": "2023-07-01T08:32:30.357Z"
   },
   {
    "duration": 285,
    "start_time": "2023-07-01T08:32:30.474Z"
   },
   {
    "duration": 217,
    "start_time": "2023-07-01T08:32:30.761Z"
   },
   {
    "duration": 100,
    "start_time": "2023-07-01T08:32:30.980Z"
   },
   {
    "duration": 252,
    "start_time": "2023-07-01T08:32:31.082Z"
   },
   {
    "duration": 122,
    "start_time": "2023-07-01T08:32:31.335Z"
   },
   {
    "duration": 266,
    "start_time": "2023-07-01T08:32:31.459Z"
   },
   {
    "duration": 123,
    "start_time": "2023-07-01T08:32:31.727Z"
   },
   {
    "duration": 152,
    "start_time": "2023-07-01T08:32:31.851Z"
   },
   {
    "duration": 116,
    "start_time": "2023-07-01T08:32:32.004Z"
   },
   {
    "duration": 172,
    "start_time": "2023-07-01T08:32:32.122Z"
   },
   {
    "duration": 109,
    "start_time": "2023-07-01T08:32:32.296Z"
   },
   {
    "duration": 278,
    "start_time": "2023-07-01T08:32:32.407Z"
   },
   {
    "duration": 130,
    "start_time": "2023-07-01T08:32:32.686Z"
   },
   {
    "duration": 147,
    "start_time": "2023-07-01T08:32:32.818Z"
   },
   {
    "duration": 166,
    "start_time": "2023-07-01T08:32:32.967Z"
   },
   {
    "duration": 126,
    "start_time": "2023-07-01T08:32:33.135Z"
   },
   {
    "duration": 185,
    "start_time": "2023-07-01T08:32:33.263Z"
   },
   {
    "duration": 125,
    "start_time": "2023-07-01T08:32:33.450Z"
   },
   {
    "duration": 190,
    "start_time": "2023-07-01T08:32:33.577Z"
   },
   {
    "duration": 132,
    "start_time": "2023-07-01T08:32:33.769Z"
   },
   {
    "duration": 174,
    "start_time": "2023-07-01T08:32:33.903Z"
   },
   {
    "duration": 170,
    "start_time": "2023-07-01T08:32:34.079Z"
   },
   {
    "duration": 251,
    "start_time": "2023-07-01T08:32:34.251Z"
   },
   {
    "duration": 460,
    "start_time": "2023-07-01T08:32:34.503Z"
   },
   {
    "duration": 143,
    "start_time": "2023-07-01T08:32:34.965Z"
   },
   {
    "duration": 9,
    "start_time": "2023-07-01T08:32:35.109Z"
   },
   {
    "duration": 15,
    "start_time": "2023-07-01T08:32:35.119Z"
   },
   {
    "duration": 29,
    "start_time": "2023-07-01T08:32:35.135Z"
   },
   {
    "duration": 231,
    "start_time": "2023-07-01T08:32:35.166Z"
   },
   {
    "duration": 251,
    "start_time": "2023-07-01T08:32:35.399Z"
   },
   {
    "duration": 10,
    "start_time": "2023-07-01T08:32:35.651Z"
   },
   {
    "duration": 30,
    "start_time": "2023-07-01T08:32:35.662Z"
   },
   {
    "duration": 161,
    "start_time": "2023-07-01T08:32:35.693Z"
   },
   {
    "duration": 4,
    "start_time": "2023-07-01T08:32:35.856Z"
   },
   {
    "duration": 248,
    "start_time": "2023-07-01T08:32:35.862Z"
   },
   {
    "duration": 7,
    "start_time": "2023-07-01T08:32:36.112Z"
   },
   {
    "duration": 182,
    "start_time": "2023-07-01T08:32:36.120Z"
   },
   {
    "duration": 5,
    "start_time": "2023-07-01T08:32:36.303Z"
   },
   {
    "duration": 164,
    "start_time": "2023-07-01T08:32:36.309Z"
   },
   {
    "duration": 14,
    "start_time": "2023-07-01T08:32:36.475Z"
   },
   {
    "duration": 9,
    "start_time": "2023-07-01T08:32:36.491Z"
   },
   {
    "duration": 167,
    "start_time": "2023-07-01T08:32:36.503Z"
   },
   {
    "duration": 163,
    "start_time": "2023-07-01T08:32:36.672Z"
   },
   {
    "duration": 179,
    "start_time": "2023-07-01T08:32:36.837Z"
   },
   {
    "duration": 13,
    "start_time": "2023-07-01T08:32:37.018Z"
   },
   {
    "duration": 49,
    "start_time": "2023-07-01T08:32:37.033Z"
   },
   {
    "duration": 239,
    "start_time": "2023-07-01T08:32:37.084Z"
   },
   {
    "duration": 42,
    "start_time": "2023-07-01T08:32:37.325Z"
   },
   {
    "duration": 192,
    "start_time": "2023-07-01T08:32:37.374Z"
   },
   {
    "duration": 154739,
    "start_time": "2023-07-01T08:33:18.812Z"
   },
   {
    "duration": 619,
    "start_time": "2023-07-01T08:39:31.782Z"
   },
   {
    "duration": 130,
    "start_time": "2023-07-01T08:39:32.403Z"
   },
   {
    "duration": 1864,
    "start_time": "2023-07-01T08:39:32.536Z"
   },
   {
    "duration": 1794,
    "start_time": "2023-07-01T08:39:34.402Z"
   },
   {
    "duration": 3,
    "start_time": "2023-07-01T08:39:36.198Z"
   },
   {
    "duration": 22,
    "start_time": "2023-07-01T08:39:36.202Z"
   },
   {
    "duration": 24,
    "start_time": "2023-07-01T08:39:36.226Z"
   },
   {
    "duration": 41,
    "start_time": "2023-07-01T08:39:36.252Z"
   },
   {
    "duration": 8,
    "start_time": "2023-07-01T08:39:36.295Z"
   },
   {
    "duration": 26,
    "start_time": "2023-07-01T08:39:36.305Z"
   },
   {
    "duration": 16,
    "start_time": "2023-07-01T08:39:36.333Z"
   },
   {
    "duration": 21,
    "start_time": "2023-07-01T08:39:36.350Z"
   },
   {
    "duration": 13,
    "start_time": "2023-07-01T08:39:36.373Z"
   },
   {
    "duration": 39,
    "start_time": "2023-07-01T08:39:36.388Z"
   },
   {
    "duration": 28,
    "start_time": "2023-07-01T08:39:36.428Z"
   },
   {
    "duration": 16,
    "start_time": "2023-07-01T08:39:36.458Z"
   },
   {
    "duration": 49,
    "start_time": "2023-07-01T08:39:36.476Z"
   },
   {
    "duration": 15,
    "start_time": "2023-07-01T08:39:36.526Z"
   },
   {
    "duration": 30,
    "start_time": "2023-07-01T08:39:36.543Z"
   },
   {
    "duration": 20,
    "start_time": "2023-07-01T08:39:36.575Z"
   },
   {
    "duration": 157,
    "start_time": "2023-07-01T08:39:36.596Z"
   },
   {
    "duration": 13,
    "start_time": "2023-07-01T08:39:36.754Z"
   },
   {
    "duration": 23,
    "start_time": "2023-07-01T08:39:36.768Z"
   },
   {
    "duration": 33,
    "start_time": "2023-07-01T08:39:36.792Z"
   },
   {
    "duration": 14,
    "start_time": "2023-07-01T08:39:36.827Z"
   },
   {
    "duration": 35,
    "start_time": "2023-07-01T08:39:36.843Z"
   },
   {
    "duration": 32,
    "start_time": "2023-07-01T08:39:36.880Z"
   },
   {
    "duration": 19,
    "start_time": "2023-07-01T08:39:36.917Z"
   },
   {
    "duration": 35,
    "start_time": "2023-07-01T08:39:36.938Z"
   },
   {
    "duration": 173,
    "start_time": "2023-07-01T08:39:36.975Z"
   },
   {
    "duration": 23,
    "start_time": "2023-07-01T08:39:37.150Z"
   },
   {
    "duration": 255,
    "start_time": "2023-07-01T08:39:37.175Z"
   },
   {
    "duration": 108,
    "start_time": "2023-07-01T08:39:37.431Z"
   },
   {
    "duration": 279,
    "start_time": "2023-07-01T08:39:37.541Z"
   },
   {
    "duration": 197,
    "start_time": "2023-07-01T08:39:37.822Z"
   },
   {
    "duration": 96,
    "start_time": "2023-07-01T08:39:38.021Z"
   },
   {
    "duration": 239,
    "start_time": "2023-07-01T08:39:38.118Z"
   },
   {
    "duration": 111,
    "start_time": "2023-07-01T08:39:38.359Z"
   },
   {
    "duration": 264,
    "start_time": "2023-07-01T08:39:38.472Z"
   },
   {
    "duration": 102,
    "start_time": "2023-07-01T08:39:38.738Z"
   },
   {
    "duration": 133,
    "start_time": "2023-07-01T08:39:38.841Z"
   },
   {
    "duration": 106,
    "start_time": "2023-07-01T08:39:38.976Z"
   },
   {
    "duration": 148,
    "start_time": "2023-07-01T08:39:39.084Z"
   },
   {
    "duration": 87,
    "start_time": "2023-07-01T08:39:39.233Z"
   },
   {
    "duration": 255,
    "start_time": "2023-07-01T08:39:39.331Z"
   },
   {
    "duration": 123,
    "start_time": "2023-07-01T08:39:39.587Z"
   },
   {
    "duration": 105,
    "start_time": "2023-07-01T08:39:39.712Z"
   },
   {
    "duration": 144,
    "start_time": "2023-07-01T08:39:39.819Z"
   },
   {
    "duration": 112,
    "start_time": "2023-07-01T08:39:39.965Z"
   },
   {
    "duration": 153,
    "start_time": "2023-07-01T08:39:40.078Z"
   },
   {
    "duration": 102,
    "start_time": "2023-07-01T08:39:40.233Z"
   },
   {
    "duration": 154,
    "start_time": "2023-07-01T08:39:40.336Z"
   },
   {
    "duration": 108,
    "start_time": "2023-07-01T08:39:40.492Z"
   },
   {
    "duration": 155,
    "start_time": "2023-07-01T08:39:40.602Z"
   },
   {
    "duration": 145,
    "start_time": "2023-07-01T08:39:40.758Z"
   },
   {
    "duration": 239,
    "start_time": "2023-07-01T08:39:40.904Z"
   },
   {
    "duration": 324,
    "start_time": "2023-07-01T08:39:41.145Z"
   },
   {
    "duration": 120,
    "start_time": "2023-07-01T08:39:41.471Z"
   },
   {
    "duration": 8,
    "start_time": "2023-07-01T08:39:41.593Z"
   },
   {
    "duration": 3,
    "start_time": "2023-07-01T08:39:41.602Z"
   },
   {
    "duration": 7,
    "start_time": "2023-07-01T08:39:41.606Z"
   },
   {
    "duration": 230,
    "start_time": "2023-07-01T08:39:41.614Z"
   },
   {
    "duration": 222,
    "start_time": "2023-07-01T08:39:41.846Z"
   },
   {
    "duration": 8,
    "start_time": "2023-07-01T08:39:42.070Z"
   },
   {
    "duration": 4,
    "start_time": "2023-07-01T08:39:42.080Z"
   },
   {
    "duration": 157,
    "start_time": "2023-07-01T08:39:42.085Z"
   },
   {
    "duration": 4,
    "start_time": "2023-07-01T08:39:42.244Z"
   },
   {
    "duration": 152,
    "start_time": "2023-07-01T08:39:42.249Z"
   },
   {
    "duration": 4,
    "start_time": "2023-07-01T08:39:42.402Z"
   },
   {
    "duration": 145,
    "start_time": "2023-07-01T08:39:42.408Z"
   },
   {
    "duration": 4,
    "start_time": "2023-07-01T08:39:42.555Z"
   },
   {
    "duration": 157,
    "start_time": "2023-07-01T08:39:42.560Z"
   },
   {
    "duration": 22,
    "start_time": "2023-07-01T08:39:42.719Z"
   },
   {
    "duration": 2,
    "start_time": "2023-07-01T08:39:42.743Z"
   },
   {
    "duration": 158678,
    "start_time": "2023-07-01T08:39:42.746Z"
   },
   {
    "duration": 156,
    "start_time": "2023-07-01T08:42:21.425Z"
   },
   {
    "duration": 149,
    "start_time": "2023-07-01T08:42:21.582Z"
   },
   {
    "duration": 6,
    "start_time": "2023-07-01T08:42:21.733Z"
   },
   {
    "duration": 26,
    "start_time": "2023-07-01T08:42:21.740Z"
   },
   {
    "duration": 188,
    "start_time": "2023-07-01T08:42:21.768Z"
   },
   {
    "duration": 27,
    "start_time": "2023-07-01T08:42:21.957Z"
   },
   {
    "duration": 213,
    "start_time": "2023-07-01T08:42:21.990Z"
   },
   {
    "duration": 2,
    "start_time": "2023-07-01T08:42:22.206Z"
   },
   {
    "duration": 140,
    "start_time": "2023-07-01T08:43:35.379Z"
   },
   {
    "duration": 119,
    "start_time": "2023-07-01T08:44:55.106Z"
   },
   {
    "duration": 158,
    "start_time": "2023-07-01T08:46:19.403Z"
   },
   {
    "duration": 131,
    "start_time": "2023-07-01T08:46:49.079Z"
   },
   {
    "duration": 1009,
    "start_time": "2023-07-01T11:49:34.162Z"
   },
   {
    "duration": 749,
    "start_time": "2023-07-01T11:49:35.173Z"
   },
   {
    "duration": 2274,
    "start_time": "2023-07-01T11:49:35.924Z"
   },
   {
    "duration": 2314,
    "start_time": "2023-07-01T11:49:38.200Z"
   },
   {
    "duration": 5,
    "start_time": "2023-07-01T11:49:40.516Z"
   },
   {
    "duration": 25,
    "start_time": "2023-07-01T11:49:40.522Z"
   },
   {
    "duration": 32,
    "start_time": "2023-07-01T11:49:40.556Z"
   },
   {
    "duration": 17,
    "start_time": "2023-07-01T11:49:40.590Z"
   },
   {
    "duration": 19,
    "start_time": "2023-07-01T11:49:40.609Z"
   },
   {
    "duration": 22,
    "start_time": "2023-07-01T11:49:40.631Z"
   },
   {
    "duration": 5,
    "start_time": "2023-07-01T11:49:40.654Z"
   },
   {
    "duration": 21,
    "start_time": "2023-07-01T11:49:40.661Z"
   },
   {
    "duration": 22,
    "start_time": "2023-07-01T11:49:40.683Z"
   },
   {
    "duration": 7,
    "start_time": "2023-07-01T11:49:40.707Z"
   },
   {
    "duration": 13,
    "start_time": "2023-07-01T11:49:40.716Z"
   },
   {
    "duration": 45,
    "start_time": "2023-07-01T11:49:40.730Z"
   },
   {
    "duration": 18,
    "start_time": "2023-07-01T11:49:40.776Z"
   },
   {
    "duration": 84,
    "start_time": "2023-07-01T11:49:40.796Z"
   },
   {
    "duration": 11,
    "start_time": "2023-07-01T11:49:40.882Z"
   },
   {
    "duration": 20,
    "start_time": "2023-07-01T11:49:40.896Z"
   },
   {
    "duration": 16,
    "start_time": "2023-07-01T11:49:40.918Z"
   },
   {
    "duration": 187,
    "start_time": "2023-07-01T11:49:40.957Z"
   },
   {
    "duration": 24,
    "start_time": "2023-07-01T11:49:41.146Z"
   },
   {
    "duration": 25,
    "start_time": "2023-07-01T11:49:41.172Z"
   },
   {
    "duration": 8,
    "start_time": "2023-07-01T11:49:41.199Z"
   },
   {
    "duration": 8,
    "start_time": "2023-07-01T11:49:41.209Z"
   },
   {
    "duration": 45,
    "start_time": "2023-07-01T11:49:41.219Z"
   },
   {
    "duration": 27,
    "start_time": "2023-07-01T11:49:41.270Z"
   },
   {
    "duration": 27,
    "start_time": "2023-07-01T11:49:41.298Z"
   },
   {
    "duration": 51,
    "start_time": "2023-07-01T11:49:41.328Z"
   },
   {
    "duration": 25,
    "start_time": "2023-07-01T11:49:41.380Z"
   },
   {
    "duration": 252,
    "start_time": "2023-07-01T11:49:41.407Z"
   },
   {
    "duration": 30,
    "start_time": "2023-07-01T11:49:41.666Z"
   },
   {
    "duration": 323,
    "start_time": "2023-07-01T11:49:41.698Z"
   },
   {
    "duration": 139,
    "start_time": "2023-07-01T11:49:42.022Z"
   },
   {
    "duration": 315,
    "start_time": "2023-07-01T11:49:42.168Z"
   },
   {
    "duration": 272,
    "start_time": "2023-07-01T11:49:42.485Z"
   },
   {
    "duration": 114,
    "start_time": "2023-07-01T11:49:42.758Z"
   },
   {
    "duration": 319,
    "start_time": "2023-07-01T11:49:42.874Z"
   },
   {
    "duration": 175,
    "start_time": "2023-07-01T11:49:43.195Z"
   },
   {
    "duration": 325,
    "start_time": "2023-07-01T11:49:43.375Z"
   },
   {
    "duration": 127,
    "start_time": "2023-07-01T11:49:43.702Z"
   },
   {
    "duration": 195,
    "start_time": "2023-07-01T11:49:43.832Z"
   },
   {
    "duration": 160,
    "start_time": "2023-07-01T11:49:44.029Z"
   },
   {
    "duration": 197,
    "start_time": "2023-07-01T11:49:44.192Z"
   },
   {
    "duration": 129,
    "start_time": "2023-07-01T11:49:44.391Z"
   },
   {
    "duration": 351,
    "start_time": "2023-07-01T11:49:44.522Z"
   },
   {
    "duration": 141,
    "start_time": "2023-07-01T11:49:44.875Z"
   },
   {
    "duration": 153,
    "start_time": "2023-07-01T11:49:45.018Z"
   },
   {
    "duration": 186,
    "start_time": "2023-07-01T11:49:45.177Z"
   },
   {
    "duration": 133,
    "start_time": "2023-07-01T11:49:45.365Z"
   },
   {
    "duration": 185,
    "start_time": "2023-07-01T11:49:45.501Z"
   },
   {
    "duration": 157,
    "start_time": "2023-07-01T11:49:45.689Z"
   },
   {
    "duration": 192,
    "start_time": "2023-07-01T11:49:45.849Z"
   },
   {
    "duration": 133,
    "start_time": "2023-07-01T11:49:46.043Z"
   },
   {
    "duration": 194,
    "start_time": "2023-07-01T11:49:46.178Z"
   },
   {
    "duration": 202,
    "start_time": "2023-07-01T11:49:46.374Z"
   },
   {
    "duration": 339,
    "start_time": "2023-07-01T11:49:46.578Z"
   },
   {
    "duration": 559,
    "start_time": "2023-07-01T11:49:46.918Z"
   },
   {
    "duration": 204,
    "start_time": "2023-07-01T11:49:47.481Z"
   },
   {
    "duration": 12,
    "start_time": "2023-07-01T11:49:47.687Z"
   },
   {
    "duration": 4,
    "start_time": "2023-07-01T11:49:47.702Z"
   },
   {
    "duration": 23,
    "start_time": "2023-07-01T11:49:47.709Z"
   },
   {
    "duration": 336,
    "start_time": "2023-07-01T11:49:47.735Z"
   },
   {
    "duration": 347,
    "start_time": "2023-07-01T11:49:48.073Z"
   },
   {
    "duration": 13,
    "start_time": "2023-07-01T11:49:48.423Z"
   },
   {
    "duration": 51,
    "start_time": "2023-07-01T11:49:48.439Z"
   },
   {
    "duration": 301,
    "start_time": "2023-07-01T11:49:48.493Z"
   },
   {
    "duration": 7,
    "start_time": "2023-07-01T11:49:48.796Z"
   },
   {
    "duration": 238,
    "start_time": "2023-07-01T11:49:48.804Z"
   },
   {
    "duration": 8,
    "start_time": "2023-07-01T11:49:49.044Z"
   },
   {
    "duration": 196,
    "start_time": "2023-07-01T11:49:49.053Z"
   },
   {
    "duration": 9,
    "start_time": "2023-07-01T11:49:49.251Z"
   },
   {
    "duration": 230,
    "start_time": "2023-07-01T11:49:49.262Z"
   },
   {
    "duration": 16,
    "start_time": "2023-07-01T11:49:49.494Z"
   },
   {
    "duration": 3,
    "start_time": "2023-07-01T11:49:49.512Z"
   },
   {
    "duration": 172,
    "start_time": "2023-07-01T11:49:49.517Z"
   },
   {
    "duration": 284,
    "start_time": "2023-07-01T11:49:49.692Z"
   },
   {
    "duration": 216,
    "start_time": "2023-07-01T11:49:49.979Z"
   },
   {
    "duration": 9,
    "start_time": "2023-07-01T11:49:50.198Z"
   },
   {
    "duration": 30,
    "start_time": "2023-07-01T11:49:50.209Z"
   },
   {
    "duration": 304,
    "start_time": "2023-07-01T11:49:50.260Z"
   },
   {
    "duration": 50,
    "start_time": "2023-07-01T11:49:50.573Z"
   },
   {
    "duration": 236,
    "start_time": "2023-07-01T11:49:50.626Z"
   }
  ],
  "kernelspec": {
   "display_name": "Python 3 (ipykernel)",
   "language": "python",
   "name": "python3"
  },
  "language_info": {
   "codemirror_mode": {
    "name": "ipython",
    "version": 3
   },
   "file_extension": ".py",
   "mimetype": "text/x-python",
   "name": "python",
   "nbconvert_exporter": "python",
   "pygments_lexer": "ipython3",
   "version": "3.10.9"
  },
  "toc": {
   "base_numbering": 1,
   "nav_menu": {},
   "number_sections": true,
   "sideBar": true,
   "skip_h1_title": true,
   "title_cell": "Table of Contents",
   "title_sidebar": "Contents",
   "toc_cell": false,
   "toc_position": {
    "height": "calc(100% - 180px)",
    "left": "10px",
    "top": "150px",
    "width": "309.887px"
   },
   "toc_section_display": true,
   "toc_window_display": true
  }
 },
 "nbformat": 4,
 "nbformat_minor": 2
}
